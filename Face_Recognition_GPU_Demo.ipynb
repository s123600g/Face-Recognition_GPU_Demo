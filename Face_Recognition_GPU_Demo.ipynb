{
  "nbformat": 4,
  "nbformat_minor": 0,
  "metadata": {
    "colab": {
      "name": "Face Recognition_GPU_Demo.ipynb",
      "version": "0.3.2",
      "provenance": [],
      "collapsed_sections": []
    },
    "kernelspec": {
      "name": "python3",
      "display_name": "Python 3"
    },
    "accelerator": "GPU"
  },
  "cells": [
    {
      "metadata": {
        "id": "AMX09CyDVfK7",
        "colab_type": "text"
      },
      "cell_type": "markdown",
      "source": [
        "# 資料集簡介\n",
        "\n",
        "---\n",
        "\n"
      ]
    },
    {
      "metadata": {
        "id": "bySgxBYcVk-f",
        "colab_type": "text"
      },
      "cell_type": "markdown",
      "source": [
        "臉部圖片資料集：***Celebrity-Face-Recognition-Dataset***\n",
        "\n",
        "來源 :　[https://github.com/prateekmehta59/Celebrity-Face-Recognition-Dataset](https://github.com/prateekmehta59/Celebrity-Face-Recognition-Dataset)\n",
        "\n",
        "1.  80萬張臉部圖片\n",
        "2.  1100位最受歡迎的名人組成\n",
        "1.   每一位名人臉部張數約為700-800張之間\n",
        "2.   臉部資料集大小共有 172 GB\n",
        "\n",
        "\n",
        "---\n",
        "\n"
      ]
    },
    {
      "metadata": {
        "id": "kxN5RB5sXEd1",
        "colab_type": "text"
      },
      "cell_type": "markdown",
      "source": [
        "**本專案程式使用的資料集設置**\n",
        "\n",
        "\n",
        "---\n",
        "使用６位名人的臉部圖片作為資料集來源使用。\n",
        "\n",
        "分別為：\n",
        "\n",
        "1. 'Aaron Judge'\n",
        "\n",
        "2. 'Ben Stiller'\n",
        "\n",
        "3. 'Ice Cube'\n",
        "\n",
        "4. 'Adam Sandler'\n",
        "\n",
        "5. 'Emily Watson'\t\n",
        "\n",
        "6. 'Jean Reno'\n",
        "\n",
        "\n",
        "每一位名人臉部圖片數量為90張。\n"
      ]
    },
    {
      "metadata": {
        "id": "BRN2yeabVmMN",
        "colab_type": "text"
      },
      "cell_type": "markdown",
      "source": [
        "---\n",
        "\n",
        "**臉部預測樣本設定**\n",
        "\n",
        "\n",
        "---\n",
        "\n",
        "\n",
        "每一位名人取出 4 張未存在訓練樣本裡臉部圖片，作為後面模型預測來源依據。"
      ]
    },
    {
      "metadata": {
        "colab_type": "text",
        "id": "JtDlEwdNK3OL"
      },
      "cell_type": "markdown",
      "source": [
        "#1. 建立目錄"
      ]
    },
    {
      "metadata": {
        "id": "Psy7ET3V-frN",
        "colab_type": "code",
        "outputId": "9a7b46da-0e38-4f8a-9b88-6a472dfba0e9",
        "colab": {
          "base_uri": "https://localhost:8080/",
          "height": 34
        }
      },
      "cell_type": "code",
      "source": [
        "#顯示當前位置\n",
        "!pwd"
      ],
      "execution_count": 0,
      "outputs": [
        {
          "output_type": "stream",
          "text": [
            "/content\n"
          ],
          "name": "stdout"
        }
      ]
    },
    {
      "metadata": {
        "id": "mAQmGoeZEkKj",
        "colab_type": "code",
        "colab": {}
      },
      "cell_type": "code",
      "source": [
        "#建立Model存放目錄\n",
        "!mkdir Model"
      ],
      "execution_count": 0,
      "outputs": []
    },
    {
      "metadata": {
        "id": "xMmkbZR5FDcK",
        "colab_type": "code",
        "colab": {}
      },
      "cell_type": "code",
      "source": [
        "#建立log存放目錄\n",
        "!mkdir log"
      ],
      "execution_count": 0,
      "outputs": []
    },
    {
      "metadata": {
        "id": "UMXIsUolFROt",
        "colab_type": "code",
        "colab": {}
      },
      "cell_type": "code",
      "source": [
        "#建立plot_figure存放目錄\n",
        "!mkdir plot_figure"
      ],
      "execution_count": 0,
      "outputs": []
    },
    {
      "metadata": {
        "id": "hiuJz0mlErfS",
        "colab_type": "code",
        "outputId": "0a7f4721-0640-4629-fe4d-0fc4b2face2b",
        "colab": {
          "base_uri": "https://localhost:8080/",
          "height": 34
        }
      },
      "cell_type": "code",
      "source": [
        "#顯示底下所有檔案清單\n",
        "!ls"
      ],
      "execution_count": 0,
      "outputs": [
        {
          "output_type": "stream",
          "text": [
            "log  Model  plot_figure  sample_data\n"
          ],
          "name": "stdout"
        }
      ]
    },
    {
      "metadata": {
        "id": "AWkKWbOs-Igu",
        "colab_type": "text"
      },
      "cell_type": "markdown",
      "source": [
        "# 2.掛載Google Drive(圖片放置在Google雲端空間)"
      ]
    },
    {
      "metadata": {
        "id": "sDiSWEvp2ijo",
        "colab_type": "code",
        "colab": {}
      },
      "cell_type": "code",
      "source": [
        "from google.colab import drive\n",
        "drive.mount('/content/gdrive')"
      ],
      "execution_count": 0,
      "outputs": []
    },
    {
      "metadata": {
        "id": "S8w0R31LCIBJ",
        "colab_type": "code",
        "outputId": "fe204dd7-623e-46e9-82bb-454c5ac004a4",
        "colab": {
          "base_uri": "https://localhost:8080/",
          "height": 52
        }
      },
      "cell_type": "code",
      "source": [
        "#顯示當前位置\n",
        "!pwd\n",
        "\n",
        "#顯示底下所有檔案清單\n",
        "!ls"
      ],
      "execution_count": 0,
      "outputs": [
        {
          "output_type": "stream",
          "text": [
            "/content\n",
            "gdrive\tlog  Model  plot_figure  sample_data\n"
          ],
          "name": "stdout"
        }
      ]
    },
    {
      "metadata": {
        "id": "9Zmxn45mCbkw",
        "colab_type": "code",
        "outputId": "79aadb84-7c43-42f1-8515-569556193a4a",
        "colab": {
          "base_uri": "https://localhost:8080/",
          "height": 52
        }
      },
      "cell_type": "code",
      "source": [
        "#顯示FaceImg底下檔案清單\n",
        "!ls '/content/gdrive/My Drive/Your file path'"
      ],
      "execution_count": 0,
      "outputs": [
        {
          "output_type": "stream",
          "text": [
            "'Aaron Judge'\t'Ben Stiller'\t'Ice Cube'\n",
            "'Adam Sandler'\t'Emily Watson'\t'Jean Reno'\n"
          ],
          "name": "stdout"
        }
      ]
    },
    {
      "metadata": {
        "id": "cEGm8nsxD7IZ",
        "colab_type": "code",
        "outputId": "67faef25-895e-43c4-91da-9996ee49c13d",
        "colab": {
          "base_uri": "https://localhost:8080/",
          "height": 191
        }
      },
      "cell_type": "code",
      "source": [
        "#顯示FaceImg底下'Adam Sandler'檔案清單\n",
        "!ls '/content/gdrive/My Drive/Your file path'"
      ],
      "execution_count": 0,
      "outputs": [
        {
          "output_type": "stream",
          "text": [
            "10.jpg\t 181.jpg  238.jpg  39.jpg  50.jpg   641.jpg  67.jpg   742.jpg  77.jpg\n",
            "11.jpg\t 183.jpg  246.jpg  3.jpg   52.jpg   642.jpg  68.jpg   744.jpg  78.jpg\n",
            "12.jpg\t 189.jpg  24.jpg   40.jpg  56.jpg   648.jpg  695.jpg  74.jpg   79.jpg\n",
            "13.jpg\t 18.jpg   25.jpg   42.jpg  572.jpg  649.jpg  6.jpg    752.jpg  80.jpg\n",
            "14.jpg\t 1.jpg\t  275.jpg  43.jpg  5.jpg    64.jpg   701.jpg  754.jpg  81.jpg\n",
            "16.jpg\t 21.jpg   29.jpg   44.jpg  616.jpg  652.jpg  702.jpg  755.jpg  82.jpg\n",
            "175.jpg  223.jpg  2.jpg    45.jpg  617.jpg  65.jpg   708.jpg  756.jpg  83.jpg\n",
            "176.jpg  228.jpg  32.jpg   46.jpg  636.jpg  666.jpg  70.jpg   763.jpg  89.jpg\n",
            "178.jpg  22.jpg   33.jpg   47.jpg  638.jpg  673.jpg  719.jpg  768.jpg  8.jpg\n",
            "17.jpg\t 237.jpg  36.jpg   49.jpg  639.jpg  674.jpg  720.jpg  769.jpg  92.jpg\n"
          ],
          "name": "stdout"
        }
      ]
    },
    {
      "metadata": {
        "id": "ft5b2ciZF1my",
        "colab_type": "code",
        "outputId": "f1ea0b67-b9ad-4ea5-c7b4-49e8c805bafa",
        "colab": {
          "base_uri": "https://localhost:8080/",
          "height": 52
        }
      },
      "cell_type": "code",
      "source": [
        "#顯示PredictFaceimg底下檔案清單\n",
        "!ls '/content/gdrive/My Drive/Your file path'"
      ],
      "execution_count": 0,
      "outputs": [
        {
          "output_type": "stream",
          "text": [
            "'Aaron Judge'\t'Ben Stiller'\t'Ice Cube'\n",
            "'Adam Sandler'\t'Emily Watson'\t'Jean Reno'\n"
          ],
          "name": "stdout"
        }
      ]
    },
    {
      "metadata": {
        "id": "6mykQQykF9NE",
        "colab_type": "code",
        "outputId": "e17eb343-3880-4470-def1-d544185a1900",
        "colab": {
          "base_uri": "https://localhost:8080/",
          "height": 52
        }
      },
      "cell_type": "code",
      "source": [
        "#顯示PredictFaceimg底下'Adam Sandler'檔案清單\n",
        "!ls '/content/gdrive/My Drive/Your file path'"
      ],
      "execution_count": 0,
      "outputs": [
        {
          "output_type": "stream",
          "text": [
            "'Adam Sandler_01.jpg'  'Adam Sandler_03.jpg'\n",
            "'Adam Sandler_02.jpg'  'Adam Sandler_04.jpg'\n"
          ],
          "name": "stdout"
        }
      ]
    },
    {
      "metadata": {
        "id": "r2P87hS4YMpq",
        "colab_type": "code",
        "outputId": "8d769866-4d00-4266-dffb-b8862bf93df1",
        "colab": {
          "base_uri": "https://localhost:8080/",
          "height": 34
        }
      },
      "cell_type": "code",
      "source": [
        "#顯示Facelabeldb底下檔案清單\n",
        "!ls '/content/gdrive/My Drive/Your file path'"
      ],
      "execution_count": 0,
      "outputs": [
        {
          "output_type": "stream",
          "text": [
            "facelabel.db  facelabel.db3\n"
          ],
          "name": "stdout"
        }
      ]
    },
    {
      "metadata": {
        "id": "esKqQL5dEHQq",
        "colab_type": "text"
      },
      "cell_type": "markdown",
      "source": [
        "# 3.Import Python Package"
      ]
    },
    {
      "metadata": {
        "id": "7pVPm0Dmhr-k",
        "colab_type": "code",
        "outputId": "6c1be7d8-addd-413c-a12f-d34bb39a3408",
        "colab": {
          "base_uri": "https://localhost:8080/",
          "height": 86
        }
      },
      "cell_type": "code",
      "source": [
        "!pip install sklearn"
      ],
      "execution_count": 0,
      "outputs": [
        {
          "output_type": "stream",
          "text": [
            "Requirement already satisfied: sklearn in /usr/local/lib/python3.6/dist-packages (0.0)\n",
            "Requirement already satisfied: scikit-learn in /usr/local/lib/python3.6/dist-packages (from sklearn) (0.20.1)\n",
            "Requirement already satisfied: scipy>=0.13.3 in /usr/local/lib/python3.6/dist-packages (from scikit-learn->sklearn) (1.1.0)\n",
            "Requirement already satisfied: numpy>=1.8.2 in /usr/local/lib/python3.6/dist-packages (from scikit-learn->sklearn) (1.14.6)\n"
          ],
          "name": "stdout"
        }
      ]
    },
    {
      "metadata": {
        "id": "pUvnwb8QEFmT",
        "colab_type": "code",
        "colab": {}
      },
      "cell_type": "code",
      "source": [
        "from keras.preprocessing.image import ImageDataGenerator\n",
        "from tensorflow.python.client import device_lib\n",
        "from keras import backend as K\n",
        "from keras.models import Model\n",
        "# https://stackoverflow.com/questions/30667525/importerror-no-module-named-sklearn-cross-validation\n",
        "from sklearn.model_selection import train_test_split\n",
        "from keras.utils import np_utils\n",
        "from keras.models import Sequential , Model\n",
        "from keras.layers import Dense, Dropout, Activation, Flatten\n",
        "from keras.layers import Conv2D, MaxPooling2D\n",
        "from keras.optimizers import SGD, RMSprop, Adam, Adagrad, Adadelta\n",
        "from keras.models import load_model\n",
        "from keras.preprocessing import image\n",
        "from keras.applications.imagenet_utils import decode_predictions \n",
        "\n",
        "import matplotlib.pyplot as plt\n",
        "import random\n",
        "import keras\n",
        "import keras.backend.tensorflow_backend as KTF\n",
        "import tensorflow as tf\n",
        "import keras\n",
        "import time\n",
        "import os\n",
        "import numpy as np\n",
        "import cv2\n",
        "import sqlite3"
      ],
      "execution_count": 0,
      "outputs": []
    },
    {
      "metadata": {
        "id": "Dbd4BL-SG7FL",
        "colab_type": "text"
      },
      "cell_type": "markdown",
      "source": [
        "# 4.參數設置"
      ]
    },
    {
      "metadata": {
        "id": "lIt9j6m6G6IE",
        "colab_type": "code",
        "colab": {}
      },
      "cell_type": "code",
      "source": [
        "gpu_no = \"0\" # GPU_index\n",
        "# setting use GPU run\n",
        "os.environ[\"CUDA_VISIBLE_DEVICES\"] = gpu_no\n",
        "#use_GPU = ['/gpu:0']\n",
        "#use_GPU = ['/gpu:0','/gpu:1']\n",
        "n_GPU = '/gpu:0'\n",
        "I_CPU = '/cpu:0'\n",
        "\n",
        "## GPU memory limit\n",
        "#config = tf.ConfigProto(device_count={'gpu':0})\n",
        "##config.gpu_options.per_process_gpu_memory_fraction = 0.3\n",
        "#config.gpu_options.allow_growth = True\n",
        "#session = tf.Session(config=config)\n",
        "#KTF.set_session(session)"
      ],
      "execution_count": 0,
      "outputs": []
    },
    {
      "metadata": {
        "id": "MCr0aUbtHTcN",
        "colab_type": "code",
        "colab": {}
      },
      "cell_type": "code",
      "source": [
        "# ----------------------------------- Face Image Path ----------------------------------- \n",
        "\n",
        "# check current project location path\n",
        "currentPath = os.getcwd()\n",
        "print(\"Current Path: \" + currentPath)\n",
        "\n",
        "# select face data class\n",
        "face_class = 6\n",
        "\n",
        "# Figure storage directory\n",
        "faceimg_dir = currentPath + '/gdrive/My Drive/Your file path'\n",
        "\n",
        "# Predict of face img storage path\n",
        "predict_faceimg_path = currentPath + '/gdrive/My Drive/Your file path'\n",
        "\n",
        "# figure storage directory\n",
        "figure_dir = currentPath + '/plot_figure/'\n",
        "\n",
        "# figure classname\n",
        "figure_classname = 'face_'+str(face_class)\n",
        "\n",
        "# Save model and weight name\n",
        "h5_model_name = currentPath + \"/Model/FaceID_C\" + str(face_class) + \"_model.h5\"\n",
        "h5_model_weight_name = currentPath + \"/Model/FaceID_C\"+ str(face_class) + \"_weight.h5\"\n",
        "\n",
        "# Face image file type\n",
        "faceimg_type = \".jpg\"\n",
        "\n",
        "# Image resize\n",
        "img_resize = 96\n",
        "\n",
        "# Time format settings\n",
        "time_format = '%Y-%m-%d %H:%M:%S'\n",
        "\n",
        "print(\"faceimg_dir: {}\".format(faceimg_dir))\n",
        "print(\"predict_faceimg_path: {}\".format(predict_faceimg_path))\n",
        "print(\"h5_model_name: {}\".format(h5_model_name))\n",
        "print(\"h5_model_weight_name: {}\".format(h5_model_weight_name))"
      ],
      "execution_count": 0,
      "outputs": []
    },
    {
      "metadata": {
        "id": "QyOhGszMMDgv",
        "colab_type": "code",
        "colab": {}
      },
      "cell_type": "code",
      "source": [
        "# ----------------------------------- Variable  declard ----------------------------------- \n",
        "\n",
        "# Image dataset array declard\n",
        "images = []\n",
        "labels = []\n",
        "label_class = []\n",
        "\n",
        "# Train dataset\n",
        "train_images = None # x\n",
        "train_labels = None # y\n",
        "\n",
        "# Valid dataset\n",
        "valid_images = None # x\n",
        "valid_labels = None # y\n",
        "\n",
        "# Test dataset\n",
        "test_images = None # x\n",
        "test_labels = None # y\n",
        "\n",
        "# Model declard\n",
        "net_model = Model()\n",
        "history = None\n",
        "\n",
        "datagen = ImageDataGenerator()\n",
        "\n",
        "# Train history declard\n",
        "history = None\n",
        "\n",
        "# SQL arguments settings\n",
        "SQLite_name = \"facelabel.db3\"\n",
        "dbconn = sqlite3.connect(currentPath+'/gdrive/My Drive/Your file path'+SQLite_name)\n",
        "curs = dbconn.cursor()\n",
        "db_TableName = 'facelabel'\n",
        "column_faceindex = 'faceindex'\n",
        "column_facename = 'facename'"
      ],
      "execution_count": 0,
      "outputs": []
    },
    {
      "metadata": {
        "id": "5Bzhgal3POQx",
        "colab_type": "text"
      },
      "cell_type": "markdown",
      "source": [
        "# 5.方法宣告"
      ]
    },
    {
      "metadata": {
        "id": "dYlRhjX9-PDF",
        "colab_type": "text"
      },
      "cell_type": "markdown",
      "source": [
        "**5.1讀取圖片**"
      ]
    },
    {
      "metadata": {
        "id": "ZdWd_IpIPRK5",
        "colab_type": "code",
        "colab": {}
      },
      "cell_type": "code",
      "source": [
        "def load_faceimg(faceimgpath,imgtype,img_resize):\n",
        "    \n",
        "    load_index = 0\n",
        "    images = [] # face image\n",
        "    labels = [] # face label\n",
        "    label_class = []\n",
        "\n",
        "    print(\"Start Scanning faceimg folder image class.\\n\")\n",
        "\n",
        "    # run SQL DB Table clearn\n",
        "    SQL_delete_syntax = '''\n",
        "    DELETE FROM {}\n",
        "    '''.format(db_TableName)\n",
        "    \n",
        "    SQL_run = curs.execute(SQL_delete_syntax)\n",
        "\n",
        "    if SQL_run:\n",
        "\n",
        "        dbconn.commit()\n",
        "\n",
        "    else:\n",
        "\n",
        "        print ('Run SQL_delete_syntax Faild.')\n",
        "\n",
        "    # scan faceimg folder\n",
        "    for dir_item in os.listdir(faceimgpath):\n",
        "\n",
        "        #print(\"No.\"+str(load_index)+\" [ \"+dir_item+\" ]\")\n",
        "        print(\"\\nNo.{} [ {} ]\".format(str(load_index),dir_item))\n",
        "        \n",
        "        load_index+=1\n",
        "        label_class.append(dir_item)\n",
        "\n",
        "        # join root directory and class folder name\n",
        "        full_path = os.path.abspath(os.path.join(faceimgpath) + dir_item)\n",
        "        print(\"Full Detail Path = {}\".format(full_path))\n",
        "\n",
        "        class_name = dir_item\n",
        "#         print(\"Class: {}\".format(class_name))\n",
        "        num_img = 0\n",
        "\n",
        "        # read image\n",
        "        for dir_item in os.listdir(full_path):\n",
        "\n",
        "#             print(dir_item)\n",
        "            num_img+=1\n",
        "            img_path = \"\"\n",
        "\n",
        "            if dir_item.endswith(imgtype)and os.path.exists(str(full_path)):\n",
        "\n",
        "                img_path = os.path.abspath(os.path.join(full_path) + \"/\" + dir_item)\n",
        "                #print(img_path)\n",
        "                image = cv2.imread(img_path)                \n",
        "                image = cv2.resize(image,(img_resize,img_resize))\n",
        "\n",
        "                # get image size\n",
        "                img_width,img_height,channels = image.shape\n",
        "                \n",
        "                #if num_img < 10: # 1~9\n",
        "\n",
        "                #    dir_item = str(dir_item).rstrip(\"_000\" + str(num_img) + \".jpg\").rstrip()\n",
        "\n",
        "                #elif num_img >= 10 and num_img < 100: # 10~99\n",
        "\n",
        "                #    dir_item = str(dir_item).rstrip(\"_00\" + str(num_img) + \".jpg\").rstrip()\n",
        "\n",
        "                #elif num_img >= 100 and num_img < 1000: # 100~999\n",
        "\n",
        "                #    dir_item = str(dir_item).rstrip(\"_0\" + str(num_img) + \".jpg\").rstrip()\n",
        "\n",
        "                #else: # 10~99\n",
        "\n",
        "                #    dir_item = str(dir_item).rstrip(\"_\" + str(num_img) + \".jpg\").rstrip()\n",
        "\n",
        "                # add image to array\n",
        "                images.append(image)\n",
        "                labels.append(class_name)\n",
        "\n",
        "\n",
        "        print(\"Image Quantity: {}\".format(num_img))\n",
        "        \n",
        "    return  images,labels,img_width,img_height,channels,load_index,label_class"
      ],
      "execution_count": 0,
      "outputs": []
    },
    {
      "metadata": {
        "id": "OHCd1Htu-YWe",
        "colab_type": "text"
      },
      "cell_type": "markdown",
      "source": [
        "**5.2類別編成索引號碼**"
      ]
    },
    {
      "metadata": {
        "id": "5zNTRNb7P-Qa",
        "colab_type": "code",
        "colab": {}
      },
      "cell_type": "code",
      "source": [
        "def char_to_code(labels,label_class,n_class):\n",
        "\n",
        "\n",
        "    #for index,item in label_class:\n",
        "\n",
        "    #    # run SQL_Insert_syntax\n",
        "    #    SQL_Insert_syntax = '''\n",
        "    #    INSERT INTO {}('{}','{}')\n",
        "    #    VALUES('{}','{}')\n",
        "    #    '''.format(db_TableName,column_faceindex,column_facename,str(index),str(item))\n",
        "    #    SQL_run = curs.execute(SQL_Insert_syntax)\n",
        "\n",
        "    #    if SQL_run:\n",
        "    #        dbconn.commit()\n",
        "    #    else:\n",
        "    #        print ('Run SQL_Insert_syntax Faild.')\n",
        "\n",
        "\n",
        "    for index,classname in label_class:\n",
        "\n",
        "        labels = np.array([int(index) if label == classname else label for label in labels])   \n",
        "        \n",
        "        print(classname)\n",
        "         \n",
        "        # run SQL_Insert_syntax\n",
        "        SQL_Insert_syntax = '''\n",
        "        INSERT INTO {}('{}','{}')\n",
        "        VALUES('{}','{}')\n",
        "        '''.format(db_TableName,column_faceindex,column_facename,str(index),str(classname))\n",
        "        \n",
        "        print(\"SQL_Insert_syntax: {}\".format(SQL_Insert_syntax))\n",
        "        \n",
        "        SQL_run = curs.execute(SQL_Insert_syntax)\n",
        "\n",
        "        if SQL_run:\n",
        "            dbconn.commit()\n",
        "        else:\n",
        "            print ('Run SQL_Insert_syntax Faild.')\n",
        "\n",
        "    return labels"
      ],
      "execution_count": 0,
      "outputs": []
    },
    {
      "metadata": {
        "id": "lcxjBDHl-gYN",
        "colab_type": "text"
      },
      "cell_type": "markdown",
      "source": [
        "**5.3資料集處理**"
      ]
    },
    {
      "metadata": {
        "id": "YK_irvDDjSAX",
        "colab_type": "code",
        "colab": {}
      },
      "cell_type": "code",
      "source": [
        "def process_data(images,labels,img_rows,img_cols ,img_channels,n_class):\n",
        "  \n",
        "    # train dataset\n",
        "    train_images = None # x\n",
        "    train_labels = None # y\n",
        "\n",
        "    #valid dataset\n",
        "    valid_images = None # x\n",
        "    valid_labels = None # y\n",
        "\n",
        "    #test dataset\n",
        "    test_images = None # x\n",
        "    test_labels = None # y\n",
        "\n",
        "    # split dataset 'train'、'valid'、'test'\n",
        "    train_images,valid_images,train_labels,valid_labels = train_test_split(images,labels,test_size = 0.2,random_state = random.randint(0,n_class))\n",
        "    _,test_images,_,test_labels = train_test_split(images,labels,test_size = 0.3,random_state = random.randint(0,n_class))\n",
        "    \n",
        "    # https://faroit.github.io/keras-docs/1.2.2/backend/\n",
        "\n",
        "    if K.image_dim_ordering() == 'th': # img_channels,img_rows,img_cols\n",
        "\n",
        "        train_images = train_images.reshape(train_images.shape[0],img_channels,img_rows,img_cols)\n",
        "        valid_images = valid_images.reshape(valid_images.shape[0],img_channels,img_rows,img_cols)\n",
        "        test_images = test_images.reshape(test_images.shape[0],img_channels,img_rows,img_cols)\n",
        "\n",
        "    else: # img_rows,img_cols,img_channels\n",
        "\n",
        "        train_images = train_images.reshape(train_images.shape[0],img_rows,img_cols,img_channels)\n",
        "        valid_images = valid_images.reshape(valid_images.shape[0],img_rows,img_cols,img_channels)\n",
        "        test_images = test_images.reshape(test_images.shape[0],img_rows,img_cols,img_channels)\n",
        "    \n",
        "    # normalize data\n",
        "    train_images,valid_images,test_images = normalize_data(train_images,valid_images,test_images)\n",
        "\n",
        "    # show \"train_images\"、\"valid_imagess\"、\"test_images\" length\n",
        "    print(\"\\n\\n>>>>>>>>>>>>>>>>>>>>>>>>>>>>>>>>\")\n",
        "    print(\"Train Sample: {}\".format(train_images.shape[0]))\n",
        "    print(\"Valid Sample: {}\".format(valid_images.shape[0]))\n",
        "    print(\"Test Sample: {}\".format(test_images.shape[0]))\n",
        "    \n",
        "    #print(\"{}\\n\".format(train_images))\n",
        "    #print(\"{}\\n\".format(valid_images))\n",
        "    #print(\"{}\\n\".format(test_images))\n",
        "\n",
        "    #https://blog.csdn.net/roger_royer/article/details/79968523\n",
        "    # One Hot Code process \"train_labels\",\"valid_labels\",\"test_labels\"\n",
        "    train_labels,valid_labels,test_labels = one_hot_process(train_labels,valid_labels,test_labels,n_class)\n",
        "    print(\"Train Labels Sample: {}\".format(train_labels.shape[0]))\n",
        "    print(\"Valid Labels Sample: {}\".format(valid_labels.shape[0]))\n",
        "    print(\"Test Labels Sample: {}\".format(test_labels.shape[0]))\n",
        "    \n",
        "    #print(\"{}\\n\".format(train_labels))\n",
        "    #print(\"{}\\n\".format(valid_labels))\n",
        "    #print(\"{}\\n\".format(test_labels))\n",
        "    print(\">>>>>>>>>>>>>>>>>>>>>>>>>>>>>>>>\")\n",
        "\n",
        "    return train_images,valid_images,test_images,train_labels,valid_labels,test_labels\n",
        "  \n",
        "\n",
        "  \n",
        "#One Hot Code for label vector\n",
        "def one_hot_process(train_labels,valid_labels,test_labels,n_class):\n",
        "\n",
        "    train_labels = np_utils.to_categorical(train_labels,n_class)\n",
        "    valid_labels = np_utils.to_categorical(valid_labels,n_class)\n",
        "    test_labels = np_utils.to_categorical(test_labels,n_class)\n",
        "\n",
        "    return train_labels,valid_labels,test_labels\n",
        "\n",
        "  \n",
        "\n",
        "# Normalize data 資料正規化\n",
        "def normalize_data(train_images,valid_images,test_images):\n",
        "\n",
        "    train_images = train_images.astype('float32')\n",
        "    valid_images = valid_images.astype('float32')\n",
        "    test_images = test_images.astype('float32')\n",
        "\n",
        "    train_images /= 255\n",
        "    valid_images /= 255\n",
        "    test_images /= 255\n",
        "\n",
        "    return train_images,valid_images,test_images"
      ],
      "execution_count": 0,
      "outputs": []
    },
    {
      "metadata": {
        "id": "OXZ4h3JG_K8U",
        "colab_type": "text"
      },
      "cell_type": "markdown",
      "source": [
        "**5.4產生訓練模型後Accuracy與Loss變化圖**"
      ]
    },
    {
      "metadata": {
        "id": "ut1YT14E6Nh4",
        "colab_type": "code",
        "colab": {}
      },
      "cell_type": "code",
      "source": [
        "'''\n",
        "http://noahsnail.com/2017/04/29/2017-4-29-matplotlib%E7%9A%84%E5%9F%BA%E6%9C%AC%E7%94%A8%E6%B3%95(%E5%9B%9B)%E2%80%94%E2%80%94%E8%AE%BE%E7%BD%AElegend%E5%9B%BE%E4%BE%8B/\n",
        "https://blog.csdn.net/Quincuntial/article/details/70947363\n",
        "https://www.jianshu.com/p/91eb0d616adb\n",
        "'''\n",
        "       \n",
        "\n",
        "def plot_figure(history,dir,figure_classname):\n",
        "\n",
        "    __plot_acc(history,dir,figure_classname)\n",
        "\n",
        "    #plt.subplot(1,2,1)\n",
        "\n",
        "    __plot_loss(history,dir,figure_classname)\n",
        "\n",
        "    #plt.show()\n",
        "\n",
        "\n",
        "def __plot_acc(hist,dir,figure_classname):\n",
        "        \n",
        "    acc = hist.history['acc']\n",
        "    val_acc = hist.history['val_acc']\n",
        "        \n",
        "    # img size\n",
        "    plt.figure(figsize=(8,8))\n",
        "    plt.plot(acc)\n",
        "    plt.plot(val_acc)\n",
        "    plt.title(figure_classname+'_Model Accuracy')\n",
        "    plt.ylabel('Accuracy')\n",
        "    plt.xlabel('Epochs')\n",
        "    plt.legend(['train_acc', 'valid_acc'], loc='best')\n",
        "    plt.tight_layout()\n",
        "    plt.savefig(dir+figure_classname+'_Accuracy.png')\n",
        "    #plt.show()\n",
        "\n",
        "def __plot_loss(hist,dir,figure_classname):\n",
        "\n",
        "    loss = hist.history['loss']\n",
        "    val_loss = hist.history['val_loss']\n",
        "\n",
        "    # img size\n",
        "    plt.figure(figsize=(8,8))        \n",
        "    plt.plot(loss)\n",
        "    plt.plot(val_loss)\n",
        "    plt.title(figure_classname+'_Model Loss')\n",
        "    plt.ylabel('Loss')\n",
        "    plt.xlabel('Epochs')\n",
        "    plt.legend(['train_loss', 'valid_loss'], loc='best')\n",
        "    plt.tight_layout()\n",
        "    plt.savefig(dir+figure_classname+'_Loss.png')\n",
        "    #plt.show()"
      ],
      "execution_count": 0,
      "outputs": []
    },
    {
      "metadata": {
        "id": "6J6UAuFgO9zF",
        "colab_type": "text"
      },
      "cell_type": "markdown",
      "source": [
        "#6. Image前置處理"
      ]
    },
    {
      "metadata": {
        "id": "dz46vVMP2rj4",
        "colab_type": "text"
      },
      "cell_type": "markdown",
      "source": [
        "**6.1讀取圖像**"
      ]
    },
    {
      "metadata": {
        "id": "oc-nbbUtPHmT",
        "colab_type": "code",
        "outputId": "afaf6c99-d92b-4604-b732-8d11ff84220b",
        "colab": {
          "base_uri": "https://localhost:8080/",
          "height": 642
        }
      },
      "cell_type": "code",
      "source": [
        "start_time = time.time()\n",
        "    \n",
        "# get img dataset\n",
        "images,labels,img_width,img_height,channels,n_class,label_class = load_faceimg(faceimg_dir,faceimg_type,img_resize)\n",
        "    \n",
        "print(\"\\n\\n>>>>>>>>>>>>>>>>>>>>>>>>>>>>>>>>\\n\")\n",
        "\n",
        "# show number of class\n",
        "print(\"Number Of Class: {} \\n {} \\n\".format(n_class,label_class))\n",
        "\n",
        "# show img dataset length\n",
        "print(\"Images Length: {} \\nLabels Length: {}\".format(len(images),len(labels)))\n",
        "\n",
        "# show img size\n",
        "print(\"Image Size: {}x{}x{}\".format(img_width,img_height,channels))\n",
        "    \n",
        "images = np.array(images)    \n",
        "labels = np.array(labels)"
      ],
      "execution_count": 0,
      "outputs": [
        {
          "output_type": "stream",
          "text": [
            "Start Scanning faceimg folder image class.\n",
            "\n",
            "\n",
            "No.0 [ Jean Reno ]\n",
            "Full Detail Path = /content/gdrive/My Drive/106資管碩士一甲/雲端運算系統/FaceImg/Jean Reno\n",
            "Image Quantity: 90\n",
            "\n",
            "No.1 [ Emily Watson ]\n",
            "Full Detail Path = /content/gdrive/My Drive/106資管碩士一甲/雲端運算系統/FaceImg/Emily Watson\n",
            "Image Quantity: 90\n",
            "\n",
            "No.2 [ Ben Stiller ]\n",
            "Full Detail Path = /content/gdrive/My Drive/106資管碩士一甲/雲端運算系統/FaceImg/Ben Stiller\n",
            "Image Quantity: 90\n",
            "\n",
            "No.3 [ Adam Sandler ]\n",
            "Full Detail Path = /content/gdrive/My Drive/106資管碩士一甲/雲端運算系統/FaceImg/Adam Sandler\n",
            "Image Quantity: 90\n",
            "\n",
            "No.4 [ Aaron Judge ]\n",
            "Full Detail Path = /content/gdrive/My Drive/106資管碩士一甲/雲端運算系統/FaceImg/Aaron Judge\n",
            "Image Quantity: 90\n",
            "\n",
            "No.5 [ Ice Cube ]\n",
            "Full Detail Path = /content/gdrive/My Drive/106資管碩士一甲/雲端運算系統/FaceImg/Ice Cube\n",
            "Image Quantity: 90\n",
            "\n",
            "\n",
            ">>>>>>>>>>>>>>>>>>>>>>>>>>>>>>>>\n",
            "\n",
            "Number Of Class: 6 \n",
            " ['Jean Reno', 'Emily Watson', 'Ben Stiller', 'Adam Sandler', 'Aaron Judge', 'Ice Cube'] \n",
            "\n",
            "Images Length: 540 \n",
            "Labels Length: 540\n",
            "Image Size: 96x96x3\n"
          ],
          "name": "stdout"
        }
      ]
    },
    {
      "metadata": {
        "id": "fSkXv6uo3Fjw",
        "colab_type": "text"
      },
      "cell_type": "markdown",
      "source": [
        "**6.2圖像資料集處理(混淆矩陣、分類索引編碼)**"
      ]
    },
    {
      "metadata": {
        "id": "6hGpZEIkWuTH",
        "colab_type": "code",
        "outputId": "bbf30410-e1bf-4cff-9833-b67646ef1862",
        "colab": {
          "base_uri": "https://localhost:8080/",
          "height": 590
        }
      },
      "cell_type": "code",
      "source": [
        "# shuffle data\n",
        "perm_array = np.arange(len(images))\n",
        "np.random.shuffle(perm_array)\n",
        "images = images[perm_array]\n",
        "labels = labels[perm_array]\n",
        "\n",
        "print(images.shape)\n",
        "print(labels.shape)\n",
        "# print(labels)\n",
        "\n",
        "label_class = enumerate(label_class)\n",
        "\n",
        "# for index, classname in label_class:\n",
        "#   print(classname)\n",
        "\n",
        "# char convert to int code\n",
        "labels = char_to_code(labels,label_class,n_class)\n",
        "\n",
        "# print(labels)\n",
        "print(\">>>>>>>>>>>>>>>>>>>>>>>>>>>>>>>>\")"
      ],
      "execution_count": 0,
      "outputs": [
        {
          "output_type": "stream",
          "text": [
            "(540, 96, 96, 3)\n",
            "(540,)\n",
            "Jean Reno\n",
            "SQL_Insert_syntax: \n",
            "        INSERT INTO facelabel('faceindex','facename')\n",
            "        VALUES('0','Jean Reno')\n",
            "        \n",
            "Emily Watson\n",
            "SQL_Insert_syntax: \n",
            "        INSERT INTO facelabel('faceindex','facename')\n",
            "        VALUES('1','Emily Watson')\n",
            "        \n",
            "Ben Stiller\n",
            "SQL_Insert_syntax: \n",
            "        INSERT INTO facelabel('faceindex','facename')\n",
            "        VALUES('2','Ben Stiller')\n",
            "        \n",
            "Adam Sandler\n",
            "SQL_Insert_syntax: \n",
            "        INSERT INTO facelabel('faceindex','facename')\n",
            "        VALUES('3','Adam Sandler')\n",
            "        \n",
            "Aaron Judge\n",
            "SQL_Insert_syntax: \n",
            "        INSERT INTO facelabel('faceindex','facename')\n",
            "        VALUES('4','Aaron Judge')\n",
            "        \n",
            "Ice Cube\n",
            "SQL_Insert_syntax: \n",
            "        INSERT INTO facelabel('faceindex','facename')\n",
            "        VALUES('5','Ice Cube')\n",
            "        \n",
            ">>>>>>>>>>>>>>>>>>>>>>>>>>>>>>>>\n"
          ],
          "name": "stdout"
        }
      ]
    },
    {
      "metadata": {
        "id": "2Ka3jTka2U5D",
        "colab_type": "text"
      },
      "cell_type": "markdown",
      "source": [
        "**6.3分割圖像資料集**"
      ]
    },
    {
      "metadata": {
        "id": "r1x-01JMXIOj",
        "colab_type": "code",
        "outputId": "d1215c0c-91b4-41a5-9758-88bb97f4add3",
        "colab": {
          "base_uri": "https://localhost:8080/",
          "height": 191
        }
      },
      "cell_type": "code",
      "source": [
        "# dataset process generate\n",
        "with tf.device(I_CPU):\n",
        "    train_images,valid_images,test_images,train_labels,valid_labels,test_labels = process_data(images,labels,img_height,img_width,channels,n_class)\n",
        "    #print(train_images.shape[0])"
      ],
      "execution_count": 0,
      "outputs": [
        {
          "output_type": "stream",
          "text": [
            "\n",
            "\n",
            ">>>>>>>>>>>>>>>>>>>>>>>>>>>>>>>>\n",
            "Train Sample: 432\n",
            "Valid Sample: 108\n",
            "Test Sample: 162\n",
            "Train Labels Sample: 432\n",
            "Valid Labels Sample: 108\n",
            "Test Labels Sample: 162\n",
            ">>>>>>>>>>>>>>>>>>>>>>>>>>>>>>>>\n"
          ],
          "name": "stdout"
        }
      ]
    },
    {
      "metadata": {
        "id": "7_ZgfqBdnTjz",
        "colab_type": "text"
      },
      "cell_type": "markdown",
      "source": [
        "#7. 建立神經網路模型"
      ]
    },
    {
      "metadata": {
        "id": "zoCL7C2q4FJU",
        "colab_type": "text"
      },
      "cell_type": "markdown",
      "source": [
        "**7.1設置Model參數儲存位置**"
      ]
    },
    {
      "metadata": {
        "id": "e8ytR_LAnwvi",
        "colab_type": "code",
        "colab": {}
      },
      "cell_type": "code",
      "source": [
        "ouputlog_filename = \"model_arg_log.txt\"\n",
        "output_path= currentPath+'/log/model_log/'      \n",
        "\n",
        "def outputmodellog(getlog):\n",
        "\n",
        "    if not os.path.exists(str(output_path + ouputlog_filename)):\n",
        "         os.mkdir(str(output_path))\n",
        "\n",
        "    filewrite = open(str(output_path + ouputlog_filename), 'w')\n",
        "    filewrite.write(getlog)\n",
        "    filewrite.close()"
      ],
      "execution_count": 0,
      "outputs": []
    },
    {
      "metadata": {
        "id": "jkJf0OyN4VbO",
        "colab_type": "text"
      },
      "cell_type": "markdown",
      "source": [
        "**7.2Neural Network Model架構參數設置**"
      ]
    },
    {
      "metadata": {
        "id": "25TLUamlL5dj",
        "colab_type": "code",
        "colab": {}
      },
      "cell_type": "code",
      "source": [
        "# ----------------------------------- Model argument settings ----------------------------------- \n",
        "\n",
        "# you can use these optimizer option: \"SGD\", \"RMSprop\", \"Adam\", \"Adagrad\",\n",
        "# \"Adadelta\"\n",
        "optimizer = 'Adam'\n",
        "keras.optimizers.Adam(lr=0.00015, beta_1=0.9, beta_2=0.999, epsilon=None, decay=0.0, amsgrad=False)\n",
        "\n",
        "\n",
        "# you can use these loss option:\n",
        "# \"categorical_crossentropy\",\"mean_squared_error\",\"mean_absolute_error\",\"cosine_proximity\"\n",
        "loss = 'categorical_crossentropy'\n",
        "\n",
        "# net layer argument settings\n",
        "# input layer\n",
        "inputlayer_Activation = 'relu'\n",
        "inputlayer_conv2D_hidden_unit = 32\n",
        "inputlayer_conv2D_kernel_size = (3,3)\n",
        "inputlayer_conv2D_padding = 'same'\n",
        "\n",
        "# one layer\n",
        "onelayer_conv2D_hidden_unit = 32\n",
        "onelayer_conv2D_kernel_size = (3,3)\n",
        "onelayer_conv2D_padding = 'same'\n",
        "onelayer_Activation = 'relu'\n",
        "onelayer_MaxPooling2D_pool_size = (2,2)\n",
        "onelayer_Dropout = 0.25\n",
        "\n",
        "# two layer\n",
        "twolayer_conv2D_hidden_unit = 64\n",
        "twolayer_conv2D_kernel_size = (3,3)\n",
        "twolayer_conv2D_padding = 'same'\n",
        "twolayer_Activation = 'relu'\n",
        "twolayer_MaxPooling2D_pool_size = (2,2)\n",
        "twolayer_Dropout = 0.25\n",
        "\n",
        "# three layer\n",
        "threelayer_conv2D_hidden_unit = 128\n",
        "threelayer_conv2D_kernel_size = (3,3)\n",
        "threelayer_conv2D_padding = 'same'\n",
        "threelayer_Activation = 'relu'\n",
        "threelayer_MaxPooling2D_pool_size = (2,2)\n",
        "threelayer_Dropout = 0.5\n",
        "\n",
        "# four layer\n",
        "fourlayer_conv2D_hidden_unit = 256\n",
        "fourlayer_conv2D_kernel_size = (3,3)\n",
        "fourlayer_conv2D_padding = 'same'\n",
        "fourlayer_Activation = 'relu'\n",
        "fourlayer_MaxPooling2D_pool_size = (2,2)\n",
        "fourlayer_Dropout = 0.25\n",
        "\n",
        "# full-connection layer\n",
        "full_connectionlayer_Dense = 1024\n",
        "full_connectionlayer_Activation = 'relu'\n",
        "full_connectionlayer_Dropout = 0.5\n",
        "\n",
        "# output layer\n",
        "ouputlayer_Activation = 'softmax'"
      ],
      "execution_count": 0,
      "outputs": []
    },
    {
      "metadata": {
        "id": "SpV6azIu4i3p",
        "colab_type": "text"
      },
      "cell_type": "markdown",
      "source": [
        "**7.3建置Neural Network Model Function**"
      ]
    },
    {
      "metadata": {
        "id": "s5l1qw3ZrSY3",
        "colab_type": "code",
        "colab": {}
      },
      "cell_type": "code",
      "source": [
        "def build_model(img_width,img_height,channels,n_class):\n",
        "\n",
        "    input_shape = (img_width,img_height,channels)\n",
        "\n",
        "    model = Sequential()\n",
        "    \n",
        "    # Input layer\n",
        "    model.add(Conv2D(inputlayer_conv2D_hidden_unit, kernel_size = inputlayer_conv2D_kernel_size, padding = inputlayer_conv2D_padding,input_shape = input_shape))\n",
        "    model.add(Activation(inputlayer_Activation))\n",
        "\n",
        "    # One hiddenlayer (Conv2D,Activation,MaxPooling2D,Dropout)\n",
        "    model.add(Conv2D(onelayer_conv2D_hidden_unit, onelayer_conv2D_kernel_size, padding = onelayer_conv2D_padding))\n",
        "    model.add(Activation(onelayer_Activation))\n",
        "    model.add(MaxPooling2D(pool_size = onelayer_MaxPooling2D_pool_size))\n",
        "    model.add(Dropout(onelayer_Dropout))\n",
        "\n",
        "    # Two hiddenlayer(Conv2D,Activation,MaxPooling2D,Dropout)\n",
        "    model.add(Conv2D(twolayer_conv2D_hidden_unit, twolayer_conv2D_kernel_size,padding = twolayer_conv2D_padding))\n",
        "    model.add(Activation(twolayer_Activation))\n",
        "    model.add(MaxPooling2D(pool_size = twolayer_MaxPooling2D_pool_size))\n",
        "    model.add(Dropout(twolayer_Dropout))\n",
        "\n",
        "    # Three hiddenlayer(Conv2D,Activation,MaxPooling2D,Dropout)\n",
        "    model.add(Conv2D(threelayer_conv2D_hidden_unit, threelayer_conv2D_kernel_size, padding = threelayer_conv2D_padding))\n",
        "    model.add(Activation(threelayer_Activation))\n",
        "    model.add(MaxPooling2D(pool_size = threelayer_MaxPooling2D_pool_size))\n",
        "    model.add(Dropout(threelayer_Dropout))\n",
        "\n",
        "    # Four hiddenlayer(Conv2D,Activation,MaxPooling2D,Dropout)\n",
        "    model.add(Conv2D(fourlayer_conv2D_hidden_unit, fourlayer_conv2D_kernel_size, padding = fourlayer_conv2D_padding))\n",
        "    model.add(Activation(fourlayer_Activation))\n",
        "    model.add(MaxPooling2D(pool_size = fourlayer_MaxPooling2D_pool_size))\n",
        "    model.add(Dropout(fourlayer_Dropout))\n",
        "\n",
        "    # Flatten layer\n",
        "    model.add(Flatten())\n",
        "\n",
        "    # Full-connection layer(Dense,Activation,Dropout)\n",
        "    model.add(Dense(full_connectionlayer_Dense))\n",
        "    model.add(Activation(full_connectionlayer_Activation))\n",
        "    model.add(Dropout(full_connectionlayer_Dropout)) \n",
        "\n",
        "    # Output layer\n",
        "    model.add(Dense(n_class))\n",
        "    model.add(Activation(ouputlayer_Activation))\n",
        "\n",
        "    model.compile(loss=loss,optimizer=optimizer,metrics=['accuracy'])\n",
        "\n",
        "    model.summary()\n",
        "\n",
        "    return model"
      ],
      "execution_count": 0,
      "outputs": []
    },
    {
      "metadata": {
        "id": "5UAyIeHd4w-A",
        "colab_type": "text"
      },
      "cell_type": "markdown",
      "source": [
        "**7.4建置Neural Network Model**"
      ]
    },
    {
      "metadata": {
        "id": "48ZBcUiBnTuK",
        "colab_type": "code",
        "outputId": "1a57f38b-df5d-4acf-92ce-d25c7e8e9698",
        "colab": {
          "base_uri": "https://localhost:8080/",
          "height": 972
        }
      },
      "cell_type": "code",
      "source": [
        "# build Neural Network Model\n",
        "with tf.device(n_GPU):\n",
        "  \n",
        "        net_model = build_model(img_width,img_height,channels,n_class)\n",
        "    \n",
        "#         modellogouput = model_logouput(str('face_'+str(face_class)))\n",
        "      \n",
        "        str_log = '''\n",
        "\n",
        "            This is  model each layer argument recoard.\n",
        "\n",
        "            # input layer\n",
        "            inputlayer_Activation = {}\n",
        "            inputlayer_conv2D_hidden_unit = {}\n",
        "            inputlayer_conv2D_kernel_size = {}\n",
        "            inputlayer_conv2D_padding = {}\n",
        "\n",
        "            # one layer\n",
        "            onelayer_conv2D_hidden_unit = {}\n",
        "            onelayer_conv2D_kernel_size = {}\n",
        "            onelayer_conv2D_padding = {}\n",
        "            onelayer_Activation = {}\n",
        "            onelayer_MaxPooling2D_pool_size = {}\n",
        "            onelayer_Dropout = {}\n",
        "\n",
        "            # two layer\n",
        "            twolayer_conv2D_hidden_unit = {}\n",
        "            twolayer_conv2D_kernel_size = {}\n",
        "            twolayer_conv2D_padding = {}\n",
        "            twolayer_Activation = {}\n",
        "            twolayer_MaxPooling2D_pool_size = {}\n",
        "            twolayer_Dropout = {}\n",
        "\n",
        "            # three layer\n",
        "            threelayer_conv2D_hidden_unit = {}\n",
        "            threelayer_conv2D_kernel_size = {}\n",
        "            threelayer_conv2D_padding = {}\n",
        "            threelayer_Activation = {}\n",
        "            threelayer_MaxPooling2D_pool_size = {}\n",
        "            threelayer_Dropout = {}\n",
        "\n",
        "            # four layer\n",
        "            fourlayer_conv2D_hidden_unit = {}\n",
        "            fourlayer_conv2D_kernel_size = {}\n",
        "            fourlayer_conv2D_padding = {}\n",
        "            fourlayer_Activation = {}\n",
        "            fourlayer_MaxPooling2D_pool_size = {}\n",
        "            fourlayer_Dropout = {}\n",
        "\n",
        "            # full-connection layer\n",
        "            full_connectionlayer_Dense = {}\n",
        "            full_connectionlayer_Activation = {}\n",
        "            full_connectionlayer_Dropout = {}\n",
        "\n",
        "            # output layer\n",
        "            ouputlayer_Activation = {}\n",
        "            optimizer = {}\n",
        "            loss = {}\n",
        "\n",
        "        '''.format(inputlayer_Activation,inputlayer_conv2D_hidden_unit,inputlayer_conv2D_kernel_size,inputlayer_conv2D_padding,\n",
        "                   onelayer_conv2D_hidden_unit,onelayer_conv2D_kernel_size,onelayer_conv2D_padding,onelayer_Activation,onelayer_MaxPooling2D_pool_size,onelayer_Dropout,\n",
        "                   twolayer_conv2D_hidden_unit,twolayer_conv2D_kernel_size,twolayer_conv2D_padding,twolayer_Activation,onelayer_MaxPooling2D_pool_size,twolayer_Dropout,\n",
        "                   threelayer_conv2D_hidden_unit,threelayer_conv2D_kernel_size,threelayer_conv2D_padding,threelayer_Activation,threelayer_MaxPooling2D_pool_size,threelayer_Dropout,\n",
        "                   fourlayer_conv2D_hidden_unit,fourlayer_conv2D_kernel_size,fourlayer_conv2D_padding,fourlayer_Activation,fourlayer_MaxPooling2D_pool_size,fourlayer_Dropout,\n",
        "                   full_connectionlayer_Dense,full_connectionlayer_Activation,full_connectionlayer_Dropout,\n",
        "                   ouputlayer_Activation,optimizer,loss)\n",
        "\n",
        "        outputmodellog(str_log)"
      ],
      "execution_count": 0,
      "outputs": [
        {
          "output_type": "stream",
          "text": [
            "_________________________________________________________________\n",
            "Layer (type)                 Output Shape              Param #   \n",
            "=================================================================\n",
            "conv2d_46 (Conv2D)           (None, 96, 96, 32)        896       \n",
            "_________________________________________________________________\n",
            "activation_64 (Activation)   (None, 96, 96, 32)        0         \n",
            "_________________________________________________________________\n",
            "conv2d_47 (Conv2D)           (None, 96, 96, 32)        9248      \n",
            "_________________________________________________________________\n",
            "activation_65 (Activation)   (None, 96, 96, 32)        0         \n",
            "_________________________________________________________________\n",
            "max_pooling2d_37 (MaxPooling (None, 48, 48, 32)        0         \n",
            "_________________________________________________________________\n",
            "dropout_46 (Dropout)         (None, 48, 48, 32)        0         \n",
            "_________________________________________________________________\n",
            "conv2d_48 (Conv2D)           (None, 48, 48, 64)        18496     \n",
            "_________________________________________________________________\n",
            "activation_66 (Activation)   (None, 48, 48, 64)        0         \n",
            "_________________________________________________________________\n",
            "max_pooling2d_38 (MaxPooling (None, 24, 24, 64)        0         \n",
            "_________________________________________________________________\n",
            "dropout_47 (Dropout)         (None, 24, 24, 64)        0         \n",
            "_________________________________________________________________\n",
            "conv2d_49 (Conv2D)           (None, 24, 24, 128)       73856     \n",
            "_________________________________________________________________\n",
            "activation_67 (Activation)   (None, 24, 24, 128)       0         \n",
            "_________________________________________________________________\n",
            "max_pooling2d_39 (MaxPooling (None, 12, 12, 128)       0         \n",
            "_________________________________________________________________\n",
            "dropout_48 (Dropout)         (None, 12, 12, 128)       0         \n",
            "_________________________________________________________________\n",
            "conv2d_50 (Conv2D)           (None, 12, 12, 256)       295168    \n",
            "_________________________________________________________________\n",
            "activation_68 (Activation)   (None, 12, 12, 256)       0         \n",
            "_________________________________________________________________\n",
            "max_pooling2d_40 (MaxPooling (None, 6, 6, 256)         0         \n",
            "_________________________________________________________________\n",
            "dropout_49 (Dropout)         (None, 6, 6, 256)         0         \n",
            "_________________________________________________________________\n",
            "flatten_10 (Flatten)         (None, 9216)              0         \n",
            "_________________________________________________________________\n",
            "dense_19 (Dense)             (None, 1024)              9438208   \n",
            "_________________________________________________________________\n",
            "activation_69 (Activation)   (None, 1024)              0         \n",
            "_________________________________________________________________\n",
            "dropout_50 (Dropout)         (None, 1024)              0         \n",
            "_________________________________________________________________\n",
            "dense_20 (Dense)             (None, 6)                 6150      \n",
            "_________________________________________________________________\n",
            "activation_70 (Activation)   (None, 6)                 0         \n",
            "=================================================================\n",
            "Total params: 9,842,022\n",
            "Trainable params: 9,842,022\n",
            "Non-trainable params: 0\n",
            "_________________________________________________________________\n"
          ],
          "name": "stdout"
        }
      ]
    },
    {
      "metadata": {
        "id": "khEQgsl3vBJf",
        "colab_type": "text"
      },
      "cell_type": "markdown",
      "source": [
        "# 8.訓練模型"
      ]
    },
    {
      "metadata": {
        "id": "JMNNHQPDLwBo",
        "colab_type": "code",
        "colab": {}
      },
      "cell_type": "code",
      "source": [
        "# ----------------------------------- Train argument settings ----------------------------------- \n",
        "# batch_size = 24\n",
        "batch_size = 23\n",
        "# epochs = 12\n",
        "epochs = 84\n",
        "verbose=1"
      ],
      "execution_count": 0,
      "outputs": []
    },
    {
      "metadata": {
        "id": "NZsnBP98u9wn",
        "colab_type": "code",
        "outputId": "959899f6-ed08-44c1-d4d0-f9beccd4b8cc",
        "colab": {
          "base_uri": "https://localhost:8080/",
          "height": 3612
        }
      },
      "cell_type": "code",
      "source": [
        "# ImageDataGenerator declard and argument settings\n",
        "# https://chtseng.wordpress.com/2017/11/11/data-augmentation-%E8%B3%87%E6%96%99%E5%A2%9E%E5%BC%B7/\n",
        "datagen = ImageDataGenerator(featurewise_center = False,\n",
        "        samplewise_center  = False,\n",
        "        featurewise_std_normalization = False,\n",
        "        samplewise_std_normalization  = False,\n",
        "        zca_whitening = False,\n",
        "        rotation_range = 20,\n",
        "        width_shift_range  = 0.2,\n",
        "        height_shift_range = 0.2,\n",
        "        horizontal_flip = True,\n",
        "        vertical_flip = False)\n",
        "\n",
        "print(\"\\n\\n\")\n",
        "print(device_lib.list_local_devices())\n",
        "    \n",
        "print(\"\\n\\nWait for configure operation sources...... \\n\\n\")\n",
        "\n",
        "# process image computing of\n",
        "# \"featurewise_center\",\"featurewise_std_normalization\",\"zca_whitening\"\n",
        "datagen.fit(train_images)\n",
        "\n",
        "steps_per_epoch =(len(train_images) / batch_size)\n",
        "# steps_per_epoch =len(train_images)/2 \n",
        "# steps_per_epoch =len(train_images)\n",
        "\n",
        "# start train\n",
        "with tf.device(n_GPU):\n",
        "     history = net_model.fit_generator(datagen.flow(train_images, train_labels,batch_size = batch_size),\n",
        "                                        steps_per_epoch = steps_per_epoch,\n",
        "                                        epochs = epochs,\n",
        "                                        verbose = verbose,                                                                      \n",
        "                                        validation_data = (valid_images,valid_labels))"
      ],
      "execution_count": 0,
      "outputs": [
        {
          "output_type": "stream",
          "text": [
            "\n",
            "\n",
            "\n",
            "[name: \"/device:CPU:0\"\n",
            "device_type: \"CPU\"\n",
            "memory_limit: 268435456\n",
            "locality {\n",
            "}\n",
            "incarnation: 15838663011570687779\n",
            ", name: \"/device:XLA_CPU:0\"\n",
            "device_type: \"XLA_CPU\"\n",
            "memory_limit: 17179869184\n",
            "locality {\n",
            "}\n",
            "incarnation: 4528605054178649448\n",
            "physical_device_desc: \"device: XLA_CPU device\"\n",
            ", name: \"/device:XLA_GPU:0\"\n",
            "device_type: \"XLA_GPU\"\n",
            "memory_limit: 17179869184\n",
            "locality {\n",
            "}\n",
            "incarnation: 4667195933883581304\n",
            "physical_device_desc: \"device: XLA_GPU device\"\n",
            ", name: \"/device:GPU:0\"\n",
            "device_type: \"GPU\"\n",
            "memory_limit: 11281553818\n",
            "locality {\n",
            "  bus_id: 1\n",
            "  links {\n",
            "  }\n",
            "}\n",
            "incarnation: 10410359005115341622\n",
            "physical_device_desc: \"device: 0, name: Tesla K80, pci bus id: 0000:00:04.0, compute capability: 3.7\"\n",
            "]\n",
            "\n",
            "\n",
            "Wait for configure operation sources...... \n",
            "\n",
            "\n",
            "Epoch 1/84\n",
            "19/18 [==============================] - 5s 264ms/step - loss: 1.9569 - acc: 0.1456 - val_loss: 1.7916 - val_acc: 0.1759\n",
            "Epoch 2/84\n",
            "19/18 [==============================] - 1s 58ms/step - loss: 1.7886 - acc: 0.1580 - val_loss: 1.7896 - val_acc: 0.2407\n",
            "Epoch 3/84\n",
            "19/18 [==============================] - 1s 72ms/step - loss: 1.7740 - acc: 0.2125 - val_loss: 1.7811 - val_acc: 0.1944\n",
            "Epoch 4/84\n",
            "19/18 [==============================] - 2s 79ms/step - loss: 1.7420 - acc: 0.2463 - val_loss: 1.7575 - val_acc: 0.3333\n",
            "Epoch 5/84\n",
            "19/18 [==============================] - 2s 79ms/step - loss: 1.7213 - acc: 0.2726 - val_loss: 1.7138 - val_acc: 0.3519\n",
            "Epoch 6/84\n",
            "19/18 [==============================] - 1s 79ms/step - loss: 1.6886 - acc: 0.2863 - val_loss: 1.7979 - val_acc: 0.2315\n",
            "Epoch 7/84\n",
            "19/18 [==============================] - 1s 78ms/step - loss: 1.6897 - acc: 0.2978 - val_loss: 1.6826 - val_acc: 0.4074\n",
            "Epoch 8/84\n",
            "19/18 [==============================] - 1s 78ms/step - loss: 1.6905 - acc: 0.2811 - val_loss: 1.7934 - val_acc: 0.2315\n",
            "Epoch 9/84\n",
            "19/18 [==============================] - 2s 79ms/step - loss: 1.7370 - acc: 0.2389 - val_loss: 2.0086 - val_acc: 0.2593\n",
            "Epoch 10/84\n",
            "19/18 [==============================] - 1s 78ms/step - loss: 1.7181 - acc: 0.3042 - val_loss: 1.6716 - val_acc: 0.3611\n",
            "Epoch 11/84\n",
            "19/18 [==============================] - 1s 78ms/step - loss: 1.6080 - acc: 0.3500 - val_loss: 1.5157 - val_acc: 0.3981\n",
            "Epoch 12/84\n",
            "19/18 [==============================] - 1s 79ms/step - loss: 1.5970 - acc: 0.3316 - val_loss: 1.5482 - val_acc: 0.4167\n",
            "Epoch 13/84\n",
            "19/18 [==============================] - 1s 79ms/step - loss: 1.5927 - acc: 0.3660 - val_loss: 1.5279 - val_acc: 0.4630\n",
            "Epoch 14/84\n",
            "19/18 [==============================] - 1s 79ms/step - loss: 1.5385 - acc: 0.3799 - val_loss: 1.4451 - val_acc: 0.5000\n",
            "Epoch 15/84\n",
            "19/18 [==============================] - 1s 79ms/step - loss: 1.5048 - acc: 0.3901 - val_loss: 1.6134 - val_acc: 0.4074\n",
            "Epoch 16/84\n",
            "19/18 [==============================] - 1s 79ms/step - loss: 1.5138 - acc: 0.3706 - val_loss: 1.4596 - val_acc: 0.4815\n",
            "Epoch 17/84\n",
            "19/18 [==============================] - 1s 78ms/step - loss: 1.4228 - acc: 0.4690 - val_loss: 1.3709 - val_acc: 0.5093\n",
            "Epoch 18/84\n",
            "19/18 [==============================] - 1s 79ms/step - loss: 1.4230 - acc: 0.4479 - val_loss: 1.3632 - val_acc: 0.5185\n",
            "Epoch 19/84\n",
            "19/18 [==============================] - 1s 79ms/step - loss: 1.3799 - acc: 0.4603 - val_loss: 1.3716 - val_acc: 0.4722\n",
            "Epoch 20/84\n",
            "19/18 [==============================] - 1s 79ms/step - loss: 1.4158 - acc: 0.4382 - val_loss: 1.3946 - val_acc: 0.4537\n",
            "Epoch 21/84\n",
            "19/18 [==============================] - 1s 78ms/step - loss: 1.3469 - acc: 0.4661 - val_loss: 1.3178 - val_acc: 0.5278\n",
            "Epoch 22/84\n",
            "19/18 [==============================] - 2s 79ms/step - loss: 1.3883 - acc: 0.4610 - val_loss: 1.3229 - val_acc: 0.5463\n",
            "Epoch 23/84\n",
            "19/18 [==============================] - 1s 78ms/step - loss: 1.3648 - acc: 0.4869 - val_loss: 1.4955 - val_acc: 0.4722\n",
            "Epoch 24/84\n",
            "19/18 [==============================] - 1s 78ms/step - loss: 1.4168 - acc: 0.4463 - val_loss: 1.3043 - val_acc: 0.5556\n",
            "Epoch 25/84\n",
            "19/18 [==============================] - 2s 79ms/step - loss: 1.3219 - acc: 0.5131 - val_loss: 1.3227 - val_acc: 0.5093\n",
            "Epoch 26/84\n",
            "19/18 [==============================] - 2s 79ms/step - loss: 1.2532 - acc: 0.5487 - val_loss: 1.2726 - val_acc: 0.5556\n",
            "Epoch 27/84\n",
            "19/18 [==============================] - 1s 79ms/step - loss: 1.2790 - acc: 0.5183 - val_loss: 1.3050 - val_acc: 0.5093\n",
            "Epoch 28/84\n",
            "19/18 [==============================] - 1s 79ms/step - loss: 1.1985 - acc: 0.5510 - val_loss: 1.2361 - val_acc: 0.5463\n",
            "Epoch 29/84\n",
            "19/18 [==============================] - 2s 79ms/step - loss: 1.3369 - acc: 0.5036 - val_loss: 1.3017 - val_acc: 0.5556\n",
            "Epoch 30/84\n",
            "19/18 [==============================] - 1s 78ms/step - loss: 1.2848 - acc: 0.4886 - val_loss: 1.2262 - val_acc: 0.6204\n",
            "Epoch 31/84\n",
            "19/18 [==============================] - 1s 78ms/step - loss: 1.2216 - acc: 0.5705 - val_loss: 1.2180 - val_acc: 0.5648\n",
            "Epoch 32/84\n",
            "19/18 [==============================] - 1s 78ms/step - loss: 1.1993 - acc: 0.5493 - val_loss: 1.2523 - val_acc: 0.5648\n",
            "Epoch 33/84\n",
            "19/18 [==============================] - 2s 80ms/step - loss: 1.2538 - acc: 0.5395 - val_loss: 1.3135 - val_acc: 0.5556\n",
            "Epoch 34/84\n",
            "19/18 [==============================] - 1s 78ms/step - loss: 1.2382 - acc: 0.5418 - val_loss: 1.3463 - val_acc: 0.4630\n",
            "Epoch 35/84\n",
            "19/18 [==============================] - 1s 79ms/step - loss: 1.2090 - acc: 0.5327 - val_loss: 1.2379 - val_acc: 0.5463\n",
            "Epoch 36/84\n",
            "19/18 [==============================] - 1s 78ms/step - loss: 1.1473 - acc: 0.5630 - val_loss: 1.1555 - val_acc: 0.6204\n",
            "Epoch 37/84\n",
            "19/18 [==============================] - 2s 79ms/step - loss: 1.1362 - acc: 0.5556 - val_loss: 1.1522 - val_acc: 0.6296\n",
            "Epoch 38/84\n",
            "19/18 [==============================] - 1s 79ms/step - loss: 1.0663 - acc: 0.5957 - val_loss: 1.1018 - val_acc: 0.6574\n",
            "Epoch 39/84\n",
            "19/18 [==============================] - 1s 78ms/step - loss: 1.1125 - acc: 0.5791 - val_loss: 1.2266 - val_acc: 0.6019\n",
            "Epoch 40/84\n",
            "19/18 [==============================] - 1s 78ms/step - loss: 1.1298 - acc: 0.5819 - val_loss: 1.1717 - val_acc: 0.5926\n",
            "Epoch 41/84\n",
            "19/18 [==============================] - 1s 78ms/step - loss: 1.0627 - acc: 0.6191 - val_loss: 1.1357 - val_acc: 0.5463\n",
            "Epoch 42/84\n",
            "19/18 [==============================] - 1s 79ms/step - loss: 1.0284 - acc: 0.6020 - val_loss: 1.1955 - val_acc: 0.6204\n",
            "Epoch 43/84\n",
            "19/18 [==============================] - 1s 78ms/step - loss: 1.0617 - acc: 0.6116 - val_loss: 1.0814 - val_acc: 0.6111\n",
            "Epoch 44/84\n",
            "19/18 [==============================] - 1s 78ms/step - loss: 1.1177 - acc: 0.5803 - val_loss: 1.1061 - val_acc: 0.6296\n",
            "Epoch 45/84\n",
            "19/18 [==============================] - 1s 79ms/step - loss: 1.0059 - acc: 0.6192 - val_loss: 1.0593 - val_acc: 0.6574\n",
            "Epoch 46/84\n",
            "19/18 [==============================] - 1s 78ms/step - loss: 0.9652 - acc: 0.6656 - val_loss: 1.0875 - val_acc: 0.6481\n",
            "Epoch 47/84\n",
            "19/18 [==============================] - 2s 79ms/step - loss: 1.0325 - acc: 0.6300 - val_loss: 1.1003 - val_acc: 0.6296\n",
            "Epoch 48/84\n",
            "19/18 [==============================] - 1s 78ms/step - loss: 1.0071 - acc: 0.6215 - val_loss: 1.0366 - val_acc: 0.6481\n",
            "Epoch 49/84\n",
            "19/18 [==============================] - 1s 78ms/step - loss: 0.9920 - acc: 0.6232 - val_loss: 1.1133 - val_acc: 0.6019\n",
            "Epoch 50/84\n",
            "19/18 [==============================] - 1s 79ms/step - loss: 0.9659 - acc: 0.6467 - val_loss: 1.0418 - val_acc: 0.6574\n",
            "Epoch 51/84\n",
            "19/18 [==============================] - 1s 79ms/step - loss: 0.9513 - acc: 0.6379 - val_loss: 1.2597 - val_acc: 0.5556\n",
            "Epoch 52/84\n",
            "19/18 [==============================] - 1s 79ms/step - loss: 0.8778 - acc: 0.6661 - val_loss: 1.0302 - val_acc: 0.6759\n",
            "Epoch 53/84\n",
            "19/18 [==============================] - 2s 79ms/step - loss: 0.9652 - acc: 0.6627 - val_loss: 1.0227 - val_acc: 0.6944\n",
            "Epoch 54/84\n",
            "19/18 [==============================] - 2s 79ms/step - loss: 0.8819 - acc: 0.6845 - val_loss: 1.0640 - val_acc: 0.6481\n",
            "Epoch 55/84\n",
            "19/18 [==============================] - 1s 78ms/step - loss: 0.8847 - acc: 0.6809 - val_loss: 1.0658 - val_acc: 0.6389\n",
            "Epoch 56/84\n",
            "19/18 [==============================] - 2s 79ms/step - loss: 0.8262 - acc: 0.6992 - val_loss: 1.1228 - val_acc: 0.6481\n",
            "Epoch 57/84\n",
            "19/18 [==============================] - 2s 80ms/step - loss: 0.8230 - acc: 0.6958 - val_loss: 1.1165 - val_acc: 0.6389\n",
            "Epoch 58/84\n",
            "19/18 [==============================] - 1s 79ms/step - loss: 0.7849 - acc: 0.7222 - val_loss: 1.1019 - val_acc: 0.6296\n",
            "Epoch 59/84\n",
            "19/18 [==============================] - 2s 79ms/step - loss: 0.7594 - acc: 0.7034 - val_loss: 0.9667 - val_acc: 0.6944\n",
            "Epoch 60/84\n",
            "19/18 [==============================] - 2s 80ms/step - loss: 0.7124 - acc: 0.7468 - val_loss: 1.3005 - val_acc: 0.6204\n",
            "Epoch 61/84\n",
            "19/18 [==============================] - 1s 78ms/step - loss: 0.7597 - acc: 0.7343 - val_loss: 0.9626 - val_acc: 0.6944\n",
            "Epoch 62/84\n",
            "19/18 [==============================] - 2s 79ms/step - loss: 0.7217 - acc: 0.7315 - val_loss: 1.0967 - val_acc: 0.6759\n",
            "Epoch 63/84\n",
            "19/18 [==============================] - 1s 77ms/step - loss: 0.7785 - acc: 0.7170 - val_loss: 1.0857 - val_acc: 0.6574\n",
            "Epoch 64/84\n",
            "19/18 [==============================] - 2s 79ms/step - loss: 0.7873 - acc: 0.7091 - val_loss: 0.9762 - val_acc: 0.6574\n",
            "Epoch 65/84\n",
            "19/18 [==============================] - 1s 78ms/step - loss: 0.7741 - acc: 0.6975 - val_loss: 1.0658 - val_acc: 0.7037\n",
            "Epoch 66/84\n",
            "19/18 [==============================] - 2s 79ms/step - loss: 0.7012 - acc: 0.7137 - val_loss: 0.9939 - val_acc: 0.7130\n",
            "Epoch 67/84\n",
            "19/18 [==============================] - 1s 78ms/step - loss: 0.7303 - acc: 0.7349 - val_loss: 0.9174 - val_acc: 0.7037\n",
            "Epoch 68/84\n",
            "19/18 [==============================] - 1s 77ms/step - loss: 0.7644 - acc: 0.7205 - val_loss: 0.9509 - val_acc: 0.6944\n",
            "Epoch 69/84\n",
            "19/18 [==============================] - 1s 78ms/step - loss: 0.6746 - acc: 0.7503 - val_loss: 1.1818 - val_acc: 0.6759\n",
            "Epoch 70/84\n",
            "19/18 [==============================] - 1s 78ms/step - loss: 0.7550 - acc: 0.7102 - val_loss: 1.0190 - val_acc: 0.6852\n",
            "Epoch 71/84\n",
            "19/18 [==============================] - 1s 78ms/step - loss: 0.7253 - acc: 0.7314 - val_loss: 0.9764 - val_acc: 0.6944\n",
            "Epoch 72/84\n",
            "19/18 [==============================] - 1s 78ms/step - loss: 0.5787 - acc: 0.8019 - val_loss: 0.9482 - val_acc: 0.7130\n",
            "Epoch 73/84\n",
            "19/18 [==============================] - 2s 80ms/step - loss: 0.6601 - acc: 0.7622 - val_loss: 1.0110 - val_acc: 0.6852\n",
            "Epoch 74/84\n",
            "19/18 [==============================] - 1s 78ms/step - loss: 0.5907 - acc: 0.7761 - val_loss: 1.0201 - val_acc: 0.7222\n",
            "Epoch 75/84\n",
            "19/18 [==============================] - 1s 78ms/step - loss: 0.6475 - acc: 0.7639 - val_loss: 0.9310 - val_acc: 0.7222\n",
            "Epoch 76/84\n",
            "19/18 [==============================] - 1s 78ms/step - loss: 0.6331 - acc: 0.7657 - val_loss: 0.9625 - val_acc: 0.6852\n",
            "Epoch 77/84\n",
            "19/18 [==============================] - 1s 78ms/step - loss: 0.5762 - acc: 0.8034 - val_loss: 1.2394 - val_acc: 0.6296\n",
            "Epoch 78/84\n",
            "19/18 [==============================] - 2s 79ms/step - loss: 0.6576 - acc: 0.7576 - val_loss: 0.8680 - val_acc: 0.7222\n",
            "Epoch 79/84\n",
            "19/18 [==============================] - 1s 78ms/step - loss: 0.6414 - acc: 0.7715 - val_loss: 1.0794 - val_acc: 0.6759\n",
            "Epoch 80/84\n",
            "19/18 [==============================] - 2s 79ms/step - loss: 0.5967 - acc: 0.7944 - val_loss: 0.8829 - val_acc: 0.6759\n",
            "Epoch 81/84\n",
            "19/18 [==============================] - 1s 78ms/step - loss: 0.6142 - acc: 0.7686 - val_loss: 0.9020 - val_acc: 0.7130\n",
            "Epoch 82/84\n",
            "19/18 [==============================] - 1s 78ms/step - loss: 0.5752 - acc: 0.7726 - val_loss: 1.0565 - val_acc: 0.6667\n",
            "Epoch 83/84\n",
            "19/18 [==============================] - 1s 78ms/step - loss: 0.5695 - acc: 0.7944 - val_loss: 0.9552 - val_acc: 0.7130\n",
            "Epoch 84/84\n",
            "19/18 [==============================] - 1s 77ms/step - loss: 0.4660 - acc: 0.8282 - val_loss: 1.0237 - val_acc: 0.7315\n"
          ],
          "name": "stdout"
        }
      ]
    },
    {
      "metadata": {
        "id": "VAVIXTsa1ks0",
        "colab_type": "text"
      },
      "cell_type": "markdown",
      "source": [
        "# 9.驗證模型"
      ]
    },
    {
      "metadata": {
        "id": "s6HpsBQg1jAC",
        "colab_type": "code",
        "outputId": "ecd91b20-1da2-4890-f07b-dc35e8f0d5cc",
        "colab": {
          "base_uri": "https://localhost:8080/",
          "height": 86
        }
      },
      "cell_type": "code",
      "source": [
        "#print(history.history)\n",
        "\n",
        "# evaluate model\n",
        "score = net_model.evaluate(test_images,test_labels, verbose=1)\n",
        "print(\">>>>>>>>>>>>>>>>>>>>>>>>>>>>>>>>\")\n",
        "print(\"Keras CNN - accuracy: {:.2f}\".format(score[1]))\n",
        "print(\">>>>>>>>>>>>>>>>>>>>>>>>>>>>>>>>\")"
      ],
      "execution_count": 0,
      "outputs": [
        {
          "output_type": "stream",
          "text": [
            "162/162 [==============================] - 0s 579us/step\n",
            ">>>>>>>>>>>>>>>>>>>>>>>>>>>>>>>>\n",
            "Keras CNN - accuracy: 0.95\n",
            ">>>>>>>>>>>>>>>>>>>>>>>>>>>>>>>>\n"
          ],
          "name": "stdout"
        }
      ]
    },
    {
      "metadata": {
        "id": "jQB7bz0D5fvO",
        "colab_type": "text"
      },
      "cell_type": "markdown",
      "source": [
        "**9.1產生分析圖**"
      ]
    },
    {
      "metadata": {
        "id": "ICj_I2S85f6D",
        "colab_type": "code",
        "outputId": "a56cab0e-c5bb-4eee-dc91-9983adb085b1",
        "colab": {
          "base_uri": "https://localhost:8080/",
          "height": 1145
        }
      },
      "cell_type": "code",
      "source": [
        "# create figure\n",
        "plot_figure(history,figure_dir,figure_classname)"
      ],
      "execution_count": 0,
      "outputs": [
        {
          "output_type": "display_data",
          "data": {
            "image/png": "[encoded data removed]",
            "text/plain": [
              "<matplotlib.figure.Figure at 0x7f3213f2bf28>"
            ]
          },
          "metadata": {
            "tags": []
          }
        },
        {
          "output_type": "display_data",
          "data": {
            "image/png": "[encoded data removed]",
            "text/plain": [
              "<matplotlib.figure.Figure at 0x7f3215deffd0>"
            ]
          },
          "metadata": {
            "tags": []
          }
        }
      ]
    },
    {
      "metadata": {
        "id": "lcHliHQv9a90",
        "colab_type": "text"
      },
      "cell_type": "markdown",
      "source": [
        "**9.2儲存神經網路模型**"
      ]
    },
    {
      "metadata": {
        "id": "oxX7sA9m9F_x",
        "colab_type": "code",
        "outputId": "4ea0cb94-c604-44c9-d956-c3ffd8b722ff",
        "colab": {
          "base_uri": "https://localhost:8080/",
          "height": 139
        }
      },
      "cell_type": "code",
      "source": [
        "print(\">>>>>>>>>>>>>>>>>>>>>>>>>>>>>>>>\")\n",
        "print(\"h5_Model_Weigth Save Path: {}\".format(h5_model_weight_name))\n",
        "print(\"h5_Model Save Path: {}\".format(h5_model_name))\n",
        "print(\">>>>>>>>>>>>>>>>>>>>>>>>>>>>>>>>\")\n",
        "\n",
        "# save model and weight\n",
        "net_model.save_weights(h5_model_weight_name)\n",
        "net_model.save(h5_model_name)\n",
        "\n",
        "print(\"\\n顯示/content/Model底下檔案清單:\")\n",
        "\n",
        "#顯示/content/Model底下檔案清單\n",
        "!ls '/content/Model'"
      ],
      "execution_count": 0,
      "outputs": [
        {
          "output_type": "stream",
          "text": [
            ">>>>>>>>>>>>>>>>>>>>>>>>>>>>>>>>\n",
            "h5_Model_Weigth Save Path: /content/Model/FaceID_C6_weight.h5\n",
            "h5_Model Save Path: /content/Model/FaceID_C6_model.h5\n",
            ">>>>>>>>>>>>>>>>>>>>>>>>>>>>>>>>\n",
            "\n",
            "顯示/content/Model底下檔案清單:\n",
            "FaceID_C6_model.h5  FaceID_C6_weight.h5\n"
          ],
          "name": "stdout"
        }
      ]
    },
    {
      "metadata": {
        "id": "jgUgLNAl9KyQ",
        "colab_type": "code",
        "outputId": "2084e0e5-91d7-4741-ff0f-1d329721e18b",
        "colab": {
          "base_uri": "https://localhost:8080/",
          "height": 69
        }
      },
      "cell_type": "code",
      "source": [
        "end_time = '{:.2f}'.format((time.time() - start_time))\n",
        "print(\">>>>>>>>>>>>>>>>>>>>>>>>>>>>>>>>\")\n",
        "print(\"Speed Time: {}s\".format(end_time))\n",
        "print(\">>>>>>>>>>>>>>>>>>>>>>>>>>>>>>>>\")"
      ],
      "execution_count": 0,
      "outputs": [
        {
          "output_type": "stream",
          "text": [
            ">>>>>>>>>>>>>>>>>>>>>>>>>>>>>>>>\n",
            "Speed Time: 407.73s\n",
            ">>>>>>>>>>>>>>>>>>>>>>>>>>>>>>>>\n"
          ],
          "name": "stdout"
        }
      ]
    },
    {
      "metadata": {
        "id": "qG2Vy6EJF3_H",
        "colab_type": "text"
      },
      "cell_type": "markdown",
      "source": [
        "# 10.預測圖片"
      ]
    },
    {
      "metadata": {
        "id": "xi0SOP9aAtBO",
        "colab_type": "text"
      },
      "cell_type": "markdown",
      "source": [
        "**10.1載入模型**"
      ]
    },
    {
      "metadata": {
        "id": "R7fPHTXpF4j1",
        "colab_type": "code",
        "colab": {}
      },
      "cell_type": "code",
      "source": [
        "get_model = Model()\n",
        "\n",
        "# log output file\n",
        "outputfile_path = currentPath + '/log'\n",
        "write_fileName = str(face_class)+\"_prediction_output.txt\"\n",
        "full_outputfile_path = os.path.abspath(os.path.join(outputfile_path + write_fileName))\n",
        "\n",
        "correct_count = 0\n",
        "err_count = 0\n",
        "detail_log = \"\""
      ],
      "execution_count": 0,
      "outputs": []
    },
    {
      "metadata": {
        "id": "4-pZP5ImHPxf",
        "colab_type": "code",
        "outputId": "b6faf480-1b76-4a30-93bf-a05516892739",
        "colab": {
          "base_uri": "https://localhost:8080/",
          "height": 1146
        }
      },
      "cell_type": "code",
      "source": [
        "start_time = time.time()\n",
        "\n",
        "print(\"Wait for configure operation sources...... \\n\")\n",
        "\n",
        "#--------------------------- load model ---------------------------\n",
        "with tf.device(I_CPU):\n",
        "\n",
        "      get_model = load_model(h5_model_name)\n",
        "\n",
        "      print('Start Load Model......')\n",
        "      \n",
        "      print(\"Model Name: {}\\nPath: {}\".format(\"FaceID_C\" + str(face_class) + \"_model.h5\",h5_model_name))\n",
        "\n",
        "      print(\"\\n>>>>>>>>>>>>>>>>>>>>>>>>>>>>>>>>>>>>\")\n",
        "      # check model construction\n",
        "      print(\"Model layer length: {}\".format(len(get_model.layers)))\n",
        "      print(\">>>>>>>>>>>>>>>>>>>>>>>>>>>>>>>>>>>>\\n\")\n",
        "\n",
        "      get_model.summary()\n",
        "\n",
        "#-------------------------------------------------------------------"
      ],
      "execution_count": 0,
      "outputs": [
        {
          "output_type": "stream",
          "text": [
            "Wait for configure operation sources...... \n",
            "\n",
            "Start Load Model......\n",
            "Model Name: FaceID_C6_model.h5\n",
            "Path: /content/Model/FaceID_C6_model.h5\n",
            "\n",
            ">>>>>>>>>>>>>>>>>>>>>>>>>>>>>>>>>>>>\n",
            "Model layer length: 24\n",
            ">>>>>>>>>>>>>>>>>>>>>>>>>>>>>>>>>>>>\n",
            "\n",
            "_________________________________________________________________\n",
            "Layer (type)                 Output Shape              Param #   \n",
            "=================================================================\n",
            "conv2d_46 (Conv2D)           (None, 96, 96, 32)        896       \n",
            "_________________________________________________________________\n",
            "activation_64 (Activation)   (None, 96, 96, 32)        0         \n",
            "_________________________________________________________________\n",
            "conv2d_47 (Conv2D)           (None, 96, 96, 32)        9248      \n",
            "_________________________________________________________________\n",
            "activation_65 (Activation)   (None, 96, 96, 32)        0         \n",
            "_________________________________________________________________\n",
            "max_pooling2d_37 (MaxPooling (None, 48, 48, 32)        0         \n",
            "_________________________________________________________________\n",
            "dropout_46 (Dropout)         (None, 48, 48, 32)        0         \n",
            "_________________________________________________________________\n",
            "conv2d_48 (Conv2D)           (None, 48, 48, 64)        18496     \n",
            "_________________________________________________________________\n",
            "activation_66 (Activation)   (None, 48, 48, 64)        0         \n",
            "_________________________________________________________________\n",
            "max_pooling2d_38 (MaxPooling (None, 24, 24, 64)        0         \n",
            "_________________________________________________________________\n",
            "dropout_47 (Dropout)         (None, 24, 24, 64)        0         \n",
            "_________________________________________________________________\n",
            "conv2d_49 (Conv2D)           (None, 24, 24, 128)       73856     \n",
            "_________________________________________________________________\n",
            "activation_67 (Activation)   (None, 24, 24, 128)       0         \n",
            "_________________________________________________________________\n",
            "max_pooling2d_39 (MaxPooling (None, 12, 12, 128)       0         \n",
            "_________________________________________________________________\n",
            "dropout_48 (Dropout)         (None, 12, 12, 128)       0         \n",
            "_________________________________________________________________\n",
            "conv2d_50 (Conv2D)           (None, 12, 12, 256)       295168    \n",
            "_________________________________________________________________\n",
            "activation_68 (Activation)   (None, 12, 12, 256)       0         \n",
            "_________________________________________________________________\n",
            "max_pooling2d_40 (MaxPooling (None, 6, 6, 256)         0         \n",
            "_________________________________________________________________\n",
            "dropout_49 (Dropout)         (None, 6, 6, 256)         0         \n",
            "_________________________________________________________________\n",
            "flatten_10 (Flatten)         (None, 9216)              0         \n",
            "_________________________________________________________________\n",
            "dense_19 (Dense)             (None, 1024)              9438208   \n",
            "_________________________________________________________________\n",
            "activation_69 (Activation)   (None, 1024)              0         \n",
            "_________________________________________________________________\n",
            "dropout_50 (Dropout)         (None, 1024)              0         \n",
            "_________________________________________________________________\n",
            "dense_20 (Dense)             (None, 6)                 6150      \n",
            "_________________________________________________________________\n",
            "activation_70 (Activation)   (None, 6)                 0         \n",
            "=================================================================\n",
            "Total params: 9,842,022\n",
            "Trainable params: 9,842,022\n",
            "Non-trainable params: 0\n",
            "_________________________________________________________________\n"
          ],
          "name": "stdout"
        }
      ]
    },
    {
      "metadata": {
        "colab_type": "text",
        "id": "9cfqV-DAL_UY"
      },
      "cell_type": "markdown",
      "source": [
        "**10.2載入預測圖片與進行預測**"
      ]
    },
    {
      "metadata": {
        "id": "8bzmvHxzH1ZS",
        "colab_type": "code",
        "outputId": "3051611a-a778-4a6b-bd34-da5a03e26927",
        "colab": {
          "base_uri": "https://localhost:8080/",
          "height": 1979
        }
      },
      "cell_type": "code",
      "source": [
        "#--------------------------- load face image -----------------------\n",
        "correct_count = 0\n",
        "err_count = 0\n",
        "detail_log = \"\"\n",
        "temp_log = \"\"\n",
        "\n",
        "with tf.device(n_GPU):\n",
        "\n",
        "    print('Start Load Face Image.\\n')\n",
        "\n",
        "    temp_log='''\n",
        "     --------------------------------------------------------------------------\n",
        "\n",
        "     This is run keras model predict result log.\n",
        "     The face class : [ {} ] and model use [ {} ].     \n",
        "\n",
        "     --------------------------------------------------------------------------\n",
        "     \\n\\n '''.format(face_class , h5_model_name)\n",
        "      \n",
        "    \n",
        "    # 讀取指定的位置下目錄\n",
        "    for dir_list in os.listdir(predict_faceimg_path):\n",
        "\n",
        "        load_start_time = time.time()\n",
        "        \n",
        "        # 產生絕對路徑，將當前指定位置與該位置下的目錄名稱串接一起\n",
        "        full_path = os.path.abspath(os.path.join(predict_faceimg_path+dir_list))\n",
        "        \n",
        "        \n",
        "        #判斷絕對路徑是否為一個目錄資料夾\n",
        "        if os.path.isdir(full_path):\n",
        "            \n",
        "            # 讀取目錄資料夾內檔案\n",
        "            for dir_item in os.listdir(full_path):\n",
        "                   \n",
        "                print('Load Face Image:  {} '.format(dir_item))\n",
        "                \n",
        "                # 產生絕對路徑 ，將目錄資料名稱與目錄資料夾內檔案串接一起\n",
        "                item_path = os.path.abspath(os.path.join(full_path+'/'+dir_item))\n",
        "\n",
        "                #img = image.load_img(full_path)\n",
        "                img = cv2.imread(item_path) # 讀取圖片，使用OpenCV\n",
        "                img = cv2.resize(img,(img_resize,img_resize)) # 重新設置圖片大小\n",
        "                #print('Image size: {}'.format(img.size))\n",
        "\n",
        "                # Image convert to array\n",
        "                img_array = image.img_to_array(img)\n",
        "                #print('Image shape: {}'.format(img_array.shape))\n",
        "\n",
        "                # Image shape change dimensions ex: (640,480,3) --> (None,640,480,3)\n",
        "                img_array = np.expand_dims(img_array, axis=0)\n",
        "                #print('Image change dims shape: {}\\n'.format(img_array.shape))\n",
        "\n",
        "                img_array = img_array.astype('float32')\n",
        "                img_array /= 255\n",
        "\n",
        "                #print(\">>>>>>>>>>>>>>>>>>>>>>>>>>>>>>>>>>>>>>>>>>>>>>>>>>>>>>>>>>>>>>>>>>>>>>>>>>\")\n",
        "                \n",
        "                # 執行模型預測\n",
        "                predict_result = get_model.predict(img_array,batch_size=batch_size,verbose=verbose)\n",
        "                \n",
        "                # 取得該圖片所屬的分類索引\n",
        "                faceindex = np.argmax(predict_result[0])\n",
        "                \n",
        "                # SQL 語法\n",
        "                SQL_select_syntax = '''\n",
        "                SELECT {} FROM {} WHERE {} = '{}'\n",
        "                '''.format(column_facename,db_TableName, column_faceindex, faceindex)\n",
        "                \n",
        "                # 查詢SQLite內的分類索引\n",
        "                SQL_run = curs.execute(SQL_select_syntax)\n",
        "                 \n",
        "                # 取得SQL查詢結果\n",
        "                SQL_result = curs.fetchall()\n",
        "                \n",
        "                #判斷是否有查詢結果\n",
        "                if len(SQL_result) > 0:\n",
        "                    \n",
        "                    #開檔\n",
        "                    filewrite = open(full_outputfile_path, 'w')                \n",
        "\n",
        "                    #print('Face Image Predict result of : {}'.format(SQL_result))\n",
        "\n",
        "                    load_end_time = '{:.2f}'.format((time.time() - load_start_time))\n",
        "                    #print(\"Speed Time: {}s\".format(load_end_time))\n",
        "                    \n",
        "                    # 產生Log訊息\n",
        "                    temp_log += \"\\n\"\n",
        "                    temp_log += \" >>>>>>>>>>>>>>>>>>>>>>>>>>>>>>>>>>>>>>>>>>>>>>>>>>>>>>>>>>>>>>>>>>>>>>>>>>\\n\"\n",
        "                    temp_log += \" Load Face Image:  {}\\n\".format(dir_item)\n",
        "                    temp_log += \" Face Image Predict result of : {} ,[{}]\\n\".format(SQL_result[0][0],faceindex)\n",
        "                    temp_log += \" Speed Time: {}s\\n\".format(load_end_time)\n",
        "                    temp_log += \" >>>>>>>>>>>>>>>>>>>>>>>>>>>>>>>>>>>>>>>>>>>>>>>>>>>>>>>>>>>>>>>>>>>>>>>>>>\\n\"\n",
        "\n",
        "\n",
        "                     #temp_log = temp_log + '''\\n\n",
        "                     #>>>>>>>>>>>>>>>>>>>>>>>>>>>>>>>>>>>>>>>>>>>>>>>>>>>>>>>>>>>>>>>>>>>>>>>>>>\\n\n",
        "                     #\\n\n",
        "                     #Load Face Image:  {}\\n\n",
        "                     #Face Image Predict result of : {} ,[{}]\\n\n",
        "                     #Speed Time: {}s\\n\n",
        "                     #\\n\n",
        "                     #>>>>>>>>>>>>>>>>>>>>>>>>>>>>>>>>>>>>>>>>>>>>>>>>>>>>>>>>>>>>>>>>>>>>>>>>>>\n",
        "                     #\\n\\n\\n\n",
        "                     #'''.format(dir_item,SQL_result,faceindex,load_end_time)\n",
        "\n",
        "                     #print(type(SQL_result))\n",
        "                     #print(SQL_result[0][0])\n",
        "                     #print(dir_list)\n",
        "                    \n",
        "                    # 比對模型預測的結果是否正確\n",
        "                    if dir_list != SQL_result[0][0]:\n",
        "                      \n",
        "                        err_count +=1 # 累加錯誤預測次數\n",
        "                        \n",
        "                        # 產生Log訊息\n",
        "                        detail_log += \"\\t\\t>>>>>>>>>>>>>>>>>>>>>>>>>>>>>>>>>>>>>>>>>>>>>>>>>>>>>>>>>>>>>>\\n\"\n",
        "                        detail_log += ''' \\t\\t\"{}\" Predict ----> {} (X)\\n'''.format(dir_item,SQL_result[0][0])\n",
        "                        detail_log += \"\\t\\t>>>>>>>>>>>>>>>>>>>>>>>>>>>>>>>>>>>>>>>>>>>>>>>>>>>>>>>>>>>>>>\\n\\n\"     \n",
        "                        \n",
        "                    else:\n",
        "                      \n",
        "                        correct_count +=1 # 累加正確預測次數\n",
        "                        \n",
        "                        # 產生Log訊息\n",
        "                        detail_log += ''' \\t\\t\"{}\"  Predict ----> {} (O)\\n\\n'''.format(dir_item,SQL_result[0][0])\n",
        "\n",
        "                    #filewrite.write('''\n",
        "                    #   >>>>>>>>>>>>>>>>>>>>>>>>>>>>>>>>>>>>>>>>>>>>>>>>>>>>>>>>>>>>>>>>>>>>>>>>>>\n",
        "                    #   Load Face Image:  {} \\n\n",
        "                    #   Face Image Predict result of : {} ,[{}]\\n\n",
        "                    #   Speed Time: {}s\\n\n",
        "                    #   >>>>>>>>>>>>>>>>>>>>>>>>>>>>>>>>>>>>>>>>>>>>>>>>>>>>>>>>>>>>>>>>>>>>>>>>>>\n",
        "                    #   \\n\\n\\n\n",
        "                    #'''.format(dir_item,SQL_result,faceindex,load_end_time))\n",
        "                    #filewrite.close()\n",
        "\n",
        "                else:\n",
        "\n",
        "                    print ('Run SQL Error')\n",
        "\n",
        "                    #print(\">>>>>>>>>>>>>>>>>>>>>>>>>>>>>>>>>>>>>>>>>>>>>>>>>>>>>>>>>>>>>>>>>>>>>>>>>>\\n\")\n",
        "\n",
        "\n",
        "    end_time = '{:.2f}'.format((time.time() - start_time))\n",
        "        \n",
        "    # 產生Log訊息\n",
        "    temp_log = temp_log +'''\\n\\nFull Speed Time: {}s\\n\\n'''.format(end_time)\n",
        "    \n",
        "    # 產生Log訊息\n",
        "    detail_log +='''\n",
        "    \\t\\t\\t-------------------------------\n",
        "    \\t\\t\\tPredict Correct count:  {}\n",
        "    \\t\\t\\tPredict Error   count:  {} \n",
        "    \\t\\t\\t-------------------------------\n",
        "    '''.format(correct_count,err_count)\n",
        "    \n",
        "    print(\"\\n <<------------------------------------ 預測結果 ------------------------------------>>\\n{}\".format(detail_log))\n",
        "   # print(detail_log)\n",
        "    \n",
        "    # 寫檔\n",
        "    filewrite.write(temp_log + detail_log)\n",
        "    # 關檔\n",
        "    filewrite.close()\n",
        "\n",
        "    print(\"\\t\\t\\tFull Speed Time: {}s\".format(end_time))\n",
        "\n",
        "    #-------------------------------------------------------------------"
      ],
      "execution_count": 0,
      "outputs": [
        {
          "output_type": "stream",
          "text": [
            "Start Load Face Image.\n",
            "\n",
            "Load Face Image:  Jean Reno_02.jpg \n",
            "1/1 [==============================] - 1s 1s/step\n",
            "Load Face Image:  Jean Reno_01.jpg \n",
            "1/1 [==============================] - 0s 21ms/step\n",
            "Load Face Image:  Jean Reno_04.jpg \n",
            "1/1 [==============================] - 0s 22ms/step\n",
            "Load Face Image:  Jean Reno_03.jpg \n",
            "1/1 [==============================] - 0s 21ms/step\n",
            "Load Face Image:  Ben Stiller_03.jpg \n",
            "1/1 [==============================] - 0s 21ms/step\n",
            "Load Face Image:  Ben Stiller_02.jpg \n",
            "1/1 [==============================] - 0s 21ms/step\n",
            "Load Face Image:  Ben Stiller_01.jpg \n",
            "1/1 [==============================] - 0s 24ms/step\n",
            "Load Face Image:  Ben Stiller_04.jpg \n",
            "1/1 [==============================] - 0s 25ms/step\n",
            "Load Face Image:  Adam Sandler_01.jpg \n",
            "1/1 [==============================] - 0s 26ms/step\n",
            "Load Face Image:  Adam Sandler_03.jpg \n",
            "1/1 [==============================] - 0s 26ms/step\n",
            "Load Face Image:  Adam Sandler_02.jpg \n",
            "1/1 [==============================] - 0s 21ms/step\n",
            "Load Face Image:  Adam Sandler_04.jpg \n",
            "1/1 [==============================] - 0s 22ms/step\n",
            "Load Face Image:  Aaron Judge_02.jpg \n",
            "1/1 [==============================] - 0s 22ms/step\n",
            "Load Face Image:  Aaron Judge_04.jpg \n",
            "1/1 [==============================] - 0s 22ms/step\n",
            "Load Face Image:  Aaron Judge_01.jpg \n",
            "1/1 [==============================] - 0s 22ms/step\n",
            "Load Face Image:  Aaron Judge_03.jpg \n",
            "1/1 [==============================] - 0s 21ms/step\n",
            "Load Face Image:  Ice Cube_04.jpg \n",
            "1/1 [==============================] - 0s 25ms/step\n",
            "Load Face Image:  Ice Cube_01.jpg \n",
            "1/1 [==============================] - 0s 21ms/step\n",
            "Load Face Image:  Ice Cube_02.jpg \n",
            "1/1 [==============================] - 0s 22ms/step\n",
            "Load Face Image:  Ice Cube_03.jpg \n",
            "1/1 [==============================] - 0s 25ms/step\n",
            "Load Face Image:  Emily Watson_01.jpg \n",
            "1/1 [==============================] - 0s 22ms/step\n",
            "Load Face Image:  Emily Watson_02.jpg \n",
            "1/1 [==============================] - 0s 22ms/step\n",
            "Load Face Image:  Emily Watson_03.jpg \n",
            "1/1 [==============================] - 0s 31ms/step\n",
            "Load Face Image:  Emily Watson_04.jpg \n",
            "1/1 [==============================] - 0s 21ms/step\n",
            "\n",
            " <<------------------------------------ 預測結果 ------------------------------------>>\n",
            " \t\t\"Jean Reno_02.jpg\"  Predict ----> Jean Reno (O)\n",
            "\n",
            " \t\t\"Jean Reno_01.jpg\"  Predict ----> Jean Reno (O)\n",
            "\n",
            " \t\t\"Jean Reno_04.jpg\"  Predict ----> Jean Reno (O)\n",
            "\n",
            " \t\t\"Jean Reno_03.jpg\"  Predict ----> Jean Reno (O)\n",
            "\n",
            " \t\t\"Ben Stiller_03.jpg\"  Predict ----> Ben Stiller (O)\n",
            "\n",
            " \t\t\"Ben Stiller_02.jpg\"  Predict ----> Ben Stiller (O)\n",
            "\n",
            " \t\t\"Ben Stiller_01.jpg\"  Predict ----> Ben Stiller (O)\n",
            "\n",
            " \t\t\"Ben Stiller_04.jpg\"  Predict ----> Ben Stiller (O)\n",
            "\n",
            " \t\t\"Adam Sandler_01.jpg\"  Predict ----> Adam Sandler (O)\n",
            "\n",
            " \t\t\"Adam Sandler_03.jpg\"  Predict ----> Adam Sandler (O)\n",
            "\n",
            "\t\t>>>>>>>>>>>>>>>>>>>>>>>>>>>>>>>>>>>>>>>>>>>>>>>>>>>>>>>>>>>>>>\n",
            " \t\t\"Adam Sandler_02.jpg\" Predict ----> Ben Stiller (X)\n",
            "\t\t>>>>>>>>>>>>>>>>>>>>>>>>>>>>>>>>>>>>>>>>>>>>>>>>>>>>>>>>>>>>>>\n",
            "\n",
            " \t\t\"Adam Sandler_04.jpg\"  Predict ----> Adam Sandler (O)\n",
            "\n",
            " \t\t\"Aaron Judge_02.jpg\"  Predict ----> Aaron Judge (O)\n",
            "\n",
            "\t\t>>>>>>>>>>>>>>>>>>>>>>>>>>>>>>>>>>>>>>>>>>>>>>>>>>>>>>>>>>>>>>\n",
            " \t\t\"Aaron Judge_04.jpg\" Predict ----> Adam Sandler (X)\n",
            "\t\t>>>>>>>>>>>>>>>>>>>>>>>>>>>>>>>>>>>>>>>>>>>>>>>>>>>>>>>>>>>>>>\n",
            "\n",
            " \t\t\"Aaron Judge_01.jpg\"  Predict ----> Aaron Judge (O)\n",
            "\n",
            " \t\t\"Aaron Judge_03.jpg\"  Predict ----> Aaron Judge (O)\n",
            "\n",
            " \t\t\"Ice Cube_04.jpg\"  Predict ----> Ice Cube (O)\n",
            "\n",
            " \t\t\"Ice Cube_01.jpg\"  Predict ----> Ice Cube (O)\n",
            "\n",
            "\t\t>>>>>>>>>>>>>>>>>>>>>>>>>>>>>>>>>>>>>>>>>>>>>>>>>>>>>>>>>>>>>>\n",
            " \t\t\"Ice Cube_02.jpg\" Predict ----> Ben Stiller (X)\n",
            "\t\t>>>>>>>>>>>>>>>>>>>>>>>>>>>>>>>>>>>>>>>>>>>>>>>>>>>>>>>>>>>>>>\n",
            "\n",
            " \t\t\"Ice Cube_03.jpg\"  Predict ----> Ice Cube (O)\n",
            "\n",
            " \t\t\"Emily Watson_01.jpg\"  Predict ----> Emily Watson (O)\n",
            "\n",
            " \t\t\"Emily Watson_02.jpg\"  Predict ----> Emily Watson (O)\n",
            "\n",
            " \t\t\"Emily Watson_03.jpg\"  Predict ----> Emily Watson (O)\n",
            "\n",
            " \t\t\"Emily Watson_04.jpg\"  Predict ----> Emily Watson (O)\n",
            "\n",
            "\n",
            "    \t\t\t-------------------------------\n",
            "    \t\t\tPredict Correct count:  21\n",
            "    \t\t\tPredict Error   count:  3 \n",
            "    \t\t\t-------------------------------\n",
            "    \n",
            "\t\t\tFull Speed Time: 11.13s\n"
          ],
          "name": "stdout"
        }
      ]
    }
  ]
}