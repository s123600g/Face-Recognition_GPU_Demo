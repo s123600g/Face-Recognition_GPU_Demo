{
  "nbformat": 4,
  "nbformat_minor": 0,
  "metadata": {
    "colab": {
      "name": "Face_Recognition_GPU_data_zip_Demo.ipynb",
      "version": "0.3.2",
      "provenance": [],
      "collapsed_sections": []
    },
    "kernelspec": {
      "name": "python3",
      "display_name": "Python 3"
    },
    "accelerator": "GPU"
  },
  "cells": [
    {
      "cell_type": "markdown",
      "metadata": {
        "id": "AMX09CyDVfK7",
        "colab_type": "text"
      },
      "source": [
        "# 資料集簡介\n",
        "\n",
        "---\n",
        "\n"
      ]
    },
    {
      "cell_type": "markdown",
      "metadata": {
        "id": "bySgxBYcVk-f",
        "colab_type": "text"
      },
      "source": [
        "臉部圖片資料集：***Celebrity-Face-Recognition-Dataset***\n",
        "\n",
        "來源 :　[https://github.com/prateekmehta59/Celebrity-Face-Recognition-Dataset](https://github.com/prateekmehta59/Celebrity-Face-Recognition-Dataset)\n",
        "\n",
        "1.  80萬張臉部圖片\n",
        "2.  1100位最受歡迎的名人組成\n",
        "1.   每一位名人臉部張數約為700-800張之間\n",
        "2.   臉部資料集大小共有 172 GB\n",
        "\n",
        "\n",
        "---\n",
        "\n"
      ]
    },
    {
      "cell_type": "markdown",
      "metadata": {
        "id": "gyJKfhVjRu1-",
        "colab_type": "text"
      },
      "source": [
        "**本專案使用的圖片資料集存放位置**\n",
        "\n",
        "\n",
        "---\n",
        "imgdata.zip：\n",
        "[https://drive.google.com/open?id=19fvYcCAslDET2dP1SrwS2XAMOYGi4dgD](https://drive.google.com/open?id=19fvYcCAslDET2dP1SrwS2XAMOYGi4dgD)\n",
        "\n",
        "\n",
        " imgdata.zip，內部為一個imgdata目錄資料夾，裡面存放\"FaceImg\"(訓練用圖片) 、\"Facelabeldb\"(分類索引編碼存放資料庫SQLite3檔案)、\"PredictFaceimg\"(預測用圖片) 三個目錄資料夾。\n",
        "\n",
        "---\n",
        "\n",
        "**下載雲端檔案方式**\n",
        "\n",
        "\n",
        "參考資源：Download Google Drive file with WGET --> [https://gist.github.com/iamtekeste/3cdfd0366ebfd2c0d805](https://gist.github.com/iamtekeste/3cdfd0366ebfd2c0d805)\n",
        "\n",
        "\n",
        "Google雲端URL下載語法 `https://docs.google.com/uc?export=download&id=File ID`\n",
        "\n",
        "\n",
        "\n",
        "使用wget下載Google雲端語法格式\n",
        "\n",
        "`wget --no-check-certificate -r 'Download Google Drive File URL'  -O 'FileName'`\n",
        "\n",
        "\n",
        "\n",
        "本專案下載Google雲端實際語法格式\n",
        "\n",
        "`wget --no-check-certificate -r 'https://docs.google.com/uc?export=download&id=19fvYcCAslDET2dP1SrwS2XAMOYGi4dgD'  -O 'imgdata.zip'`\n",
        "\n"
      ]
    },
    {
      "cell_type": "markdown",
      "metadata": {
        "id": "n-La4pm_UnAG",
        "colab_type": "text"
      },
      "source": [
        "**解壓縮zip**\n",
        "\n",
        "\n",
        "---\n",
        "解壓縮zip指令使用 `unzip`\n",
        "\n",
        "如果要指定解壓縮到哪個路徑底下要加上-d '指定路徑位置'，例如 -d imagedataset/  解壓縮imgdata.zip imagedataset/底下\n",
        "\n",
        "本專案解壓縮預設路徑為/content底下，所以在解壓縮時，不用指定解壓縮檔案存放位置。\n",
        "\n",
        "本專案實際執行的解壓縮指令\n",
        "`unzip imgdata.zip`"
      ]
    },
    {
      "cell_type": "markdown",
      "metadata": {
        "id": "kxN5RB5sXEd1",
        "colab_type": "text"
      },
      "source": [
        "**本專案程式使用的資料集設置**\n",
        "\n",
        "\n",
        "---\n",
        "使用６位名人的臉部圖片作為資料集來源使用。\n",
        "\n",
        "分別為：\n",
        "\n",
        "1. 'Aaron Judge'\n",
        "\n",
        "2. 'Ben Stiller'\n",
        "\n",
        "3. 'Ice Cube'\n",
        "\n",
        "4. 'Adam Sandler'\n",
        "\n",
        "5. 'Emily Watson'\t\n",
        "\n",
        "6. 'Jean Reno'\n",
        "\n",
        "\n",
        "每一位名人臉部圖片數量為90張。\n"
      ]
    },
    {
      "cell_type": "markdown",
      "metadata": {
        "id": "BRN2yeabVmMN",
        "colab_type": "text"
      },
      "source": [
        "---\n",
        "\n",
        "**臉部預測樣本設定**\n",
        "\n",
        "\n",
        "---\n",
        "\n",
        "\n",
        "每一位名人取出 4 張未存在訓練樣本裡臉部圖片，作為後面模型預測來源依據。"
      ]
    },
    {
      "cell_type": "markdown",
      "metadata": {
        "colab_type": "text",
        "id": "JtDlEwdNK3OL"
      },
      "source": [
        "#1. 下載圖片資料與建立目錄資料夾"
      ]
    },
    {
      "cell_type": "code",
      "metadata": {
        "id": "Psy7ET3V-frN",
        "colab_type": "code",
        "outputId": "b598b002-4cd2-4891-9b76-2f7947de99e0",
        "colab": {
          "base_uri": "https://localhost:8080/",
          "height": 35
        }
      },
      "source": [
        "#顯示當前位置\n",
        "!pwd"
      ],
      "execution_count": 1,
      "outputs": [
        {
          "output_type": "stream",
          "text": [
            "/content\n"
          ],
          "name": "stdout"
        }
      ]
    },
    {
      "cell_type": "code",
      "metadata": {
        "id": "mAQmGoeZEkKj",
        "colab_type": "code",
        "outputId": "b90cd2e8-1bf6-4f61-d9fc-392ea7aaf7bc",
        "colab": {
          "base_uri": "https://localhost:8080/",
          "height": 1522
        }
      },
      "source": [
        "#下載圖片資料壓縮檔 imgdata.zip，透過wget指令下載存放在Google雲端上資料來源\n",
        "#!wget --no-check-certificate -r 'Download Google Drive File URL'  -O 'FileName'\n",
        "#Google雲端URL下載語法'https://docs.google.com/uc?export=download&id=File ID'\n",
        "#File ID在檔案共用選項中可以取得\n",
        "#Download Google Drive file with WGET --> https://gist.github.com/iamtekeste/3cdfd0366ebfd2c0d805\n",
        "\n",
        "!wget --no-check-certificate -r 'https://docs.google.com/uc?export=download&id=19fvYcCAslDET2dP1SrwS2XAMOYGi4dgD'  -O 'imgdata.zip'"
      ],
      "execution_count": 2,
      "outputs": [
        {
          "output_type": "stream",
          "text": [
            "WARNING: combining -O with -r or -p will mean that all downloaded content\n",
            "will be placed in the single file you specified.\n",
            "\n",
            "--2019-05-06 03:40:29--  https://docs.google.com/uc?export=download&id=19fvYcCAslDET2dP1SrwS2XAMOYGi4dgD\n",
            "Resolving docs.google.com (docs.google.com)... 74.125.141.102, 74.125.141.113, 74.125.141.101, ...\n",
            "Connecting to docs.google.com (docs.google.com)|74.125.141.102|:443... connected.\n",
            "HTTP request sent, awaiting response... 200 OK\n",
            "Length: unspecified [text/html]\n",
            "Saving to: ‘imgdata.zip’\n",
            "\n",
            "\rimgdata.zip             [<=>                 ]       0  --.-KB/s               \rimgdata.zip             [ <=>                ]   3.17K  --.-KB/s    in 0s      \n",
            "\n",
            "2019-05-06 03:40:29 (46.0 MB/s) - ‘imgdata.zip’ saved [3247]\n",
            "\n",
            "Loading robots.txt; please ignore errors.\n",
            "--2019-05-06 03:40:29--  https://docs.google.com/robots.txt\n",
            "Reusing existing connection to docs.google.com:443.\n",
            "HTTP request sent, awaiting response... 200 OK\n",
            "Length: unspecified [text/plain]\n",
            "Saving to: ‘imgdata.zip’\n",
            "\n",
            "\rimgdata.zip             [<=>                 ]       0  --.-KB/s               \rimgdata.zip             [ <=>                ]     567  --.-KB/s    in 0s      \n",
            "\n",
            "2019-05-06 03:40:29 (94.6 MB/s) - ‘imgdata.zip’ saved [567]\n",
            "\n",
            "--2019-05-06 03:40:29--  https://docs.google.com/static/doclist/client/css/2168263972-untrustedcontent.css\n",
            "Reusing existing connection to docs.google.com:443.\n",
            "HTTP request sent, awaiting response... 200 OK\n",
            "Length: unspecified [text/css]\n",
            "Saving to: ‘imgdata.zip’\n",
            "\n",
            "\rimgdata.zip             [<=>                 ]       0  --.-KB/s               \rimgdata.zip             [ <=>                ] 267.16K  --.-KB/s    in 0.003s  \n",
            "\n",
            "2019-05-06 03:40:29 (91.6 MB/s) - ‘imgdata.zip’ saved [273572]\n",
            "\n",
            "--2019-05-06 03:40:29--  https://docs.google.com/settings?hl=en_US\n",
            "Reusing existing connection to docs.google.com:443.\n",
            "HTTP request sent, awaiting response... 302 Found\n",
            "Location: https://accounts.google.com/ServiceLogin?service=wise&passive=1209600&continue=https://docs.google.com/settings?hl%3Den_US&followup=https://docs.google.com/settings?hl%3Den_US&hl=en_US [following]\n",
            "--2019-05-06 03:40:29--  https://accounts.google.com/ServiceLogin?service=wise&passive=1209600&continue=https://docs.google.com/settings?hl%3Den_US&followup=https://docs.google.com/settings?hl%3Den_US&hl=en_US\n",
            "Resolving accounts.google.com (accounts.google.com)... 74.125.141.84, 2607:f8b0:400c:c06::54\n",
            "Connecting to accounts.google.com (accounts.google.com)|74.125.141.84|:443... connected.\n",
            "HTTP request sent, awaiting response... 200 OK\n",
            "Length: unspecified [text/html]\n",
            "Saving to: ‘imgdata.zip’\n",
            "\n",
            "\rimgdata.zip             [<=>                 ]       0  --.-KB/s               \rimgdata.zip             [ <=>                ]  55.11K  --.-KB/s    in 0.003s  \n",
            "\n",
            "2019-05-06 03:40:30 (15.7 MB/s) - ‘imgdata.zip’ saved [56429]\n",
            "\n",
            "--2019-05-06 03:40:30--  https://docs.google.com/open?id=19fvYcCAslDET2dP1SrwS2XAMOYGi4dgD\n",
            "Connecting to docs.google.com (docs.google.com)|74.125.141.102|:443... connected.\n",
            "HTTP request sent, awaiting response... 307 OK\n",
            "Location: https://drive.google.com/file/d/19fvYcCAslDET2dP1SrwS2XAMOYGi4dgD/view?usp=drive_open [following]\n",
            "--2019-05-06 03:40:30--  https://drive.google.com/file/d/19fvYcCAslDET2dP1SrwS2XAMOYGi4dgD/view?usp=drive_open\n",
            "Resolving drive.google.com (drive.google.com)... 74.125.141.101, 74.125.141.138, 74.125.141.102, ...\n",
            "Connecting to drive.google.com (drive.google.com)|74.125.141.101|:443... connected.\n",
            "HTTP request sent, awaiting response... 200 OK\n",
            "Length: unspecified [text/html]\n",
            "Saving to: ‘imgdata.zip’\n",
            "\n",
            "\rimgdata.zip             [<=>                 ]       0  --.-KB/s               \rimgdata.zip             [ <=>                ] 120.14K  --.-KB/s    in 0.01s   \n",
            "\n",
            "2019-05-06 03:40:30 (9.53 MB/s) - ‘imgdata.zip’ saved [123019]\n",
            "\n",
            "--2019-05-06 03:40:30--  https://docs.google.com/uc?export=download&confirm=4SKs&id=19fvYcCAslDET2dP1SrwS2XAMOYGi4dgD\n",
            "Connecting to docs.google.com (docs.google.com)|74.125.141.102|:443... connected.\n",
            "HTTP request sent, awaiting response... 302 Moved Temporarily\n",
            "Location: https://doc-0o-4g-docs.googleusercontent.com/docs/securesc/ha0ro937gcuc7l7deffksulhg5h7mbp1/6dgee041ndotqch1oglagisuvkp58e09/1557108000000/13552193235433718899/*/19fvYcCAslDET2dP1SrwS2XAMOYGi4dgD?e=download [following]\n",
            "Warning: wildcards not supported in HTTP.\n",
            "--2019-05-06 03:40:30--  https://doc-0o-4g-docs.googleusercontent.com/docs/securesc/ha0ro937gcuc7l7deffksulhg5h7mbp1/6dgee041ndotqch1oglagisuvkp58e09/1557108000000/13552193235433718899/*/19fvYcCAslDET2dP1SrwS2XAMOYGi4dgD?e=download\n",
            "Resolving doc-0o-4g-docs.googleusercontent.com (doc-0o-4g-docs.googleusercontent.com)... 74.125.141.132, 2607:f8b0:400c:c06::84\n",
            "Connecting to doc-0o-4g-docs.googleusercontent.com (doc-0o-4g-docs.googleusercontent.com)|74.125.141.132|:443... connected.\n",
            "HTTP request sent, awaiting response... 200 OK\n",
            "Length: unspecified [application/zip]\n",
            "Saving to: ‘imgdata.zip’\n",
            "\n",
            "imgdata.zip             [     <=>            ] 118.55M  73.6MB/s    in 1.6s    \n",
            "\n",
            "2019-05-06 03:40:32 (73.6 MB/s) - ‘imgdata.zip’ saved [124307850]\n",
            "\n",
            "FINISHED --2019-05-06 03:40:32--\n",
            "Total wall clock time: 2.6s\n",
            "Downloaded: 6 files, 119M in 1.6s (73.0 MB/s)\n"
          ],
          "name": "stdout"
        }
      ]
    },
    {
      "cell_type": "code",
      "metadata": {
        "id": "xMmkbZR5FDcK",
        "colab_type": "code",
        "outputId": "08727eac-4544-4138-c250-1dd7390328d9",
        "colab": {
          "base_uri": "https://localhost:8080/",
          "height": 35
        }
      },
      "source": [
        "#檢視當前位置下是否有存在剛下載圖片資料壓縮檔 imgdata.zip\n",
        "!ls"
      ],
      "execution_count": 3,
      "outputs": [
        {
          "output_type": "stream",
          "text": [
            "imgdata.zip  sample_data\n"
          ],
          "name": "stdout"
        }
      ]
    },
    {
      "cell_type": "code",
      "metadata": {
        "id": "JXaQ4dgrxl3I",
        "colab_type": "code",
        "outputId": "0d8b30f7-56b3-4d58-e5c7-0291d66f0723",
        "colab": {
          "base_uri": "https://localhost:8080/",
          "height": 10480
        }
      },
      "source": [
        "#解壓縮 imgdata.zip，解壓縮完會產生imgdata目錄，裡面存放\"FaceImg\"(訓練用圖片) 、\"Facelabeldb\"(分類索引編碼存放資料庫SQLite3檔案)、\"PredictFaceimg\"(預測用圖片) 三個目錄。\n",
        "#unzip 如果要指定解壓縮到哪個路徑底下要加上-d '指定路徑位置'，例如 -d imagedataset/  解壓縮imgdata.zip imagedataset/底下\n",
        "#本次解壓縮不指定解壓縮放到哪個位置\n",
        "!unzip imgdata.zip"
      ],
      "execution_count": 4,
      "outputs": [
        {
          "output_type": "stream",
          "text": [
            "Archive:  imgdata.zip\n",
            "warning [imgdata.zip]:  456834 extra bytes at beginning or within zipfile\n",
            "  (attempting to process anyway)\n",
            "   creating: imgdata/\n",
            "   creating: imgdata/FaceImg/\n",
            "   creating: imgdata/FaceImg/Aaron Judge/\n",
            "  inflating: imgdata/FaceImg/Aaron Judge/1.jpg  \n",
            "  inflating: imgdata/FaceImg/Aaron Judge/10.jpg  \n",
            "  inflating: imgdata/FaceImg/Aaron Judge/11.jpg  \n",
            "  inflating: imgdata/FaceImg/Aaron Judge/12.jpg  \n",
            "  inflating: imgdata/FaceImg/Aaron Judge/129.jpg  \n",
            "  inflating: imgdata/FaceImg/Aaron Judge/130.jpg  \n",
            "  inflating: imgdata/FaceImg/Aaron Judge/134.jpg  \n",
            "  inflating: imgdata/FaceImg/Aaron Judge/140.jpg  \n",
            "  inflating: imgdata/FaceImg/Aaron Judge/141.jpg  \n",
            "  inflating: imgdata/FaceImg/Aaron Judge/142.jpg  \n",
            "  inflating: imgdata/FaceImg/Aaron Judge/149.jpg  \n",
            "  inflating: imgdata/FaceImg/Aaron Judge/158.jpg  \n",
            "  inflating: imgdata/FaceImg/Aaron Judge/165.jpg  \n",
            "  inflating: imgdata/FaceImg/Aaron Judge/18.jpg  \n",
            "  inflating: imgdata/FaceImg/Aaron Judge/198.jpg  \n",
            "  inflating: imgdata/FaceImg/Aaron Judge/199.jpg  \n",
            "  inflating: imgdata/FaceImg/Aaron Judge/2.jpg  \n",
            " extracting: imgdata/FaceImg/Aaron Judge/201.jpg  \n",
            "  inflating: imgdata/FaceImg/Aaron Judge/203.jpg  \n",
            "  inflating: imgdata/FaceImg/Aaron Judge/210.jpg  \n",
            "  inflating: imgdata/FaceImg/Aaron Judge/22.jpg  \n",
            "  inflating: imgdata/FaceImg/Aaron Judge/220.jpg  \n",
            "  inflating: imgdata/FaceImg/Aaron Judge/225.jpg  \n",
            "  inflating: imgdata/FaceImg/Aaron Judge/226.jpg  \n",
            "  inflating: imgdata/FaceImg/Aaron Judge/23.jpg  \n",
            "  inflating: imgdata/FaceImg/Aaron Judge/231.jpg  \n",
            "  inflating: imgdata/FaceImg/Aaron Judge/233.jpg  \n",
            "  inflating: imgdata/FaceImg/Aaron Judge/234.jpg  \n",
            "  inflating: imgdata/FaceImg/Aaron Judge/235.jpg  \n",
            "  inflating: imgdata/FaceImg/Aaron Judge/236.jpg  \n",
            "  inflating: imgdata/FaceImg/Aaron Judge/237.jpg  \n",
            "  inflating: imgdata/FaceImg/Aaron Judge/239.jpg  \n",
            "  inflating: imgdata/FaceImg/Aaron Judge/240.jpg  \n",
            "  inflating: imgdata/FaceImg/Aaron Judge/242.jpg  \n",
            "  inflating: imgdata/FaceImg/Aaron Judge/243.jpg  \n",
            "  inflating: imgdata/FaceImg/Aaron Judge/247.jpg  \n",
            "  inflating: imgdata/FaceImg/Aaron Judge/26.jpg  \n",
            "  inflating: imgdata/FaceImg/Aaron Judge/264.jpg  \n",
            "  inflating: imgdata/FaceImg/Aaron Judge/267.jpg  \n",
            " extracting: imgdata/FaceImg/Aaron Judge/268.jpg  \n",
            "  inflating: imgdata/FaceImg/Aaron Judge/269.jpg  \n",
            "  inflating: imgdata/FaceImg/Aaron Judge/270.jpg  \n",
            "  inflating: imgdata/FaceImg/Aaron Judge/271.jpg  \n",
            "  inflating: imgdata/FaceImg/Aaron Judge/272.jpg  \n",
            "  inflating: imgdata/FaceImg/Aaron Judge/275.jpg  \n",
            "  inflating: imgdata/FaceImg/Aaron Judge/278.jpg  \n",
            "  inflating: imgdata/FaceImg/Aaron Judge/279.jpg  \n",
            "  inflating: imgdata/FaceImg/Aaron Judge/280.jpg  \n",
            "  inflating: imgdata/FaceImg/Aaron Judge/282.jpg  \n",
            "  inflating: imgdata/FaceImg/Aaron Judge/290.jpg  \n",
            "  inflating: imgdata/FaceImg/Aaron Judge/291.jpg  \n",
            "  inflating: imgdata/FaceImg/Aaron Judge/301.jpg  \n",
            " extracting: imgdata/FaceImg/Aaron Judge/308.jpg  \n",
            "  inflating: imgdata/FaceImg/Aaron Judge/320.jpg  \n",
            " extracting: imgdata/FaceImg/Aaron Judge/321.jpg  \n",
            "  inflating: imgdata/FaceImg/Aaron Judge/322.jpg  \n",
            "  inflating: imgdata/FaceImg/Aaron Judge/323.jpg  \n",
            "  inflating: imgdata/FaceImg/Aaron Judge/335.jpg  \n",
            "  inflating: imgdata/FaceImg/Aaron Judge/340.jpg  \n",
            "  inflating: imgdata/FaceImg/Aaron Judge/341.jpg  \n",
            "  inflating: imgdata/FaceImg/Aaron Judge/343.jpg  \n",
            "  inflating: imgdata/FaceImg/Aaron Judge/355.jpg  \n",
            "  inflating: imgdata/FaceImg/Aaron Judge/356.jpg  \n",
            "  inflating: imgdata/FaceImg/Aaron Judge/358.jpg  \n",
            "  inflating: imgdata/FaceImg/Aaron Judge/362.jpg  \n",
            "  inflating: imgdata/FaceImg/Aaron Judge/372.jpg  \n",
            "  inflating: imgdata/FaceImg/Aaron Judge/373.jpg  \n",
            "  inflating: imgdata/FaceImg/Aaron Judge/383.jpg  \n",
            "  inflating: imgdata/FaceImg/Aaron Judge/387.jpg  \n",
            "  inflating: imgdata/FaceImg/Aaron Judge/390.jpg  \n",
            "  inflating: imgdata/FaceImg/Aaron Judge/396.jpg  \n",
            " extracting: imgdata/FaceImg/Aaron Judge/4.jpg  \n",
            "  inflating: imgdata/FaceImg/Aaron Judge/403.jpg  \n",
            " extracting: imgdata/FaceImg/Aaron Judge/406.jpg  \n",
            "  inflating: imgdata/FaceImg/Aaron Judge/45.jpg  \n",
            "  inflating: imgdata/FaceImg/Aaron Judge/47.jpg  \n",
            "  inflating: imgdata/FaceImg/Aaron Judge/5.jpg  \n",
            "  inflating: imgdata/FaceImg/Aaron Judge/51.jpg  \n",
            "  inflating: imgdata/FaceImg/Aaron Judge/59.jpg  \n",
            "  inflating: imgdata/FaceImg/Aaron Judge/6.jpg  \n",
            "  inflating: imgdata/FaceImg/Aaron Judge/61.jpg  \n",
            "  inflating: imgdata/FaceImg/Aaron Judge/67.jpg  \n",
            " extracting: imgdata/FaceImg/Aaron Judge/7.jpg  \n",
            "  inflating: imgdata/FaceImg/Aaron Judge/76.jpg  \n",
            "  inflating: imgdata/FaceImg/Aaron Judge/78.jpg  \n",
            "  inflating: imgdata/FaceImg/Aaron Judge/89.jpg  \n",
            "  inflating: imgdata/FaceImg/Aaron Judge/9.jpg  \n",
            "  inflating: imgdata/FaceImg/Aaron Judge/90.jpg  \n",
            "  inflating: imgdata/FaceImg/Aaron Judge/94.jpg  \n",
            "  inflating: imgdata/FaceImg/Aaron Judge/96.jpg  \n",
            "   creating: imgdata/FaceImg/Adam Sandler/\n",
            "  inflating: imgdata/FaceImg/Adam Sandler/1.jpg  \n",
            "  inflating: imgdata/FaceImg/Adam Sandler/10.jpg  \n",
            "  inflating: imgdata/FaceImg/Adam Sandler/11.jpg  \n",
            "  inflating: imgdata/FaceImg/Adam Sandler/12.jpg  \n",
            "  inflating: imgdata/FaceImg/Adam Sandler/13.jpg  \n",
            "  inflating: imgdata/FaceImg/Adam Sandler/14.jpg  \n",
            "  inflating: imgdata/FaceImg/Adam Sandler/16.jpg  \n",
            "  inflating: imgdata/FaceImg/Adam Sandler/17.jpg  \n",
            "  inflating: imgdata/FaceImg/Adam Sandler/175.jpg  \n",
            "  inflating: imgdata/FaceImg/Adam Sandler/176.jpg  \n",
            "  inflating: imgdata/FaceImg/Adam Sandler/178.jpg  \n",
            "  inflating: imgdata/FaceImg/Adam Sandler/18.jpg  \n",
            "  inflating: imgdata/FaceImg/Adam Sandler/181.jpg  \n",
            "  inflating: imgdata/FaceImg/Adam Sandler/183.jpg  \n",
            "  inflating: imgdata/FaceImg/Adam Sandler/189.jpg  \n",
            "  inflating: imgdata/FaceImg/Adam Sandler/2.jpg  \n",
            "  inflating: imgdata/FaceImg/Adam Sandler/21.jpg  \n",
            " extracting: imgdata/FaceImg/Adam Sandler/22.jpg  \n",
            "  inflating: imgdata/FaceImg/Adam Sandler/223.jpg  \n",
            " extracting: imgdata/FaceImg/Adam Sandler/228.jpg  \n",
            "  inflating: imgdata/FaceImg/Adam Sandler/237.jpg  \n",
            "  inflating: imgdata/FaceImg/Adam Sandler/238.jpg  \n",
            "  inflating: imgdata/FaceImg/Adam Sandler/24.jpg  \n",
            "  inflating: imgdata/FaceImg/Adam Sandler/246.jpg  \n",
            "  inflating: imgdata/FaceImg/Adam Sandler/25.jpg  \n",
            "  inflating: imgdata/FaceImg/Adam Sandler/275.jpg  \n",
            "  inflating: imgdata/FaceImg/Adam Sandler/29.jpg  \n",
            "  inflating: imgdata/FaceImg/Adam Sandler/3.jpg  \n",
            "  inflating: imgdata/FaceImg/Adam Sandler/32.jpg  \n",
            "  inflating: imgdata/FaceImg/Adam Sandler/33.jpg  \n",
            "  inflating: imgdata/FaceImg/Adam Sandler/36.jpg  \n",
            "  inflating: imgdata/FaceImg/Adam Sandler/39.jpg  \n",
            "  inflating: imgdata/FaceImg/Adam Sandler/40.jpg  \n",
            "  inflating: imgdata/FaceImg/Adam Sandler/42.jpg  \n",
            "  inflating: imgdata/FaceImg/Adam Sandler/43.jpg  \n",
            "  inflating: imgdata/FaceImg/Adam Sandler/44.jpg  \n",
            "  inflating: imgdata/FaceImg/Adam Sandler/45.jpg  \n",
            "  inflating: imgdata/FaceImg/Adam Sandler/46.jpg  \n",
            "  inflating: imgdata/FaceImg/Adam Sandler/47.jpg  \n",
            "  inflating: imgdata/FaceImg/Adam Sandler/49.jpg  \n",
            "  inflating: imgdata/FaceImg/Adam Sandler/5.jpg  \n",
            "  inflating: imgdata/FaceImg/Adam Sandler/50.jpg  \n",
            "  inflating: imgdata/FaceImg/Adam Sandler/52.jpg  \n",
            "  inflating: imgdata/FaceImg/Adam Sandler/56.jpg  \n",
            " extracting: imgdata/FaceImg/Adam Sandler/572.jpg  \n",
            "  inflating: imgdata/FaceImg/Adam Sandler/6.jpg  \n",
            "  inflating: imgdata/FaceImg/Adam Sandler/616.jpg  \n",
            "  inflating: imgdata/FaceImg/Adam Sandler/617.jpg  \n",
            " extracting: imgdata/FaceImg/Adam Sandler/636.jpg  \n",
            "  inflating: imgdata/FaceImg/Adam Sandler/638.jpg  \n",
            "  inflating: imgdata/FaceImg/Adam Sandler/639.jpg  \n",
            "  inflating: imgdata/FaceImg/Adam Sandler/64.jpg  \n",
            "  inflating: imgdata/FaceImg/Adam Sandler/641.jpg  \n",
            "  inflating: imgdata/FaceImg/Adam Sandler/642.jpg  \n",
            "  inflating: imgdata/FaceImg/Adam Sandler/648.jpg  \n",
            "  inflating: imgdata/FaceImg/Adam Sandler/649.jpg  \n",
            "  inflating: imgdata/FaceImg/Adam Sandler/65.jpg  \n",
            "  inflating: imgdata/FaceImg/Adam Sandler/652.jpg  \n",
            "  inflating: imgdata/FaceImg/Adam Sandler/666.jpg  \n",
            "  inflating: imgdata/FaceImg/Adam Sandler/67.jpg  \n",
            "  inflating: imgdata/FaceImg/Adam Sandler/673.jpg  \n",
            "  inflating: imgdata/FaceImg/Adam Sandler/674.jpg  \n",
            "  inflating: imgdata/FaceImg/Adam Sandler/68.jpg  \n",
            "  inflating: imgdata/FaceImg/Adam Sandler/695.jpg  \n",
            "  inflating: imgdata/FaceImg/Adam Sandler/70.jpg  \n",
            "  inflating: imgdata/FaceImg/Adam Sandler/701.jpg  \n",
            "  inflating: imgdata/FaceImg/Adam Sandler/702.jpg  \n",
            "  inflating: imgdata/FaceImg/Adam Sandler/708.jpg  \n",
            "  inflating: imgdata/FaceImg/Adam Sandler/719.jpg  \n",
            "  inflating: imgdata/FaceImg/Adam Sandler/720.jpg  \n",
            "  inflating: imgdata/FaceImg/Adam Sandler/74.jpg  \n",
            "  inflating: imgdata/FaceImg/Adam Sandler/742.jpg  \n",
            "  inflating: imgdata/FaceImg/Adam Sandler/744.jpg  \n",
            "  inflating: imgdata/FaceImg/Adam Sandler/752.jpg  \n",
            "  inflating: imgdata/FaceImg/Adam Sandler/754.jpg  \n",
            "  inflating: imgdata/FaceImg/Adam Sandler/755.jpg  \n",
            "  inflating: imgdata/FaceImg/Adam Sandler/756.jpg  \n",
            "  inflating: imgdata/FaceImg/Adam Sandler/763.jpg  \n",
            "  inflating: imgdata/FaceImg/Adam Sandler/768.jpg  \n",
            "  inflating: imgdata/FaceImg/Adam Sandler/769.jpg  \n",
            "  inflating: imgdata/FaceImg/Adam Sandler/77.jpg  \n",
            "  inflating: imgdata/FaceImg/Adam Sandler/78.jpg  \n",
            "  inflating: imgdata/FaceImg/Adam Sandler/79.jpg  \n",
            "  inflating: imgdata/FaceImg/Adam Sandler/8.jpg  \n",
            "  inflating: imgdata/FaceImg/Adam Sandler/80.jpg  \n",
            "  inflating: imgdata/FaceImg/Adam Sandler/81.jpg  \n",
            "  inflating: imgdata/FaceImg/Adam Sandler/82.jpg  \n",
            "  inflating: imgdata/FaceImg/Adam Sandler/83.jpg  \n",
            "  inflating: imgdata/FaceImg/Adam Sandler/89.jpg  \n",
            "  inflating: imgdata/FaceImg/Adam Sandler/92.jpg  \n",
            "   creating: imgdata/FaceImg/Ben Stiller/\n",
            "  inflating: imgdata/FaceImg/Ben Stiller/1.jpg  \n",
            "  inflating: imgdata/FaceImg/Ben Stiller/10.jpg  \n",
            "  inflating: imgdata/FaceImg/Ben Stiller/100.jpg  \n",
            "  inflating: imgdata/FaceImg/Ben Stiller/101.jpg  \n",
            "  inflating: imgdata/FaceImg/Ben Stiller/107.jpg  \n",
            "  inflating: imgdata/FaceImg/Ben Stiller/109.jpg  \n",
            "  inflating: imgdata/FaceImg/Ben Stiller/11.jpg  \n",
            "  inflating: imgdata/FaceImg/Ben Stiller/112.jpg  \n",
            "  inflating: imgdata/FaceImg/Ben Stiller/115.jpg  \n",
            "  inflating: imgdata/FaceImg/Ben Stiller/125.jpg  \n",
            "  inflating: imgdata/FaceImg/Ben Stiller/13.jpg  \n",
            "  inflating: imgdata/FaceImg/Ben Stiller/134.jpg  \n",
            "  inflating: imgdata/FaceImg/Ben Stiller/14.jpg  \n",
            "  inflating: imgdata/FaceImg/Ben Stiller/143.jpg  \n",
            "  inflating: imgdata/FaceImg/Ben Stiller/149.jpg  \n",
            "  inflating: imgdata/FaceImg/Ben Stiller/156.jpg  \n",
            " extracting: imgdata/FaceImg/Ben Stiller/161.jpg  \n",
            " extracting: imgdata/FaceImg/Ben Stiller/163.jpg  \n",
            " extracting: imgdata/FaceImg/Ben Stiller/164.jpg  \n",
            "  inflating: imgdata/FaceImg/Ben Stiller/186.jpg  \n",
            "  inflating: imgdata/FaceImg/Ben Stiller/189.jpg  \n",
            "  inflating: imgdata/FaceImg/Ben Stiller/195.jpg  \n",
            "  inflating: imgdata/FaceImg/Ben Stiller/197.jpg  \n",
            "  inflating: imgdata/FaceImg/Ben Stiller/2.jpg  \n",
            "  inflating: imgdata/FaceImg/Ben Stiller/20.jpg  \n",
            "  inflating: imgdata/FaceImg/Ben Stiller/205.jpg  \n",
            "  inflating: imgdata/FaceImg/Ben Stiller/21.jpg  \n",
            "  inflating: imgdata/FaceImg/Ben Stiller/213.jpg  \n",
            "  inflating: imgdata/FaceImg/Ben Stiller/22.jpg  \n",
            "  inflating: imgdata/FaceImg/Ben Stiller/222.jpg  \n",
            "  inflating: imgdata/FaceImg/Ben Stiller/223.jpg  \n",
            "  inflating: imgdata/FaceImg/Ben Stiller/229.jpg  \n",
            "  inflating: imgdata/FaceImg/Ben Stiller/237.jpg  \n",
            "  inflating: imgdata/FaceImg/Ben Stiller/24.jpg  \n",
            " extracting: imgdata/FaceImg/Ben Stiller/246.jpg  \n",
            "  inflating: imgdata/FaceImg/Ben Stiller/25.jpg  \n",
            "  inflating: imgdata/FaceImg/Ben Stiller/252.jpg  \n",
            "  inflating: imgdata/FaceImg/Ben Stiller/26.jpg  \n",
            "  inflating: imgdata/FaceImg/Ben Stiller/263.jpg  \n",
            "  inflating: imgdata/FaceImg/Ben Stiller/27.jpg  \n",
            "  inflating: imgdata/FaceImg/Ben Stiller/28.jpg  \n",
            "  inflating: imgdata/FaceImg/Ben Stiller/29.jpg  \n",
            " extracting: imgdata/FaceImg/Ben Stiller/3.jpg  \n",
            "  inflating: imgdata/FaceImg/Ben Stiller/30.jpg  \n",
            "  inflating: imgdata/FaceImg/Ben Stiller/31.jpg  \n",
            "  inflating: imgdata/FaceImg/Ben Stiller/32.jpg  \n",
            "  inflating: imgdata/FaceImg/Ben Stiller/34.jpg  \n",
            "  inflating: imgdata/FaceImg/Ben Stiller/35.jpg  \n",
            "  inflating: imgdata/FaceImg/Ben Stiller/36.jpg  \n",
            " extracting: imgdata/FaceImg/Ben Stiller/37.jpg  \n",
            "  inflating: imgdata/FaceImg/Ben Stiller/38.jpg  \n",
            " extracting: imgdata/FaceImg/Ben Stiller/4.jpg  \n",
            "  inflating: imgdata/FaceImg/Ben Stiller/41.jpg  \n",
            "  inflating: imgdata/FaceImg/Ben Stiller/42.jpg  \n",
            "  inflating: imgdata/FaceImg/Ben Stiller/43.jpg  \n",
            "  inflating: imgdata/FaceImg/Ben Stiller/44.jpg  \n",
            "  inflating: imgdata/FaceImg/Ben Stiller/45.jpg  \n",
            "  inflating: imgdata/FaceImg/Ben Stiller/46.jpg  \n",
            "  inflating: imgdata/FaceImg/Ben Stiller/47.jpg  \n",
            "  inflating: imgdata/FaceImg/Ben Stiller/48.jpg  \n",
            "  inflating: imgdata/FaceImg/Ben Stiller/49.jpg  \n",
            "  inflating: imgdata/FaceImg/Ben Stiller/5.jpg  \n",
            "  inflating: imgdata/FaceImg/Ben Stiller/50.jpg  \n",
            "  inflating: imgdata/FaceImg/Ben Stiller/51.jpg  \n",
            " extracting: imgdata/FaceImg/Ben Stiller/6.jpg  \n",
            "  inflating: imgdata/FaceImg/Ben Stiller/60.jpg  \n",
            "  inflating: imgdata/FaceImg/Ben Stiller/62.jpg  \n",
            "  inflating: imgdata/FaceImg/Ben Stiller/63.jpg  \n",
            "  inflating: imgdata/FaceImg/Ben Stiller/64.jpg  \n",
            "  inflating: imgdata/FaceImg/Ben Stiller/65.jpg  \n",
            "  inflating: imgdata/FaceImg/Ben Stiller/66.jpg  \n",
            "  inflating: imgdata/FaceImg/Ben Stiller/68.jpg  \n",
            "  inflating: imgdata/FaceImg/Ben Stiller/69.jpg  \n",
            "  inflating: imgdata/FaceImg/Ben Stiller/7.jpg  \n",
            "  inflating: imgdata/FaceImg/Ben Stiller/70.jpg  \n",
            "  inflating: imgdata/FaceImg/Ben Stiller/71.jpg  \n",
            "  inflating: imgdata/FaceImg/Ben Stiller/74.jpg  \n",
            "  inflating: imgdata/FaceImg/Ben Stiller/75.jpg  \n",
            "  inflating: imgdata/FaceImg/Ben Stiller/76.jpg  \n",
            "  inflating: imgdata/FaceImg/Ben Stiller/77.jpg  \n",
            "  inflating: imgdata/FaceImg/Ben Stiller/78.jpg  \n",
            "  inflating: imgdata/FaceImg/Ben Stiller/8.jpg  \n",
            "  inflating: imgdata/FaceImg/Ben Stiller/80.jpg  \n",
            "  inflating: imgdata/FaceImg/Ben Stiller/81.jpg  \n",
            "  inflating: imgdata/FaceImg/Ben Stiller/82.jpg  \n",
            "  inflating: imgdata/FaceImg/Ben Stiller/89.jpg  \n",
            "  inflating: imgdata/FaceImg/Ben Stiller/9.jpg  \n",
            "  inflating: imgdata/FaceImg/Ben Stiller/90.jpg  \n",
            "  inflating: imgdata/FaceImg/Ben Stiller/91.jpg  \n",
            "  inflating: imgdata/FaceImg/Ben Stiller/92.jpg  \n",
            "   creating: imgdata/FaceImg/Emily Watson/\n",
            " extracting: imgdata/FaceImg/Emily Watson/1.jpg  \n",
            "  inflating: imgdata/FaceImg/Emily Watson/103.jpg  \n",
            "  inflating: imgdata/FaceImg/Emily Watson/105.jpg  \n",
            "  inflating: imgdata/FaceImg/Emily Watson/106.jpg  \n",
            "  inflating: imgdata/FaceImg/Emily Watson/11.jpg  \n",
            " extracting: imgdata/FaceImg/Emily Watson/110.jpg  \n",
            "  inflating: imgdata/FaceImg/Emily Watson/114.jpg  \n",
            "  inflating: imgdata/FaceImg/Emily Watson/116.jpg  \n",
            "  inflating: imgdata/FaceImg/Emily Watson/117.jpg  \n",
            "  inflating: imgdata/FaceImg/Emily Watson/118.jpg  \n",
            " extracting: imgdata/FaceImg/Emily Watson/119.jpg  \n",
            " extracting: imgdata/FaceImg/Emily Watson/121.jpg  \n",
            "  inflating: imgdata/FaceImg/Emily Watson/123.jpg  \n",
            " extracting: imgdata/FaceImg/Emily Watson/124.jpg  \n",
            "  inflating: imgdata/FaceImg/Emily Watson/13.jpg  \n",
            "  inflating: imgdata/FaceImg/Emily Watson/131.jpg  \n",
            "  inflating: imgdata/FaceImg/Emily Watson/136.jpg  \n",
            "  inflating: imgdata/FaceImg/Emily Watson/140.jpg  \n",
            "  inflating: imgdata/FaceImg/Emily Watson/147.jpg  \n",
            "  inflating: imgdata/FaceImg/Emily Watson/159.jpg  \n",
            "  inflating: imgdata/FaceImg/Emily Watson/168.jpg  \n",
            "  inflating: imgdata/FaceImg/Emily Watson/169.jpg  \n",
            "  inflating: imgdata/FaceImg/Emily Watson/17.jpg  \n",
            "  inflating: imgdata/FaceImg/Emily Watson/175.jpg  \n",
            "  inflating: imgdata/FaceImg/Emily Watson/188.jpg  \n",
            "  inflating: imgdata/FaceImg/Emily Watson/191.jpg  \n",
            "  inflating: imgdata/FaceImg/Emily Watson/192.jpg  \n",
            "  inflating: imgdata/FaceImg/Emily Watson/193.jpg  \n",
            "  inflating: imgdata/FaceImg/Emily Watson/194.jpg  \n",
            "  inflating: imgdata/FaceImg/Emily Watson/197.jpg  \n",
            "  inflating: imgdata/FaceImg/Emily Watson/2.jpg  \n",
            "  inflating: imgdata/FaceImg/Emily Watson/20.jpg  \n",
            "  inflating: imgdata/FaceImg/Emily Watson/200.jpg  \n",
            "  inflating: imgdata/FaceImg/Emily Watson/204.jpg  \n",
            "  inflating: imgdata/FaceImg/Emily Watson/205.jpg  \n",
            "  inflating: imgdata/FaceImg/Emily Watson/208.jpg  \n",
            " extracting: imgdata/FaceImg/Emily Watson/22.jpg  \n",
            "  inflating: imgdata/FaceImg/Emily Watson/222.jpg  \n",
            "  inflating: imgdata/FaceImg/Emily Watson/234.jpg  \n",
            "  inflating: imgdata/FaceImg/Emily Watson/235.jpg  \n",
            "  inflating: imgdata/FaceImg/Emily Watson/236.jpg  \n",
            "  inflating: imgdata/FaceImg/Emily Watson/238.jpg  \n",
            "  inflating: imgdata/FaceImg/Emily Watson/241.jpg  \n",
            "  inflating: imgdata/FaceImg/Emily Watson/242.jpg  \n",
            "  inflating: imgdata/FaceImg/Emily Watson/246.jpg  \n",
            "  inflating: imgdata/FaceImg/Emily Watson/3.jpg  \n",
            " extracting: imgdata/FaceImg/Emily Watson/31.jpg  \n",
            "  inflating: imgdata/FaceImg/Emily Watson/335.jpg  \n",
            "  inflating: imgdata/FaceImg/Emily Watson/34.jpg  \n",
            "  inflating: imgdata/FaceImg/Emily Watson/345.jpg  \n",
            "  inflating: imgdata/FaceImg/Emily Watson/37.jpg  \n",
            "  inflating: imgdata/FaceImg/Emily Watson/384.jpg  \n",
            "  inflating: imgdata/FaceImg/Emily Watson/4.jpg  \n",
            "  inflating: imgdata/FaceImg/Emily Watson/404.jpg  \n",
            "  inflating: imgdata/FaceImg/Emily Watson/416.jpg  \n",
            "  inflating: imgdata/FaceImg/Emily Watson/417.jpg  \n",
            "  inflating: imgdata/FaceImg/Emily Watson/422.jpg  \n",
            "  inflating: imgdata/FaceImg/Emily Watson/424.jpg  \n",
            "  inflating: imgdata/FaceImg/Emily Watson/429.jpg  \n",
            "  inflating: imgdata/FaceImg/Emily Watson/437.jpg  \n",
            "  inflating: imgdata/FaceImg/Emily Watson/440.jpg  \n",
            "  inflating: imgdata/FaceImg/Emily Watson/445.jpg  \n",
            "  inflating: imgdata/FaceImg/Emily Watson/454.jpg  \n",
            "  inflating: imgdata/FaceImg/Emily Watson/459.jpg  \n",
            "  inflating: imgdata/FaceImg/Emily Watson/462.jpg  \n",
            "  inflating: imgdata/FaceImg/Emily Watson/466.jpg  \n",
            "  inflating: imgdata/FaceImg/Emily Watson/468.jpg  \n",
            "  inflating: imgdata/FaceImg/Emily Watson/474.jpg  \n",
            "  inflating: imgdata/FaceImg/Emily Watson/475.jpg  \n",
            "  inflating: imgdata/FaceImg/Emily Watson/476.jpg  \n",
            "  inflating: imgdata/FaceImg/Emily Watson/485.jpg  \n",
            "  inflating: imgdata/FaceImg/Emily Watson/493.jpg  \n",
            "  inflating: imgdata/FaceImg/Emily Watson/502.jpg  \n",
            "  inflating: imgdata/FaceImg/Emily Watson/503.jpg  \n",
            "  inflating: imgdata/FaceImg/Emily Watson/506.jpg  \n",
            "  inflating: imgdata/FaceImg/Emily Watson/515.jpg  \n",
            "  inflating: imgdata/FaceImg/Emily Watson/517.jpg  \n",
            "  inflating: imgdata/FaceImg/Emily Watson/524.jpg  \n",
            "  inflating: imgdata/FaceImg/Emily Watson/525.jpg  \n",
            "  inflating: imgdata/FaceImg/Emily Watson/527.jpg  \n",
            "  inflating: imgdata/FaceImg/Emily Watson/528.jpg  \n",
            "  inflating: imgdata/FaceImg/Emily Watson/530.jpg  \n",
            "  inflating: imgdata/FaceImg/Emily Watson/533.jpg  \n",
            "  inflating: imgdata/FaceImg/Emily Watson/542.jpg  \n",
            "  inflating: imgdata/FaceImg/Emily Watson/557.jpg  \n",
            " extracting: imgdata/FaceImg/Emily Watson/558.jpg  \n",
            "  inflating: imgdata/FaceImg/Emily Watson/589.jpg  \n",
            "  inflating: imgdata/FaceImg/Emily Watson/609.jpg  \n",
            "  inflating: imgdata/FaceImg/Emily Watson/7.jpg  \n",
            "  inflating: imgdata/FaceImg/Emily Watson/8.jpg  \n",
            "   creating: imgdata/FaceImg/Ice Cube/\n",
            "  inflating: imgdata/FaceImg/Ice Cube/1.jpg  \n",
            "  inflating: imgdata/FaceImg/Ice Cube/102.jpg  \n",
            "  inflating: imgdata/FaceImg/Ice Cube/104.jpg  \n",
            "  inflating: imgdata/FaceImg/Ice Cube/105.jpg  \n",
            "  inflating: imgdata/FaceImg/Ice Cube/106.jpg  \n",
            " extracting: imgdata/FaceImg/Ice Cube/107.jpg  \n",
            "  inflating: imgdata/FaceImg/Ice Cube/108.jpg  \n",
            "  inflating: imgdata/FaceImg/Ice Cube/11.jpg  \n",
            "  inflating: imgdata/FaceImg/Ice Cube/110.jpg  \n",
            "  inflating: imgdata/FaceImg/Ice Cube/111.jpg  \n",
            "  inflating: imgdata/FaceImg/Ice Cube/114.jpg  \n",
            "  inflating: imgdata/FaceImg/Ice Cube/115.jpg  \n",
            "  inflating: imgdata/FaceImg/Ice Cube/117.jpg  \n",
            "  inflating: imgdata/FaceImg/Ice Cube/12.jpg  \n",
            "  inflating: imgdata/FaceImg/Ice Cube/122.jpg  \n",
            "  inflating: imgdata/FaceImg/Ice Cube/133.jpg  \n",
            "  inflating: imgdata/FaceImg/Ice Cube/137.jpg  \n",
            "  inflating: imgdata/FaceImg/Ice Cube/14.jpg  \n",
            "  inflating: imgdata/FaceImg/Ice Cube/145.jpg  \n",
            "  inflating: imgdata/FaceImg/Ice Cube/163.jpg  \n",
            "  inflating: imgdata/FaceImg/Ice Cube/20.jpg  \n",
            "  inflating: imgdata/FaceImg/Ice Cube/21.jpg  \n",
            "  inflating: imgdata/FaceImg/Ice Cube/215.jpg  \n",
            "  inflating: imgdata/FaceImg/Ice Cube/217.jpg  \n",
            "  inflating: imgdata/FaceImg/Ice Cube/218.jpg  \n",
            "  inflating: imgdata/FaceImg/Ice Cube/22.jpg  \n",
            "  inflating: imgdata/FaceImg/Ice Cube/220.jpg  \n",
            "  inflating: imgdata/FaceImg/Ice Cube/236.jpg  \n",
            "  inflating: imgdata/FaceImg/Ice Cube/239.jpg  \n",
            "  inflating: imgdata/FaceImg/Ice Cube/249.jpg  \n",
            "  inflating: imgdata/FaceImg/Ice Cube/25.jpg  \n",
            "  inflating: imgdata/FaceImg/Ice Cube/254.jpg  \n",
            " extracting: imgdata/FaceImg/Ice Cube/259.jpg  \n",
            "  inflating: imgdata/FaceImg/Ice Cube/301.jpg  \n",
            "  inflating: imgdata/FaceImg/Ice Cube/304.jpg  \n",
            "  inflating: imgdata/FaceImg/Ice Cube/307.jpg  \n",
            "  inflating: imgdata/FaceImg/Ice Cube/310.jpg  \n",
            "  inflating: imgdata/FaceImg/Ice Cube/323.jpg  \n",
            "  inflating: imgdata/FaceImg/Ice Cube/325.jpg  \n",
            "  inflating: imgdata/FaceImg/Ice Cube/330.jpg  \n",
            "  inflating: imgdata/FaceImg/Ice Cube/332.jpg  \n",
            "  inflating: imgdata/FaceImg/Ice Cube/337.jpg  \n",
            "  inflating: imgdata/FaceImg/Ice Cube/340.jpg  \n",
            "  inflating: imgdata/FaceImg/Ice Cube/342.jpg  \n",
            "  inflating: imgdata/FaceImg/Ice Cube/343.jpg  \n",
            "  inflating: imgdata/FaceImg/Ice Cube/346.jpg  \n",
            "  inflating: imgdata/FaceImg/Ice Cube/347.jpg  \n",
            " extracting: imgdata/FaceImg/Ice Cube/355.jpg  \n",
            "  inflating: imgdata/FaceImg/Ice Cube/363.jpg  \n",
            "  inflating: imgdata/FaceImg/Ice Cube/365.jpg  \n",
            "  inflating: imgdata/FaceImg/Ice Cube/368.jpg  \n",
            "  inflating: imgdata/FaceImg/Ice Cube/369.jpg  \n",
            "  inflating: imgdata/FaceImg/Ice Cube/380.jpg  \n",
            "  inflating: imgdata/FaceImg/Ice Cube/381.jpg  \n",
            " extracting: imgdata/FaceImg/Ice Cube/394.jpg  \n",
            "  inflating: imgdata/FaceImg/Ice Cube/402.jpg  \n",
            "  inflating: imgdata/FaceImg/Ice Cube/404.jpg  \n",
            "  inflating: imgdata/FaceImg/Ice Cube/406.jpg  \n",
            "  inflating: imgdata/FaceImg/Ice Cube/408.jpg  \n",
            "  inflating: imgdata/FaceImg/Ice Cube/409.jpg  \n",
            "  inflating: imgdata/FaceImg/Ice Cube/410.jpg  \n",
            "  inflating: imgdata/FaceImg/Ice Cube/412.jpg  \n",
            "  inflating: imgdata/FaceImg/Ice Cube/413.jpg  \n",
            "  inflating: imgdata/FaceImg/Ice Cube/416.jpg  \n",
            "  inflating: imgdata/FaceImg/Ice Cube/417.jpg  \n",
            "  inflating: imgdata/FaceImg/Ice Cube/420.jpg  \n",
            "  inflating: imgdata/FaceImg/Ice Cube/421.jpg  \n",
            "  inflating: imgdata/FaceImg/Ice Cube/423.jpg  \n",
            "  inflating: imgdata/FaceImg/Ice Cube/432.jpg  \n",
            "  inflating: imgdata/FaceImg/Ice Cube/443.jpg  \n",
            "  inflating: imgdata/FaceImg/Ice Cube/447.jpg  \n",
            "  inflating: imgdata/FaceImg/Ice Cube/459.jpg  \n",
            "  inflating: imgdata/FaceImg/Ice Cube/461.jpg  \n",
            "  inflating: imgdata/FaceImg/Ice Cube/465.jpg  \n",
            "  inflating: imgdata/FaceImg/Ice Cube/5.jpg  \n",
            "  inflating: imgdata/FaceImg/Ice Cube/6.jpg  \n",
            "  inflating: imgdata/FaceImg/Ice Cube/7.jpg  \n",
            "  inflating: imgdata/FaceImg/Ice Cube/78.jpg  \n",
            "  inflating: imgdata/FaceImg/Ice Cube/80.jpg  \n",
            "  inflating: imgdata/FaceImg/Ice Cube/81.jpg  \n",
            "  inflating: imgdata/FaceImg/Ice Cube/82.jpg  \n",
            "  inflating: imgdata/FaceImg/Ice Cube/83.jpg  \n",
            "  inflating: imgdata/FaceImg/Ice Cube/84.jpg  \n",
            "  inflating: imgdata/FaceImg/Ice Cube/88.jpg  \n",
            "  inflating: imgdata/FaceImg/Ice Cube/90.jpg  \n",
            "  inflating: imgdata/FaceImg/Ice Cube/91.jpg  \n",
            "  inflating: imgdata/FaceImg/Ice Cube/93.jpg  \n",
            "  inflating: imgdata/FaceImg/Ice Cube/95.jpg  \n",
            "  inflating: imgdata/FaceImg/Ice Cube/96.jpg  \n",
            "  inflating: imgdata/FaceImg/Ice Cube/97.jpg  \n",
            "   creating: imgdata/FaceImg/Jean Reno/\n",
            "  inflating: imgdata/FaceImg/Jean Reno/1.jpg  \n",
            "  inflating: imgdata/FaceImg/Jean Reno/101.jpg  \n",
            "  inflating: imgdata/FaceImg/Jean Reno/102.jpg  \n",
            "  inflating: imgdata/FaceImg/Jean Reno/103.jpg  \n",
            "  inflating: imgdata/FaceImg/Jean Reno/104.jpg  \n",
            "  inflating: imgdata/FaceImg/Jean Reno/109.jpg  \n",
            "  inflating: imgdata/FaceImg/Jean Reno/11.jpg  \n",
            "  inflating: imgdata/FaceImg/Jean Reno/112.jpg  \n",
            "  inflating: imgdata/FaceImg/Jean Reno/113.jpg  \n",
            "  inflating: imgdata/FaceImg/Jean Reno/12.jpg  \n",
            "  inflating: imgdata/FaceImg/Jean Reno/120.jpg  \n",
            "  inflating: imgdata/FaceImg/Jean Reno/123.jpg  \n",
            "  inflating: imgdata/FaceImg/Jean Reno/132.jpg  \n",
            "  inflating: imgdata/FaceImg/Jean Reno/133.jpg  \n",
            "  inflating: imgdata/FaceImg/Jean Reno/14.jpg  \n",
            "  inflating: imgdata/FaceImg/Jean Reno/140.jpg  \n",
            "  inflating: imgdata/FaceImg/Jean Reno/142.jpg  \n",
            "  inflating: imgdata/FaceImg/Jean Reno/143.jpg  \n",
            "  inflating: imgdata/FaceImg/Jean Reno/146.jpg  \n",
            "  inflating: imgdata/FaceImg/Jean Reno/149.jpg  \n",
            "  inflating: imgdata/FaceImg/Jean Reno/15.jpg  \n",
            "  inflating: imgdata/FaceImg/Jean Reno/153.jpg  \n",
            "  inflating: imgdata/FaceImg/Jean Reno/161.jpg  \n",
            "  inflating: imgdata/FaceImg/Jean Reno/164.jpg  \n",
            "  inflating: imgdata/FaceImg/Jean Reno/169.jpg  \n",
            "  inflating: imgdata/FaceImg/Jean Reno/17.jpg  \n",
            "  inflating: imgdata/FaceImg/Jean Reno/171.jpg  \n",
            "  inflating: imgdata/FaceImg/Jean Reno/181.jpg  \n",
            "  inflating: imgdata/FaceImg/Jean Reno/19.jpg  \n",
            "  inflating: imgdata/FaceImg/Jean Reno/194.jpg  \n",
            "  inflating: imgdata/FaceImg/Jean Reno/2.jpg  \n",
            "  inflating: imgdata/FaceImg/Jean Reno/203.jpg  \n",
            "  inflating: imgdata/FaceImg/Jean Reno/204.jpg  \n",
            "  inflating: imgdata/FaceImg/Jean Reno/205.jpg  \n",
            "  inflating: imgdata/FaceImg/Jean Reno/206.jpg  \n",
            "  inflating: imgdata/FaceImg/Jean Reno/208.jpg  \n",
            "  inflating: imgdata/FaceImg/Jean Reno/209.jpg  \n",
            "  inflating: imgdata/FaceImg/Jean Reno/21.jpg  \n",
            "  inflating: imgdata/FaceImg/Jean Reno/210.jpg  \n",
            "  inflating: imgdata/FaceImg/Jean Reno/212.jpg  \n",
            "  inflating: imgdata/FaceImg/Jean Reno/213.jpg  \n",
            "  inflating: imgdata/FaceImg/Jean Reno/214.jpg  \n",
            "  inflating: imgdata/FaceImg/Jean Reno/215.jpg  \n",
            "  inflating: imgdata/FaceImg/Jean Reno/22.jpg  \n",
            "  inflating: imgdata/FaceImg/Jean Reno/220.jpg  \n",
            "  inflating: imgdata/FaceImg/Jean Reno/24.jpg  \n",
            "  inflating: imgdata/FaceImg/Jean Reno/242.jpg  \n",
            "  inflating: imgdata/FaceImg/Jean Reno/25.jpg  \n",
            "  inflating: imgdata/FaceImg/Jean Reno/259.jpg  \n",
            "  inflating: imgdata/FaceImg/Jean Reno/26.jpg  \n",
            "  inflating: imgdata/FaceImg/Jean Reno/267.jpg  \n",
            "  inflating: imgdata/FaceImg/Jean Reno/269.jpg  \n",
            "  inflating: imgdata/FaceImg/Jean Reno/271.jpg  \n",
            "  inflating: imgdata/FaceImg/Jean Reno/28.jpg  \n",
            "  inflating: imgdata/FaceImg/Jean Reno/290.jpg  \n",
            "  inflating: imgdata/FaceImg/Jean Reno/291.jpg  \n",
            "  inflating: imgdata/FaceImg/Jean Reno/294.jpg  \n",
            "  inflating: imgdata/FaceImg/Jean Reno/3.jpg  \n",
            " extracting: imgdata/FaceImg/Jean Reno/33.jpg  \n",
            "  inflating: imgdata/FaceImg/Jean Reno/34.jpg  \n",
            "  inflating: imgdata/FaceImg/Jean Reno/36.jpg  \n",
            "  inflating: imgdata/FaceImg/Jean Reno/37.jpg  \n",
            "  inflating: imgdata/FaceImg/Jean Reno/43.jpg  \n",
            "  inflating: imgdata/FaceImg/Jean Reno/44.jpg  \n",
            "  inflating: imgdata/FaceImg/Jean Reno/5.jpg  \n",
            "  inflating: imgdata/FaceImg/Jean Reno/51.jpg  \n",
            "  inflating: imgdata/FaceImg/Jean Reno/53.jpg  \n",
            "  inflating: imgdata/FaceImg/Jean Reno/54.jpg  \n",
            "  inflating: imgdata/FaceImg/Jean Reno/55.jpg  \n",
            "  inflating: imgdata/FaceImg/Jean Reno/56.jpg  \n",
            "  inflating: imgdata/FaceImg/Jean Reno/57.jpg  \n",
            "  inflating: imgdata/FaceImg/Jean Reno/58.jpg  \n",
            " extracting: imgdata/FaceImg/Jean Reno/6.jpg  \n",
            "  inflating: imgdata/FaceImg/Jean Reno/63.jpg  \n",
            "  inflating: imgdata/FaceImg/Jean Reno/64.jpg  \n",
            "  inflating: imgdata/FaceImg/Jean Reno/66.jpg  \n",
            "  inflating: imgdata/FaceImg/Jean Reno/68.jpg  \n",
            "  inflating: imgdata/FaceImg/Jean Reno/7.jpg  \n",
            "  inflating: imgdata/FaceImg/Jean Reno/71.jpg  \n",
            "  inflating: imgdata/FaceImg/Jean Reno/74.jpg  \n",
            "  inflating: imgdata/FaceImg/Jean Reno/83.jpg  \n",
            "  inflating: imgdata/FaceImg/Jean Reno/84.jpg  \n",
            "  inflating: imgdata/FaceImg/Jean Reno/86.jpg  \n",
            "  inflating: imgdata/FaceImg/Jean Reno/87.jpg  \n",
            "  inflating: imgdata/FaceImg/Jean Reno/89.jpg  \n",
            "  inflating: imgdata/FaceImg/Jean Reno/9.jpg  \n",
            "  inflating: imgdata/FaceImg/Jean Reno/90.jpg  \n",
            "  inflating: imgdata/FaceImg/Jean Reno/94.jpg  \n",
            "  inflating: imgdata/FaceImg/Jean Reno/95.jpg  \n",
            "  inflating: imgdata/FaceImg/Jean Reno/96.jpg  \n",
            "   creating: imgdata/Facelabeldb/\n",
            "  inflating: imgdata/Facelabeldb/facelabel.db3  \n",
            "   creating: imgdata/PredictFaceimg/\n",
            "   creating: imgdata/PredictFaceimg/Aaron Judge/\n",
            "  inflating: imgdata/PredictFaceimg/Aaron Judge/Aaron Judge_01.jpg  \n",
            "  inflating: imgdata/PredictFaceimg/Aaron Judge/Aaron Judge_02.jpg  \n",
            "  inflating: imgdata/PredictFaceimg/Aaron Judge/Aaron Judge_03.jpg  \n",
            "  inflating: imgdata/PredictFaceimg/Aaron Judge/Aaron Judge_04.jpg  \n",
            "   creating: imgdata/PredictFaceimg/Adam Sandler/\n",
            "  inflating: imgdata/PredictFaceimg/Adam Sandler/Adam Sandler_01.jpg  \n",
            "  inflating: imgdata/PredictFaceimg/Adam Sandler/Adam Sandler_02.jpg  \n",
            "  inflating: imgdata/PredictFaceimg/Adam Sandler/Adam Sandler_03.jpg  \n",
            " extracting: imgdata/PredictFaceimg/Adam Sandler/Adam Sandler_04.jpg  \n",
            "   creating: imgdata/PredictFaceimg/Ben Stiller/\n",
            "  inflating: imgdata/PredictFaceimg/Ben Stiller/Ben Stiller_01.jpg  \n",
            "  inflating: imgdata/PredictFaceimg/Ben Stiller/Ben Stiller_02.jpg  \n",
            "  inflating: imgdata/PredictFaceimg/Ben Stiller/Ben Stiller_03.jpg  \n",
            "  inflating: imgdata/PredictFaceimg/Ben Stiller/Ben Stiller_04.jpg  \n",
            "   creating: imgdata/PredictFaceimg/Emily Watson/\n",
            "  inflating: imgdata/PredictFaceimg/Emily Watson/Emily Watson_01.jpg  \n",
            "  inflating: imgdata/PredictFaceimg/Emily Watson/Emily Watson_02.jpg  \n",
            "  inflating: imgdata/PredictFaceimg/Emily Watson/Emily Watson_03.jpg  \n",
            "  inflating: imgdata/PredictFaceimg/Emily Watson/Emily Watson_04.jpg  \n",
            "   creating: imgdata/PredictFaceimg/Ice Cube/\n",
            "  inflating: imgdata/PredictFaceimg/Ice Cube/Ice Cube_01.jpg  \n",
            "  inflating: imgdata/PredictFaceimg/Ice Cube/Ice Cube_02.jpg  \n",
            "  inflating: imgdata/PredictFaceimg/Ice Cube/Ice Cube_03.jpg  \n",
            "  inflating: imgdata/PredictFaceimg/Ice Cube/Ice Cube_04.jpg  \n",
            "   creating: imgdata/PredictFaceimg/Jean Reno/\n",
            "  inflating: imgdata/PredictFaceimg/Jean Reno/Jean Reno_01.jpg  \n",
            "  inflating: imgdata/PredictFaceimg/Jean Reno/Jean Reno_02.jpg  \n",
            "  inflating: imgdata/PredictFaceimg/Jean Reno/Jean Reno_03.jpg  \n",
            "  inflating: imgdata/PredictFaceimg/Jean Reno/Jean Reno_04.jpg  \n"
          ],
          "name": "stdout"
        }
      ]
    },
    {
      "cell_type": "code",
      "metadata": {
        "id": "WSpQoeQiyn5w",
        "colab_type": "code",
        "outputId": "20073e18-5c7b-4a8f-bd73-8f08a7d3bc12",
        "colab": {
          "base_uri": "https://localhost:8080/",
          "height": 35
        }
      },
      "source": [
        "# 查看imgdata目錄\n",
        "# \"FaceImg\"(訓練用圖片) 、\"Facelabeldb\"(分類索引編碼存放資料庫SQLite3檔案)、\"PredictFaceimg\"(預測用圖片)\n",
        "!ls 'imgdata'"
      ],
      "execution_count": 5,
      "outputs": [
        {
          "output_type": "stream",
          "text": [
            "FaceImg  Facelabeldb  PredictFaceimg\n"
          ],
          "name": "stdout"
        }
      ]
    },
    {
      "cell_type": "code",
      "metadata": {
        "id": "QxH8u5AYxeSH",
        "colab_type": "code",
        "colab": {}
      },
      "source": [
        "#建立Model存放目錄\n",
        "!mkdir Model"
      ],
      "execution_count": 0,
      "outputs": []
    },
    {
      "cell_type": "code",
      "metadata": {
        "id": "WTk5l243xj3p",
        "colab_type": "code",
        "colab": {}
      },
      "source": [
        "#建立log存放目錄\n",
        "!mkdir log"
      ],
      "execution_count": 0,
      "outputs": []
    },
    {
      "cell_type": "code",
      "metadata": {
        "id": "UMXIsUolFROt",
        "colab_type": "code",
        "colab": {}
      },
      "source": [
        "#建立plot_figure存放目錄\n",
        "!mkdir plot_figure"
      ],
      "execution_count": 0,
      "outputs": []
    },
    {
      "cell_type": "code",
      "metadata": {
        "id": "hiuJz0mlErfS",
        "colab_type": "code",
        "outputId": "fe9b5214-458f-4c53-942e-f4a2fdb786bd",
        "colab": {
          "base_uri": "https://localhost:8080/",
          "height": 35
        }
      },
      "source": [
        "#顯示底下所有檔案清單\n",
        "!ls"
      ],
      "execution_count": 9,
      "outputs": [
        {
          "output_type": "stream",
          "text": [
            "imgdata  imgdata.zip  log  Model  plot_figure  sample_data\n"
          ],
          "name": "stdout"
        }
      ]
    },
    {
      "cell_type": "markdown",
      "metadata": {
        "id": "AWkKWbOs-Igu",
        "colab_type": "text"
      },
      "source": [
        "# 2.確認圖片資料集與SQLite3檔案"
      ]
    },
    {
      "cell_type": "code",
      "metadata": {
        "id": "S8w0R31LCIBJ",
        "colab_type": "code",
        "outputId": "53388fe7-d063-49dd-bce1-8dae5860cf28",
        "colab": {
          "base_uri": "https://localhost:8080/",
          "height": 53
        }
      },
      "source": [
        "#顯示當前位置\n",
        "!pwd\n",
        "\n",
        "#顯示底下所有檔案清單\n",
        "!ls"
      ],
      "execution_count": 10,
      "outputs": [
        {
          "output_type": "stream",
          "text": [
            "/content\n",
            "imgdata  imgdata.zip  log  Model  plot_figure  sample_data\n"
          ],
          "name": "stdout"
        }
      ]
    },
    {
      "cell_type": "code",
      "metadata": {
        "id": "9Zmxn45mCbkw",
        "colab_type": "code",
        "outputId": "93c51b49-b0dd-45b2-dc46-d361de5a2f63",
        "colab": {
          "base_uri": "https://localhost:8080/",
          "height": 53
        }
      },
      "source": [
        "#顯示FaceImg底下檔案清單\n",
        "!ls '/content/imgdata/FaceImg'"
      ],
      "execution_count": 11,
      "outputs": [
        {
          "output_type": "stream",
          "text": [
            "'Aaron Judge'\t'Ben Stiller'\t'Ice Cube'\n",
            "'Adam Sandler'\t'Emily Watson'\t'Jean Reno'\n"
          ],
          "name": "stdout"
        }
      ]
    },
    {
      "cell_type": "code",
      "metadata": {
        "id": "cEGm8nsxD7IZ",
        "colab_type": "code",
        "outputId": "3774e276-a18e-4229-c1bd-4961addc7fa4",
        "colab": {
          "base_uri": "https://localhost:8080/",
          "height": 196
        }
      },
      "source": [
        "#顯示FaceImg底下'Adam Sandler'檔案清單\n",
        "!ls '/content/imgdata/FaceImg/Adam Sandler'"
      ],
      "execution_count": 12,
      "outputs": [
        {
          "output_type": "stream",
          "text": [
            "10.jpg\t 181.jpg  238.jpg  39.jpg  50.jpg   641.jpg  67.jpg   742.jpg  77.jpg\n",
            "11.jpg\t 183.jpg  246.jpg  3.jpg   52.jpg   642.jpg  68.jpg   744.jpg  78.jpg\n",
            "12.jpg\t 189.jpg  24.jpg   40.jpg  56.jpg   648.jpg  695.jpg  74.jpg   79.jpg\n",
            "13.jpg\t 18.jpg   25.jpg   42.jpg  572.jpg  649.jpg  6.jpg    752.jpg  80.jpg\n",
            "14.jpg\t 1.jpg\t  275.jpg  43.jpg  5.jpg    64.jpg   701.jpg  754.jpg  81.jpg\n",
            "16.jpg\t 21.jpg   29.jpg   44.jpg  616.jpg  652.jpg  702.jpg  755.jpg  82.jpg\n",
            "175.jpg  223.jpg  2.jpg    45.jpg  617.jpg  65.jpg   708.jpg  756.jpg  83.jpg\n",
            "176.jpg  228.jpg  32.jpg   46.jpg  636.jpg  666.jpg  70.jpg   763.jpg  89.jpg\n",
            "178.jpg  22.jpg   33.jpg   47.jpg  638.jpg  673.jpg  719.jpg  768.jpg  8.jpg\n",
            "17.jpg\t 237.jpg  36.jpg   49.jpg  639.jpg  674.jpg  720.jpg  769.jpg  92.jpg\n"
          ],
          "name": "stdout"
        }
      ]
    },
    {
      "cell_type": "code",
      "metadata": {
        "id": "ft5b2ciZF1my",
        "colab_type": "code",
        "outputId": "97454c7b-a40c-4ad1-cfa1-6d27ec79aa0b",
        "colab": {
          "base_uri": "https://localhost:8080/",
          "height": 53
        }
      },
      "source": [
        "#顯示PredictFaceimg底下檔案清單\n",
        "!ls '/content/imgdata/PredictFaceimg'"
      ],
      "execution_count": 13,
      "outputs": [
        {
          "output_type": "stream",
          "text": [
            "'Aaron Judge'\t'Ben Stiller'\t'Ice Cube'\n",
            "'Adam Sandler'\t'Emily Watson'\t'Jean Reno'\n"
          ],
          "name": "stdout"
        }
      ]
    },
    {
      "cell_type": "code",
      "metadata": {
        "id": "6mykQQykF9NE",
        "colab_type": "code",
        "outputId": "2f2cf07e-1404-49da-bc0e-498626a7c8a2",
        "colab": {
          "base_uri": "https://localhost:8080/",
          "height": 53
        }
      },
      "source": [
        "#顯示PredictFaceimg底下'Adam Sandler'檔案清單\n",
        "!ls '/content/imgdata/PredictFaceimg/Adam Sandler'"
      ],
      "execution_count": 14,
      "outputs": [
        {
          "output_type": "stream",
          "text": [
            "'Adam Sandler_01.jpg'  'Adam Sandler_03.jpg'\n",
            "'Adam Sandler_02.jpg'  'Adam Sandler_04.jpg'\n"
          ],
          "name": "stdout"
        }
      ]
    },
    {
      "cell_type": "code",
      "metadata": {
        "id": "r2P87hS4YMpq",
        "colab_type": "code",
        "outputId": "f8f2e6dd-f911-497d-c7b8-4184eeeab622",
        "colab": {
          "base_uri": "https://localhost:8080/",
          "height": 35
        }
      },
      "source": [
        "#顯示Facelabeldb底下檔案清單\n",
        "!ls '/content/imgdata/Facelabeldb'"
      ],
      "execution_count": 15,
      "outputs": [
        {
          "output_type": "stream",
          "text": [
            "facelabel.db3\n"
          ],
          "name": "stdout"
        }
      ]
    },
    {
      "cell_type": "markdown",
      "metadata": {
        "id": "esKqQL5dEHQq",
        "colab_type": "text"
      },
      "source": [
        "# 3.Import Python Package"
      ]
    },
    {
      "cell_type": "code",
      "metadata": {
        "id": "7pVPm0Dmhr-k",
        "colab_type": "code",
        "outputId": "b9eb9bbe-4223-4080-d1e8-8f243f531827",
        "colab": {
          "base_uri": "https://localhost:8080/",
          "height": 89
        }
      },
      "source": [
        "!pip install sklearn"
      ],
      "execution_count": 16,
      "outputs": [
        {
          "output_type": "stream",
          "text": [
            "Requirement already satisfied: sklearn in /usr/local/lib/python3.6/dist-packages (0.0)\n",
            "Requirement already satisfied: scikit-learn in /usr/local/lib/python3.6/dist-packages (from sklearn) (0.20.3)\n",
            "Requirement already satisfied: scipy>=0.13.3 in /usr/local/lib/python3.6/dist-packages (from scikit-learn->sklearn) (1.2.1)\n",
            "Requirement already satisfied: numpy>=1.8.2 in /usr/local/lib/python3.6/dist-packages (from scikit-learn->sklearn) (1.16.3)\n"
          ],
          "name": "stdout"
        }
      ]
    },
    {
      "cell_type": "code",
      "metadata": {
        "id": "pUvnwb8QEFmT",
        "colab_type": "code",
        "outputId": "f42a207d-d861-4514-fab2-8fef441b2c6d",
        "colab": {
          "base_uri": "https://localhost:8080/",
          "height": 35
        }
      },
      "source": [
        "from keras.preprocessing.image import ImageDataGenerator\n",
        "from tensorflow.python.client import device_lib\n",
        "from keras import backend as K\n",
        "from keras.models import Model\n",
        "# https://stackoverflow.com/questions/30667525/importerror-no-module-named-sklearn-cross-validation\n",
        "from sklearn.model_selection import train_test_split\n",
        "from keras.utils import np_utils\n",
        "from keras.models import Sequential , Model\n",
        "from keras.layers import Dense, Dropout, Activation, Flatten\n",
        "from keras.layers import Conv2D, MaxPooling2D\n",
        "from keras.optimizers import SGD, RMSprop, Adam, Adagrad, Adadelta\n",
        "from keras.models import load_model\n",
        "from keras.preprocessing import image\n",
        "from keras.applications.imagenet_utils import decode_predictions \n",
        "\n",
        "import matplotlib.pyplot as plt\n",
        "import random\n",
        "import keras\n",
        "import keras.backend.tensorflow_backend as KTF\n",
        "import tensorflow as tf\n",
        "import keras\n",
        "import time\n",
        "import os\n",
        "import numpy as np\n",
        "import cv2\n",
        "import sqlite3"
      ],
      "execution_count": 17,
      "outputs": [
        {
          "output_type": "stream",
          "text": [
            "Using TensorFlow backend.\n"
          ],
          "name": "stderr"
        }
      ]
    },
    {
      "cell_type": "markdown",
      "metadata": {
        "id": "Dbd4BL-SG7FL",
        "colab_type": "text"
      },
      "source": [
        "# 4.參數設置"
      ]
    },
    {
      "cell_type": "code",
      "metadata": {
        "id": "lIt9j6m6G6IE",
        "colab_type": "code",
        "colab": {}
      },
      "source": [
        "gpu_no = \"0\" # GPU_index\n",
        "# setting use GPU run\n",
        "os.environ[\"CUDA_VISIBLE_DEVICES\"] = gpu_no\n",
        "#use_GPU = ['/gpu:0']\n",
        "#use_GPU = ['/gpu:0','/gpu:1']\n",
        "n_GPU = '/gpu:0'\n",
        "I_CPU = '/cpu:0'\n",
        "\n",
        "## GPU memory limit\n",
        "#config = tf.ConfigProto(device_count={'gpu':0})\n",
        "##config.gpu_options.per_process_gpu_memory_fraction = 0.3\n",
        "#config.gpu_options.allow_growth = True\n",
        "#session = tf.Session(config=config)\n",
        "#KTF.set_session(session)"
      ],
      "execution_count": 0,
      "outputs": []
    },
    {
      "cell_type": "code",
      "metadata": {
        "id": "MCr0aUbtHTcN",
        "colab_type": "code",
        "outputId": "28f908a9-ec49-4ebe-b6df-5299ff494eff",
        "colab": {
          "base_uri": "https://localhost:8080/",
          "height": 107
        }
      },
      "source": [
        "# ----------------------------------- Face Image Path ----------------------------------- \n",
        "\n",
        "# check current project location path\n",
        "currentPath = os.getcwd()\n",
        "print(\"Current Path: \" + currentPath)\n",
        "\n",
        "# select face data class\n",
        "face_class = 6\n",
        "\n",
        "# Figure storage directory\n",
        "faceimg_dir = currentPath + '/imgdata/FaceImg/'\n",
        "\n",
        "# Predict of face img storage path\n",
        "predict_faceimg_path = currentPath + '/imgdata/PredictFaceimg/'\n",
        "\n",
        "# figure storage directory\n",
        "figure_dir = currentPath + '/plot_figure/'\n",
        "\n",
        "# figure classname\n",
        "figure_classname = 'face_'+str(face_class)\n",
        "\n",
        "# Save model and weight name\n",
        "h5_model_name = currentPath + \"/Model/FaceID_C\" + str(face_class) + \"_model.h5\"\n",
        "h5_model_weight_name = currentPath + \"/Model/FaceID_C\"+ str(face_class) + \"_weight.h5\"\n",
        "\n",
        "# Face image file type\n",
        "faceimg_type = \".jpg\"\n",
        "\n",
        "# Image resize\n",
        "img_resize = 96\n",
        "\n",
        "# Time format settings\n",
        "time_format = '%Y-%m-%d %H:%M:%S'\n",
        "\n",
        "print(\"faceimg_dir: {}\".format(faceimg_dir))\n",
        "print(\"predict_faceimg_path: {}\".format(predict_faceimg_path))\n",
        "print(\"h5_model_name: {}\".format(h5_model_name))\n",
        "print(\"h5_model_weight_name: {}\".format(h5_model_weight_name))"
      ],
      "execution_count": 19,
      "outputs": [
        {
          "output_type": "stream",
          "text": [
            "Current Path: /content\n",
            "faceimg_dir: /content/imgdata/FaceImg/\n",
            "predict_faceimg_path: /content/imgdata/PredictFaceimg/\n",
            "h5_model_name: /content/Model/FaceID_C6_model.h5\n",
            "h5_model_weight_name: /content/Model/FaceID_C6_weight.h5\n"
          ],
          "name": "stdout"
        }
      ]
    },
    {
      "cell_type": "code",
      "metadata": {
        "id": "QyOhGszMMDgv",
        "colab_type": "code",
        "colab": {}
      },
      "source": [
        "# ----------------------------------- Variable  declard ----------------------------------- \n",
        "\n",
        "# Image dataset array declard\n",
        "images = []\n",
        "labels = []\n",
        "label_class = []\n",
        "\n",
        "# Train dataset\n",
        "train_images = None # x\n",
        "train_labels = None # y\n",
        "\n",
        "# Valid dataset\n",
        "valid_images = None # x\n",
        "valid_labels = None # y\n",
        "\n",
        "# Test dataset\n",
        "test_images = None # x\n",
        "test_labels = None # y\n",
        "\n",
        "# Model declard\n",
        "net_model = Model()\n",
        "history = None\n",
        "\n",
        "datagen = ImageDataGenerator()\n",
        "\n",
        "# Train history declard\n",
        "history = None\n",
        "\n",
        "# SQL arguments settings\n",
        "SQLite_name = \"facelabel.db3\"\n",
        "dbconn = sqlite3.connect(currentPath+'/imgdata/Facelabeldb/'+SQLite_name)\n",
        "curs = dbconn.cursor()\n",
        "db_TableName = 'facelabel'\n",
        "column_faceindex = 'faceindex'\n",
        "column_facename = 'facename'"
      ],
      "execution_count": 0,
      "outputs": []
    },
    {
      "cell_type": "markdown",
      "metadata": {
        "id": "5Bzhgal3POQx",
        "colab_type": "text"
      },
      "source": [
        "# 5.方法宣告"
      ]
    },
    {
      "cell_type": "markdown",
      "metadata": {
        "id": "dYlRhjX9-PDF",
        "colab_type": "text"
      },
      "source": [
        "**5.1讀取圖片與更新 SQLite 輕量資料庫內資料表臉部分類資料**"
      ]
    },
    {
      "cell_type": "code",
      "metadata": {
        "id": "ZdWd_IpIPRK5",
        "colab_type": "code",
        "colab": {}
      },
      "source": [
        "def load_faceimg(faceimgpath,imgtype,img_resize):\n",
        "    \n",
        "    load_index = 0\n",
        "    images = [] # 臉部圖像\n",
        "    labels = [] # 臉部標籤\n",
        "    label_class = []\n",
        "\n",
        "    print(\"開始掃描臉部圖像目錄資料夾內所有圖像與分類.\\n\")\n",
        "\n",
        "    # 先清除SQLite 輕量資料庫內資料表所有資料\n",
        "    SQL_delete_syntax = '''\n",
        "    DELETE FROM {}\n",
        "    '''.format(db_TableName)\n",
        "    \n",
        "    SQL_run = curs.execute(SQL_delete_syntax)\n",
        "\n",
        "    if SQL_run:\n",
        "\n",
        "        dbconn.commit()\n",
        "\n",
        "    else:\n",
        "\n",
        "        print ('Run SQL_delete_syntax Faild.')\n",
        "\n",
        "    # 讀取臉部圖像目錄資料夾\n",
        "    for dir_item in os.listdir(faceimgpath):\n",
        "\n",
        "        #print(\"No.\"+str(load_index)+\" [ \"+dir_item+\" ]\")\n",
        "        print(\"\\nNo.{} [ {} ]\".format(str(load_index),dir_item))\n",
        "        \n",
        "        load_index+=1\n",
        "        label_class.append(dir_item)\n",
        "\n",
        "        # join root directory and class folder name\n",
        "        full_path = os.path.abspath(os.path.join(faceimgpath) + dir_item)\n",
        "        print(\"Full Detail Path = {}\".format(full_path))\n",
        "\n",
        "        class_name = dir_item\n",
        "#         print(\"Class: {}\".format(class_name))\n",
        "        num_img = 0\n",
        "\n",
        "        # read image\n",
        "        for dir_item in os.listdir(full_path):\n",
        "\n",
        "#             print(dir_item)\n",
        "            num_img+=1\n",
        "            img_path = \"\"\n",
        "\n",
        "            if dir_item.endswith(imgtype)and os.path.exists(str(full_path)):\n",
        "\n",
        "                img_path = os.path.abspath(os.path.join(full_path) + \"/\" + dir_item)\n",
        "                #print(img_path)\n",
        "                image = cv2.imread(img_path)  # OpenCV讀取圖像              \n",
        "                image = cv2.resize(image,(img_resize,img_resize)) # OpenCV調整圖像大小 \n",
        "\n",
        "                # 取得圖像大小\n",
        "                img_width,img_height,channels = image.shape\n",
        "                \n",
        "                # add image to array\n",
        "                images.append(image)\n",
        "                labels.append(class_name)\n",
        "\n",
        "\n",
        "        print(\"Image Quantity: {}\".format(num_img))\n",
        "        \n",
        "    return  images,labels,img_width,img_height,channels,load_index,label_class"
      ],
      "execution_count": 0,
      "outputs": []
    },
    {
      "cell_type": "markdown",
      "metadata": {
        "id": "OHCd1Htu-YWe",
        "colab_type": "text"
      },
      "source": [
        "**5.2圖像類別名稱編成索引號碼**"
      ]
    },
    {
      "cell_type": "code",
      "metadata": {
        "id": "5zNTRNb7P-Qa",
        "colab_type": "code",
        "colab": {}
      },
      "source": [
        "def char_to_code(labels,label_class,n_class):\n",
        "\n",
        "    for index,classname in label_class:\n",
        "\n",
        "        labels = np.array([int(index) if label == classname else label for label in labels])   \n",
        "        \n",
        "        print(classname)\n",
        "         \n",
        "        # run SQL_Insert_syntax\n",
        "        SQL_Insert_syntax = '''\n",
        "        INSERT INTO {}('{}','{}')\n",
        "        VALUES('{}','{}')\n",
        "        '''.format(db_TableName,column_faceindex,column_facename,str(index),str(classname))\n",
        "        \n",
        "        print(\"SQL_Insert_syntax: {}\".format(SQL_Insert_syntax))\n",
        "        \n",
        "        SQL_run = curs.execute(SQL_Insert_syntax)\n",
        "\n",
        "        if SQL_run:\n",
        "            dbconn.commit()\n",
        "        else:\n",
        "            print ('Run SQL_Insert_syntax Faild.')\n",
        "\n",
        "    return labels"
      ],
      "execution_count": 0,
      "outputs": []
    },
    {
      "cell_type": "markdown",
      "metadata": {
        "id": "lcxjBDHl-gYN",
        "colab_type": "text"
      },
      "source": [
        "**5.3資料集處理**"
      ]
    },
    {
      "cell_type": "code",
      "metadata": {
        "id": "YK_irvDDjSAX",
        "colab_type": "code",
        "colab": {}
      },
      "source": [
        "def process_data(images,labels,img_rows,img_cols ,img_channels,n_class):\n",
        "  \n",
        "    # train dataset 訓練資料集實體宣告\n",
        "    train_images = None # x\n",
        "    train_labels = None # y\n",
        "\n",
        "    # valid dataset 驗證資料及實體宣告\n",
        "    valid_images = None # x\n",
        "    valid_labels = None # y\n",
        "\n",
        "    #test dataset 測試資料集實體宣告\n",
        "    test_images = None # x\n",
        "    test_labels = None # y\n",
        "\n",
        "    # split dataset 'train'、'valid'、'test'\n",
        "    train_images,valid_images,train_labels,valid_labels = train_test_split(images,labels,test_size = 0.2,random_state = random.randint(0,n_class))\n",
        "    _,test_images,_,test_labels = train_test_split(images,labels,test_size = 0.3,random_state = random.randint(0,n_class))\n",
        "    \n",
        "    # https://faroit.github.io/keras-docs/1.2.2/backend/\n",
        "\n",
        "    if K.image_dim_ordering() == 'th': # img_channels,img_rows,img_cols\n",
        "\n",
        "        train_images = train_images.reshape(train_images.shape[0],img_channels,img_rows,img_cols)\n",
        "        valid_images = valid_images.reshape(valid_images.shape[0],img_channels,img_rows,img_cols)\n",
        "        test_images = test_images.reshape(test_images.shape[0],img_channels,img_rows,img_cols)\n",
        "\n",
        "    else: # img_rows,img_cols,img_channels\n",
        "\n",
        "        train_images = train_images.reshape(train_images.shape[0],img_rows,img_cols,img_channels)\n",
        "        valid_images = valid_images.reshape(valid_images.shape[0],img_rows,img_cols,img_channels)\n",
        "        test_images = test_images.reshape(test_images.shape[0],img_rows,img_cols,img_channels)\n",
        "    \n",
        "    # normalize data\n",
        "    train_images,valid_images,test_images = normalize_data(train_images,valid_images,test_images)\n",
        "\n",
        "    # show \"train_images\"、\"valid_imagess\"、\"test_images\" length\n",
        "    print(\"\\n\\n>>>>>>>>>>>>>>>>>>>>>>>>>>>>>>>>\")\n",
        "    print(\"Train Sample: {}\".format(train_images.shape[0]))\n",
        "    print(\"Valid Sample: {}\".format(valid_images.shape[0]))\n",
        "    print(\"Test Sample: {}\".format(test_images.shape[0]))\n",
        "    \n",
        "    #print(\"{}\\n\".format(train_images))\n",
        "    #print(\"{}\\n\".format(valid_images))\n",
        "    #print(\"{}\\n\".format(test_images))\n",
        "\n",
        "    #https://blog.csdn.net/roger_royer/article/details/79968523\n",
        "    # One Hot Code process \"train_labels\",\"valid_labels\",\"test_labels\"\n",
        "    train_labels,valid_labels,test_labels = one_hot_process(train_labels,valid_labels,test_labels,n_class)\n",
        "    print(\"Train Labels Sample: {}\".format(train_labels.shape[0]))\n",
        "    print(\"Valid Labels Sample: {}\".format(valid_labels.shape[0]))\n",
        "    print(\"Test Labels Sample: {}\".format(test_labels.shape[0]))\n",
        "    \n",
        "    #print(\"{}\\n\".format(train_labels))\n",
        "    #print(\"{}\\n\".format(valid_labels))\n",
        "    #print(\"{}\\n\".format(test_labels))\n",
        "    print(\">>>>>>>>>>>>>>>>>>>>>>>>>>>>>>>>\")\n",
        "\n",
        "    return train_images,valid_images,test_images,train_labels,valid_labels,test_labels\n",
        "  \n",
        "\n",
        "  \n",
        "#One Hot Code for label vector\n",
        "def one_hot_process(train_labels,valid_labels,test_labels,n_class):\n",
        "\n",
        "    train_labels = np_utils.to_categorical(train_labels,n_class)\n",
        "    valid_labels = np_utils.to_categorical(valid_labels,n_class)\n",
        "    test_labels = np_utils.to_categorical(test_labels,n_class)\n",
        "\n",
        "    return train_labels,valid_labels,test_labels\n",
        "\n",
        "  \n",
        "\n",
        "# Normalize data 資料正規化\n",
        "def normalize_data(train_images,valid_images,test_images):\n",
        "\n",
        "    train_images = train_images.astype('float32')\n",
        "    valid_images = valid_images.astype('float32')\n",
        "    test_images = test_images.astype('float32')\n",
        "\n",
        "    train_images /= 255\n",
        "    valid_images /= 255\n",
        "    test_images /= 255\n",
        "\n",
        "    return train_images,valid_images,test_images"
      ],
      "execution_count": 0,
      "outputs": []
    },
    {
      "cell_type": "markdown",
      "metadata": {
        "id": "OXZ4h3JG_K8U",
        "colab_type": "text"
      },
      "source": [
        "**5.4產生訓練模型後Accuracy與Loss變化圖**"
      ]
    },
    {
      "cell_type": "code",
      "metadata": {
        "id": "ut1YT14E6Nh4",
        "colab_type": "code",
        "colab": {}
      },
      "source": [
        "'''\n",
        "http://noahsnail.com/2017/04/29/2017-4-29-matplotlib%E7%9A%84%E5%9F%BA%E6%9C%AC%E7%94%A8%E6%B3%95(%E5%9B%9B)%E2%80%94%E2%80%94%E8%AE%BE%E7%BD%AElegend%E5%9B%BE%E4%BE%8B/\n",
        "https://blog.csdn.net/Quincuntial/article/details/70947363\n",
        "https://www.jianshu.com/p/91eb0d616adb\n",
        "'''\n",
        "       \n",
        "\n",
        "def plot_figure(history,dir,figure_classname):\n",
        "\n",
        "    __plot_acc(history,dir,figure_classname)\n",
        "\n",
        "    #plt.subplot(1,2,1)\n",
        "\n",
        "    __plot_loss(history,dir,figure_classname)\n",
        "\n",
        "    #plt.show()\n",
        "\n",
        "\n",
        "def __plot_acc(hist,dir,figure_classname):\n",
        "        \n",
        "    acc = hist.history['acc']\n",
        "    val_acc = hist.history['val_acc']\n",
        "        \n",
        "    # img size\n",
        "    plt.figure(figsize=(8,8))\n",
        "    plt.plot(acc)\n",
        "    plt.plot(val_acc)\n",
        "    plt.title(figure_classname+'_Model Accuracy')\n",
        "    plt.ylabel('Accuracy')\n",
        "    plt.xlabel('Epochs')\n",
        "    plt.legend(['train_acc', 'valid_acc'], loc='best')\n",
        "    plt.tight_layout()\n",
        "    plt.savefig(dir+figure_classname+'_Accuracy.png')\n",
        "    #plt.show()\n",
        "\n",
        "def __plot_loss(hist,dir,figure_classname):\n",
        "\n",
        "    loss = hist.history['loss']\n",
        "    val_loss = hist.history['val_loss']\n",
        "\n",
        "    # img size\n",
        "    plt.figure(figsize=(8,8))        \n",
        "    plt.plot(loss)\n",
        "    plt.plot(val_loss)\n",
        "    plt.title(figure_classname+'_Model Loss')\n",
        "    plt.ylabel('Loss')\n",
        "    plt.xlabel('Epochs')\n",
        "    plt.legend(['train_loss', 'valid_loss'], loc='best')\n",
        "    plt.tight_layout()\n",
        "    plt.savefig(dir+figure_classname+'_Loss.png')\n",
        "    #plt.show()"
      ],
      "execution_count": 0,
      "outputs": []
    },
    {
      "cell_type": "markdown",
      "metadata": {
        "id": "6J6UAuFgO9zF",
        "colab_type": "text"
      },
      "source": [
        "#6. 圖像讀取與前置處理程序"
      ]
    },
    {
      "cell_type": "markdown",
      "metadata": {
        "id": "dz46vVMP2rj4",
        "colab_type": "text"
      },
      "source": [
        "**6.1讀取圖像**"
      ]
    },
    {
      "cell_type": "code",
      "metadata": {
        "id": "oc-nbbUtPHmT",
        "colab_type": "code",
        "outputId": "25f47516-82d4-4796-e45b-b2a48cac47e2",
        "colab": {
          "base_uri": "https://localhost:8080/",
          "height": 662
        }
      },
      "source": [
        "start_time = time.time()\n",
        "    \n",
        "# get img dataset\n",
        "images,labels,img_width,img_height,channels,n_class,label_class = load_faceimg(faceimg_dir,faceimg_type,img_resize)\n",
        "    \n",
        "print(\"\\n\\n>>>>>>>>>>>>>>>>>>>>>>>>>>>>>>>>\\n\")\n",
        "\n",
        "# show number of class\n",
        "print(\"Number Of Class: {} \\n {} \\n\".format(n_class,label_class))\n",
        "\n",
        "# show img dataset length\n",
        "print(\"Images Length: {} \\nLabels Length: {}\".format(len(images),len(labels)))\n",
        "\n",
        "# show img size\n",
        "print(\"Image Size: {}x{}x{}\".format(img_width,img_height,channels))\n",
        "    \n",
        "images = np.array(images)    \n",
        "labels = np.array(labels)"
      ],
      "execution_count": 25,
      "outputs": [
        {
          "output_type": "stream",
          "text": [
            "開始掃描臉部圖像目錄資料夾內所有圖像與分類.\n",
            "\n",
            "\n",
            "No.0 [ Adam Sandler ]\n",
            "Full Detail Path = /content/imgdata/FaceImg/Adam Sandler\n",
            "Image Quantity: 90\n",
            "\n",
            "No.1 [ Aaron Judge ]\n",
            "Full Detail Path = /content/imgdata/FaceImg/Aaron Judge\n",
            "Image Quantity: 90\n",
            "\n",
            "No.2 [ Jean Reno ]\n",
            "Full Detail Path = /content/imgdata/FaceImg/Jean Reno\n",
            "Image Quantity: 90\n",
            "\n",
            "No.3 [ Emily Watson ]\n",
            "Full Detail Path = /content/imgdata/FaceImg/Emily Watson\n",
            "Image Quantity: 90\n",
            "\n",
            "No.4 [ Ben Stiller ]\n",
            "Full Detail Path = /content/imgdata/FaceImg/Ben Stiller\n",
            "Image Quantity: 90\n",
            "\n",
            "No.5 [ Ice Cube ]\n",
            "Full Detail Path = /content/imgdata/FaceImg/Ice Cube\n",
            "Image Quantity: 90\n",
            "\n",
            "\n",
            ">>>>>>>>>>>>>>>>>>>>>>>>>>>>>>>>\n",
            "\n",
            "Number Of Class: 6 \n",
            " ['Adam Sandler', 'Aaron Judge', 'Jean Reno', 'Emily Watson', 'Ben Stiller', 'Ice Cube'] \n",
            "\n",
            "Images Length: 540 \n",
            "Labels Length: 540\n",
            "Image Size: 96x96x3\n"
          ],
          "name": "stdout"
        }
      ]
    },
    {
      "cell_type": "markdown",
      "metadata": {
        "id": "fSkXv6uo3Fjw",
        "colab_type": "text"
      },
      "source": [
        "**6.2圖像資料集處理(混淆矩陣、分類索引編碼)**"
      ]
    },
    {
      "cell_type": "code",
      "metadata": {
        "id": "6hGpZEIkWuTH",
        "colab_type": "code",
        "outputId": "3a15951f-1067-4f92-87a5-41cf946c0e33",
        "colab": {
          "base_uri": "https://localhost:8080/",
          "height": 608
        }
      },
      "source": [
        "# shuffle data\n",
        "perm_array = np.arange(len(images))\n",
        "np.random.shuffle(perm_array)\n",
        "images = images[perm_array]\n",
        "labels = labels[perm_array]\n",
        "\n",
        "print(images.shape)\n",
        "print(labels.shape)\n",
        "# print(labels)\n",
        "\n",
        "label_class = enumerate(label_class)\n",
        "\n",
        "# for index, classname in label_class:\n",
        "#   print(classname)\n",
        "\n",
        "# char convert to int code\n",
        "labels = char_to_code(labels,label_class,n_class)\n",
        "\n",
        "# print(labels)\n",
        "print(\">>>>>>>>>>>>>>>>>>>>>>>>>>>>>>>>\")"
      ],
      "execution_count": 26,
      "outputs": [
        {
          "output_type": "stream",
          "text": [
            "(540, 96, 96, 3)\n",
            "(540,)\n",
            "Adam Sandler\n",
            "SQL_Insert_syntax: \n",
            "        INSERT INTO facelabel('faceindex','facename')\n",
            "        VALUES('0','Adam Sandler')\n",
            "        \n",
            "Aaron Judge\n",
            "SQL_Insert_syntax: \n",
            "        INSERT INTO facelabel('faceindex','facename')\n",
            "        VALUES('1','Aaron Judge')\n",
            "        \n",
            "Jean Reno\n",
            "SQL_Insert_syntax: \n",
            "        INSERT INTO facelabel('faceindex','facename')\n",
            "        VALUES('2','Jean Reno')\n",
            "        \n",
            "Emily Watson\n",
            "SQL_Insert_syntax: \n",
            "        INSERT INTO facelabel('faceindex','facename')\n",
            "        VALUES('3','Emily Watson')\n",
            "        \n",
            "Ben Stiller\n",
            "SQL_Insert_syntax: \n",
            "        INSERT INTO facelabel('faceindex','facename')\n",
            "        VALUES('4','Ben Stiller')\n",
            "        \n",
            "Ice Cube\n",
            "SQL_Insert_syntax: \n",
            "        INSERT INTO facelabel('faceindex','facename')\n",
            "        VALUES('5','Ice Cube')\n",
            "        \n",
            ">>>>>>>>>>>>>>>>>>>>>>>>>>>>>>>>\n"
          ],
          "name": "stdout"
        }
      ]
    },
    {
      "cell_type": "markdown",
      "metadata": {
        "id": "2Ka3jTka2U5D",
        "colab_type": "text"
      },
      "source": [
        "**6.3分割圖像資料集**"
      ]
    },
    {
      "cell_type": "code",
      "metadata": {
        "id": "r1x-01JMXIOj",
        "colab_type": "code",
        "outputId": "4401db46-b74b-40af-cb63-d2b9dd91cde8",
        "colab": {
          "base_uri": "https://localhost:8080/",
          "height": 196
        }
      },
      "source": [
        "# dataset process generate\n",
        "train_images,valid_images,test_images,train_labels,valid_labels,test_labels = process_data(images,labels,img_height,img_width,channels,n_class)\n",
        "#print(train_images.shape[0])"
      ],
      "execution_count": 27,
      "outputs": [
        {
          "output_type": "stream",
          "text": [
            "\n",
            "\n",
            ">>>>>>>>>>>>>>>>>>>>>>>>>>>>>>>>\n",
            "Train Sample: 432\n",
            "Valid Sample: 108\n",
            "Test Sample: 162\n",
            "Train Labels Sample: 432\n",
            "Valid Labels Sample: 108\n",
            "Test Labels Sample: 162\n",
            ">>>>>>>>>>>>>>>>>>>>>>>>>>>>>>>>\n"
          ],
          "name": "stdout"
        }
      ]
    },
    {
      "cell_type": "markdown",
      "metadata": {
        "id": "7_ZgfqBdnTjz",
        "colab_type": "text"
      },
      "source": [
        "#7. 建立神經網絡CNN模型"
      ]
    },
    {
      "cell_type": "markdown",
      "metadata": {
        "id": "zoCL7C2q4FJU",
        "colab_type": "text"
      },
      "source": [
        "**7.1設置Model參數儲存位置**"
      ]
    },
    {
      "cell_type": "code",
      "metadata": {
        "id": "e8ytR_LAnwvi",
        "colab_type": "code",
        "colab": {}
      },
      "source": [
        "ouputlog_filename = \"model_arg_log.txt\"\n",
        "output_path= currentPath+'/log/model_log/'      \n",
        "\n",
        "def outputmodellog(getlog):\n",
        "\n",
        "    if not os.path.exists(str(output_path + ouputlog_filename)):\n",
        "         os.mkdir(str(output_path))\n",
        "\n",
        "    filewrite = open(str(output_path + ouputlog_filename), 'w')\n",
        "    filewrite.write(getlog)\n",
        "    filewrite.close()"
      ],
      "execution_count": 0,
      "outputs": []
    },
    {
      "cell_type": "markdown",
      "metadata": {
        "id": "jkJf0OyN4VbO",
        "colab_type": "text"
      },
      "source": [
        "**7.2Neural Network Model架構參數設置**"
      ]
    },
    {
      "cell_type": "code",
      "metadata": {
        "id": "25TLUamlL5dj",
        "colab_type": "code",
        "colab": {
          "base_uri": "https://localhost:8080/",
          "height": 71
        },
        "outputId": "b424a8c6-bb37-43ba-be66-81a211e49a5b"
      },
      "source": [
        "# ----------------------------------- Model argument settings ----------------------------------- \n",
        "\n",
        "# you can use these optimizer option: \"SGD\", \"RMSprop\", \"Adam\", \"Adagrad\",\n",
        "# \"Adadelta\"\n",
        "optimizer = 'Adam'\n",
        "keras.optimizers.Adam(lr=0.00015, beta_1=0.9, beta_2=0.999, epsilon=None, decay=0.0, amsgrad=False)\n",
        "\n",
        "\n",
        "# you can use these loss option:\n",
        "# \"categorical_crossentropy\",\"mean_squared_error\",\"mean_absolute_error\",\"cosine_proximity\"\n",
        "loss = 'categorical_crossentropy'\n",
        "\n",
        "# net layer argument settings\n",
        "# input layer\n",
        "inputlayer_Activation = 'relu'\n",
        "inputlayer_conv2D_hidden_unit = 32\n",
        "inputlayer_conv2D_kernel_size = (3,3)\n",
        "inputlayer_conv2D_padding = 'same'\n",
        "\n",
        "# one layer\n",
        "onelayer_conv2D_hidden_unit = 32\n",
        "onelayer_conv2D_kernel_size = (3,3)\n",
        "onelayer_conv2D_padding = 'same'\n",
        "onelayer_Activation = 'relu'\n",
        "onelayer_MaxPooling2D_pool_size = (2,2)\n",
        "onelayer_Dropout = 0.25\n",
        "\n",
        "# two layer\n",
        "twolayer_conv2D_hidden_unit = 64\n",
        "twolayer_conv2D_kernel_size = (3,3)\n",
        "twolayer_conv2D_padding = 'same'\n",
        "twolayer_Activation = 'relu'\n",
        "twolayer_MaxPooling2D_pool_size = (2,2)\n",
        "twolayer_Dropout = 0.25\n",
        "\n",
        "# three layer\n",
        "threelayer_conv2D_hidden_unit = 128\n",
        "threelayer_conv2D_kernel_size = (3,3)\n",
        "threelayer_conv2D_padding = 'same'\n",
        "threelayer_Activation = 'relu'\n",
        "threelayer_MaxPooling2D_pool_size = (2,2)\n",
        "threelayer_Dropout = 0.5\n",
        "\n",
        "# four layer\n",
        "fourlayer_conv2D_hidden_unit = 256\n",
        "fourlayer_conv2D_kernel_size = (3,3)\n",
        "fourlayer_conv2D_padding = 'same'\n",
        "fourlayer_Activation = 'relu'\n",
        "fourlayer_MaxPooling2D_pool_size = (2,2)\n",
        "fourlayer_Dropout = 0.25\n",
        "\n",
        "# full-connection layer\n",
        "full_connectionlayer_Dense = 1024\n",
        "full_connectionlayer_Activation = 'relu'\n",
        "full_connectionlayer_Dropout = 0.5\n",
        "\n",
        "# output layer\n",
        "ouputlayer_Activation = 'softmax'"
      ],
      "execution_count": 29,
      "outputs": [
        {
          "output_type": "stream",
          "text": [
            "WARNING:tensorflow:From /usr/local/lib/python3.6/dist-packages/tensorflow/python/framework/op_def_library.py:263: colocate_with (from tensorflow.python.framework.ops) is deprecated and will be removed in a future version.\n",
            "Instructions for updating:\n",
            "Colocations handled automatically by placer.\n"
          ],
          "name": "stdout"
        }
      ]
    },
    {
      "cell_type": "markdown",
      "metadata": {
        "id": "SpV6azIu4i3p",
        "colab_type": "text"
      },
      "source": [
        "**7.3建置Neural Network Model Function**"
      ]
    },
    {
      "cell_type": "code",
      "metadata": {
        "id": "s5l1qw3ZrSY3",
        "colab_type": "code",
        "colab": {}
      },
      "source": [
        "def build_model(img_width,img_height,channels,n_class):\n",
        "\n",
        "    input_shape = (img_width,img_height,channels)\n",
        "\n",
        "    model = Sequential()\n",
        "    \n",
        "    # Input layer\n",
        "    model.add(Conv2D(inputlayer_conv2D_hidden_unit, kernel_size = inputlayer_conv2D_kernel_size, padding = inputlayer_conv2D_padding,input_shape = input_shape))\n",
        "    model.add(Activation(inputlayer_Activation))\n",
        "\n",
        "    # One hiddenlayer (Conv2D,Activation,MaxPooling2D,Dropout)\n",
        "    model.add(Conv2D(onelayer_conv2D_hidden_unit, onelayer_conv2D_kernel_size, padding = onelayer_conv2D_padding))\n",
        "    model.add(Activation(onelayer_Activation))\n",
        "    model.add(MaxPooling2D(pool_size = onelayer_MaxPooling2D_pool_size))\n",
        "    model.add(Dropout(onelayer_Dropout))\n",
        "\n",
        "    # Two hiddenlayer(Conv2D,Activation,MaxPooling2D,Dropout)\n",
        "    model.add(Conv2D(twolayer_conv2D_hidden_unit, twolayer_conv2D_kernel_size,padding = twolayer_conv2D_padding))\n",
        "    model.add(Activation(twolayer_Activation))\n",
        "    model.add(MaxPooling2D(pool_size = twolayer_MaxPooling2D_pool_size))\n",
        "    model.add(Dropout(twolayer_Dropout))\n",
        "\n",
        "    # Three hiddenlayer(Conv2D,Activation,MaxPooling2D,Dropout)\n",
        "    model.add(Conv2D(threelayer_conv2D_hidden_unit, threelayer_conv2D_kernel_size, padding = threelayer_conv2D_padding))\n",
        "    model.add(Activation(threelayer_Activation))\n",
        "    model.add(MaxPooling2D(pool_size = threelayer_MaxPooling2D_pool_size))\n",
        "    model.add(Dropout(threelayer_Dropout))\n",
        "\n",
        "    # Four hiddenlayer(Conv2D,Activation,MaxPooling2D,Dropout)\n",
        "    model.add(Conv2D(fourlayer_conv2D_hidden_unit, fourlayer_conv2D_kernel_size, padding = fourlayer_conv2D_padding))\n",
        "    model.add(Activation(fourlayer_Activation))\n",
        "    model.add(MaxPooling2D(pool_size = fourlayer_MaxPooling2D_pool_size))\n",
        "    model.add(Dropout(fourlayer_Dropout))\n",
        "\n",
        "    # Flatten layer\n",
        "    model.add(Flatten())\n",
        "\n",
        "    # Full-connection layer(Dense,Activation,Dropout)\n",
        "    model.add(Dense(full_connectionlayer_Dense))\n",
        "    model.add(Activation(full_connectionlayer_Activation))\n",
        "    model.add(Dropout(full_connectionlayer_Dropout)) \n",
        "\n",
        "    # Output layer\n",
        "    model.add(Dense(n_class))\n",
        "    model.add(Activation(ouputlayer_Activation))\n",
        "\n",
        "    model.compile(loss=loss,optimizer=optimizer,metrics=['accuracy'])\n",
        "\n",
        "    model.summary()\n",
        "\n",
        "    return model"
      ],
      "execution_count": 0,
      "outputs": []
    },
    {
      "cell_type": "markdown",
      "metadata": {
        "id": "5UAyIeHd4w-A",
        "colab_type": "text"
      },
      "source": [
        "**7.4建置Neural Network Model**"
      ]
    },
    {
      "cell_type": "code",
      "metadata": {
        "id": "48ZBcUiBnTuK",
        "colab_type": "code",
        "outputId": "3c5da2d7-40c6-4050-c6ae-13458d9d56e5",
        "colab": {
          "base_uri": "https://localhost:8080/",
          "height": 1056
        }
      },
      "source": [
        "# build Neural Network Model\n",
        "with tf.device(n_GPU):\n",
        "  \n",
        "        net_model = build_model(img_width,img_height,channels,n_class)\n",
        "    \n",
        "#         modellogouput = model_logouput(str('face_'+str(face_class)))\n",
        "      \n",
        "        str_log = '''\n",
        "\n",
        "            This is  model each layer argument recoard.\n",
        "\n",
        "            # input layer\n",
        "            inputlayer_Activation = {}\n",
        "            inputlayer_conv2D_hidden_unit = {}\n",
        "            inputlayer_conv2D_kernel_size = {}\n",
        "            inputlayer_conv2D_padding = {}\n",
        "\n",
        "            # one layer\n",
        "            onelayer_conv2D_hidden_unit = {}\n",
        "            onelayer_conv2D_kernel_size = {}\n",
        "            onelayer_conv2D_padding = {}\n",
        "            onelayer_Activation = {}\n",
        "            onelayer_MaxPooling2D_pool_size = {}\n",
        "            onelayer_Dropout = {}\n",
        "\n",
        "            # two layer\n",
        "            twolayer_conv2D_hidden_unit = {}\n",
        "            twolayer_conv2D_kernel_size = {}\n",
        "            twolayer_conv2D_padding = {}\n",
        "            twolayer_Activation = {}\n",
        "            twolayer_MaxPooling2D_pool_size = {}\n",
        "            twolayer_Dropout = {}\n",
        "\n",
        "            # three layer\n",
        "            threelayer_conv2D_hidden_unit = {}\n",
        "            threelayer_conv2D_kernel_size = {}\n",
        "            threelayer_conv2D_padding = {}\n",
        "            threelayer_Activation = {}\n",
        "            threelayer_MaxPooling2D_pool_size = {}\n",
        "            threelayer_Dropout = {}\n",
        "\n",
        "            # four layer\n",
        "            fourlayer_conv2D_hidden_unit = {}\n",
        "            fourlayer_conv2D_kernel_size = {}\n",
        "            fourlayer_conv2D_padding = {}\n",
        "            fourlayer_Activation = {}\n",
        "            fourlayer_MaxPooling2D_pool_size = {}\n",
        "            fourlayer_Dropout = {}\n",
        "\n",
        "            # full-connection layer\n",
        "            full_connectionlayer_Dense = {}\n",
        "            full_connectionlayer_Activation = {}\n",
        "            full_connectionlayer_Dropout = {}\n",
        "\n",
        "            # output layer\n",
        "            ouputlayer_Activation = {}\n",
        "            optimizer = {}\n",
        "            loss = {}\n",
        "\n",
        "        '''.format(inputlayer_Activation,inputlayer_conv2D_hidden_unit,inputlayer_conv2D_kernel_size,inputlayer_conv2D_padding,\n",
        "                   onelayer_conv2D_hidden_unit,onelayer_conv2D_kernel_size,onelayer_conv2D_padding,onelayer_Activation,onelayer_MaxPooling2D_pool_size,onelayer_Dropout,\n",
        "                   twolayer_conv2D_hidden_unit,twolayer_conv2D_kernel_size,twolayer_conv2D_padding,twolayer_Activation,onelayer_MaxPooling2D_pool_size,twolayer_Dropout,\n",
        "                   threelayer_conv2D_hidden_unit,threelayer_conv2D_kernel_size,threelayer_conv2D_padding,threelayer_Activation,threelayer_MaxPooling2D_pool_size,threelayer_Dropout,\n",
        "                   fourlayer_conv2D_hidden_unit,fourlayer_conv2D_kernel_size,fourlayer_conv2D_padding,fourlayer_Activation,fourlayer_MaxPooling2D_pool_size,fourlayer_Dropout,\n",
        "                   full_connectionlayer_Dense,full_connectionlayer_Activation,full_connectionlayer_Dropout,\n",
        "                   ouputlayer_Activation,optimizer,loss)\n",
        "\n",
        "        outputmodellog(str_log)"
      ],
      "execution_count": 31,
      "outputs": [
        {
          "output_type": "stream",
          "text": [
            "WARNING:tensorflow:From /usr/local/lib/python3.6/dist-packages/keras/backend/tensorflow_backend.py:3445: calling dropout (from tensorflow.python.ops.nn_ops) with keep_prob is deprecated and will be removed in a future version.\n",
            "Instructions for updating:\n",
            "Please use `rate` instead of `keep_prob`. Rate should be set to `rate = 1 - keep_prob`.\n",
            "_________________________________________________________________\n",
            "Layer (type)                 Output Shape              Param #   \n",
            "=================================================================\n",
            "conv2d_1 (Conv2D)            (None, 96, 96, 32)        896       \n",
            "_________________________________________________________________\n",
            "activation_1 (Activation)    (None, 96, 96, 32)        0         \n",
            "_________________________________________________________________\n",
            "conv2d_2 (Conv2D)            (None, 96, 96, 32)        9248      \n",
            "_________________________________________________________________\n",
            "activation_2 (Activation)    (None, 96, 96, 32)        0         \n",
            "_________________________________________________________________\n",
            "max_pooling2d_1 (MaxPooling2 (None, 48, 48, 32)        0         \n",
            "_________________________________________________________________\n",
            "dropout_1 (Dropout)          (None, 48, 48, 32)        0         \n",
            "_________________________________________________________________\n",
            "conv2d_3 (Conv2D)            (None, 48, 48, 64)        18496     \n",
            "_________________________________________________________________\n",
            "activation_3 (Activation)    (None, 48, 48, 64)        0         \n",
            "_________________________________________________________________\n",
            "max_pooling2d_2 (MaxPooling2 (None, 24, 24, 64)        0         \n",
            "_________________________________________________________________\n",
            "dropout_2 (Dropout)          (None, 24, 24, 64)        0         \n",
            "_________________________________________________________________\n",
            "conv2d_4 (Conv2D)            (None, 24, 24, 128)       73856     \n",
            "_________________________________________________________________\n",
            "activation_4 (Activation)    (None, 24, 24, 128)       0         \n",
            "_________________________________________________________________\n",
            "max_pooling2d_3 (MaxPooling2 (None, 12, 12, 128)       0         \n",
            "_________________________________________________________________\n",
            "dropout_3 (Dropout)          (None, 12, 12, 128)       0         \n",
            "_________________________________________________________________\n",
            "conv2d_5 (Conv2D)            (None, 12, 12, 256)       295168    \n",
            "_________________________________________________________________\n",
            "activation_5 (Activation)    (None, 12, 12, 256)       0         \n",
            "_________________________________________________________________\n",
            "max_pooling2d_4 (MaxPooling2 (None, 6, 6, 256)         0         \n",
            "_________________________________________________________________\n",
            "dropout_4 (Dropout)          (None, 6, 6, 256)         0         \n",
            "_________________________________________________________________\n",
            "flatten_1 (Flatten)          (None, 9216)              0         \n",
            "_________________________________________________________________\n",
            "dense_1 (Dense)              (None, 1024)              9438208   \n",
            "_________________________________________________________________\n",
            "activation_6 (Activation)    (None, 1024)              0         \n",
            "_________________________________________________________________\n",
            "dropout_5 (Dropout)          (None, 1024)              0         \n",
            "_________________________________________________________________\n",
            "dense_2 (Dense)              (None, 6)                 6150      \n",
            "_________________________________________________________________\n",
            "activation_7 (Activation)    (None, 6)                 0         \n",
            "=================================================================\n",
            "Total params: 9,842,022\n",
            "Trainable params: 9,842,022\n",
            "Non-trainable params: 0\n",
            "_________________________________________________________________\n"
          ],
          "name": "stdout"
        }
      ]
    },
    {
      "cell_type": "markdown",
      "metadata": {
        "id": "khEQgsl3vBJf",
        "colab_type": "text"
      },
      "source": [
        "# 8.訓練模型"
      ]
    },
    {
      "cell_type": "code",
      "metadata": {
        "id": "JMNNHQPDLwBo",
        "colab_type": "code",
        "colab": {}
      },
      "source": [
        "# ----------------------------------- Train argument settings ----------------------------------- \n",
        "# batch_size = 24\n",
        "batch_size = 23\n",
        "# epochs = 12\n",
        "epochs = 84\n",
        "verbose=1"
      ],
      "execution_count": 0,
      "outputs": []
    },
    {
      "cell_type": "code",
      "metadata": {
        "id": "NZsnBP98u9wn",
        "colab_type": "code",
        "outputId": "1a8140a5-d2ea-4bb4-f893-2819bdb94091",
        "colab": {
          "base_uri": "https://localhost:8080/",
          "height": 3780
        }
      },
      "source": [
        "# ImageDataGenerator declard and argument settings\n",
        "# https://chtseng.wordpress.com/2017/11/11/data-augmentation-%E8%B3%87%E6%96%99%E5%A2%9E%E5%BC%B7/\n",
        "datagen = ImageDataGenerator(featurewise_center = False,\n",
        "        samplewise_center  = False,\n",
        "        featurewise_std_normalization = False,\n",
        "        samplewise_std_normalization  = False,\n",
        "        zca_whitening = False,\n",
        "        rotation_range = 20,\n",
        "        width_shift_range  = 0.2,\n",
        "        height_shift_range = 0.2,\n",
        "        horizontal_flip = True,\n",
        "        vertical_flip = False)\n",
        "\n",
        "print(\"\\n\\n\")\n",
        "print(device_lib.list_local_devices())\n",
        "    \n",
        "print(\"\\n\\nWait for configure operation sources...... \\n\\n\")\n",
        "\n",
        "# process image computing of\n",
        "# \"featurewise_center\",\"featurewise_std_normalization\",\"zca_whitening\"\n",
        "datagen.fit(train_images)\n",
        "\n",
        "steps_per_epoch =(len(train_images) / batch_size)\n",
        "# steps_per_epoch =len(train_images)/2 \n",
        "# steps_per_epoch =len(train_images)\n",
        "\n",
        "# start train\n",
        "with tf.device(n_GPU):\n",
        "     history = net_model.fit_generator(datagen.flow(train_images, train_labels,batch_size = batch_size),\n",
        "                                        steps_per_epoch = steps_per_epoch,\n",
        "                                        epochs = epochs,\n",
        "                                        verbose = verbose,                                                                      \n",
        "                                        validation_data = (valid_images,valid_labels))"
      ],
      "execution_count": 33,
      "outputs": [
        {
          "output_type": "stream",
          "text": [
            "\n",
            "\n",
            "\n",
            "[name: \"/device:CPU:0\"\n",
            "device_type: \"CPU\"\n",
            "memory_limit: 268435456\n",
            "locality {\n",
            "}\n",
            "incarnation: 9249437939313156680\n",
            ", name: \"/device:XLA_CPU:0\"\n",
            "device_type: \"XLA_CPU\"\n",
            "memory_limit: 17179869184\n",
            "locality {\n",
            "}\n",
            "incarnation: 1409430359165232667\n",
            "physical_device_desc: \"device: XLA_CPU device\"\n",
            ", name: \"/device:XLA_GPU:0\"\n",
            "device_type: \"XLA_GPU\"\n",
            "memory_limit: 17179869184\n",
            "locality {\n",
            "}\n",
            "incarnation: 885706463645666116\n",
            "physical_device_desc: \"device: XLA_GPU device\"\n",
            ", name: \"/device:GPU:0\"\n",
            "device_type: \"GPU\"\n",
            "memory_limit: 14800692839\n",
            "locality {\n",
            "  bus_id: 1\n",
            "  links {\n",
            "  }\n",
            "}\n",
            "incarnation: 12950260553961124981\n",
            "physical_device_desc: \"device: 0, name: Tesla T4, pci bus id: 0000:00:04.0, compute capability: 7.5\"\n",
            "]\n",
            "\n",
            "\n",
            "Wait for configure operation sources...... \n",
            "\n",
            "\n",
            "WARNING:tensorflow:From /usr/local/lib/python3.6/dist-packages/tensorflow/python/ops/math_ops.py:3066: to_int32 (from tensorflow.python.ops.math_ops) is deprecated and will be removed in a future version.\n",
            "Instructions for updating:\n",
            "Use tf.cast instead.\n",
            "Epoch 1/84\n",
            "19/18 [==============================] - 5s 273ms/step - loss: 1.9704 - acc: 0.1461 - val_loss: 1.7925 - val_acc: 0.1296\n",
            "Epoch 2/84\n",
            "19/18 [==============================] - 1s 42ms/step - loss: 1.7887 - acc: 0.1609 - val_loss: 1.7955 - val_acc: 0.1019\n",
            "Epoch 3/84\n",
            "19/18 [==============================] - 1s 51ms/step - loss: 1.7836 - acc: 0.1902 - val_loss: 1.7901 - val_acc: 0.1759\n",
            "Epoch 4/84\n",
            "19/18 [==============================] - 1s 53ms/step - loss: 1.7596 - acc: 0.1999 - val_loss: 1.7647 - val_acc: 0.2222\n",
            "Epoch 5/84\n",
            "19/18 [==============================] - 1s 51ms/step - loss: 1.7016 - acc: 0.2932 - val_loss: 1.6234 - val_acc: 0.4074\n",
            "Epoch 6/84\n",
            "19/18 [==============================] - 1s 53ms/step - loss: 1.6611 - acc: 0.2903 - val_loss: 1.6356 - val_acc: 0.3426\n",
            "Epoch 7/84\n",
            "19/18 [==============================] - 1s 52ms/step - loss: 1.6148 - acc: 0.3506 - val_loss: 1.6108 - val_acc: 0.4907\n",
            "Epoch 8/84\n",
            "19/18 [==============================] - 1s 51ms/step - loss: 1.6062 - acc: 0.3447 - val_loss: 1.5002 - val_acc: 0.4722\n",
            "Epoch 9/84\n",
            "19/18 [==============================] - 1s 51ms/step - loss: 1.5914 - acc: 0.3465 - val_loss: 1.4885 - val_acc: 0.4722\n",
            "Epoch 10/84\n",
            "19/18 [==============================] - 1s 52ms/step - loss: 1.5421 - acc: 0.3745 - val_loss: 1.4375 - val_acc: 0.5278\n",
            "Epoch 11/84\n",
            "19/18 [==============================] - 1s 52ms/step - loss: 1.5573 - acc: 0.3637 - val_loss: 1.4498 - val_acc: 0.5000\n",
            "Epoch 12/84\n",
            "19/18 [==============================] - 1s 52ms/step - loss: 1.5015 - acc: 0.4090 - val_loss: 1.4825 - val_acc: 0.4537\n",
            "Epoch 13/84\n",
            "19/18 [==============================] - 1s 52ms/step - loss: 1.4988 - acc: 0.3826 - val_loss: 1.3841 - val_acc: 0.4907\n",
            "Epoch 14/84\n",
            "19/18 [==============================] - 1s 51ms/step - loss: 1.5009 - acc: 0.3929 - val_loss: 1.3667 - val_acc: 0.5000\n",
            "Epoch 15/84\n",
            "19/18 [==============================] - 1s 51ms/step - loss: 1.4392 - acc: 0.4302 - val_loss: 1.3725 - val_acc: 0.4815\n",
            "Epoch 16/84\n",
            "19/18 [==============================] - 1s 52ms/step - loss: 1.4668 - acc: 0.4187 - val_loss: 1.5571 - val_acc: 0.3704\n",
            "Epoch 17/84\n",
            "19/18 [==============================] - 1s 58ms/step - loss: 1.4910 - acc: 0.4364 - val_loss: 1.3514 - val_acc: 0.5370\n",
            "Epoch 18/84\n",
            "19/18 [==============================] - 1s 58ms/step - loss: 1.4861 - acc: 0.4136 - val_loss: 1.3431 - val_acc: 0.5648\n",
            "Epoch 19/84\n",
            "19/18 [==============================] - 1s 59ms/step - loss: 1.3958 - acc: 0.4249 - val_loss: 1.3036 - val_acc: 0.5370\n",
            "Epoch 20/84\n",
            "19/18 [==============================] - 1s 59ms/step - loss: 1.4668 - acc: 0.4003 - val_loss: 1.3482 - val_acc: 0.4907\n",
            "Epoch 21/84\n",
            "19/18 [==============================] - 1s 59ms/step - loss: 1.4206 - acc: 0.4502 - val_loss: 1.2391 - val_acc: 0.5278\n",
            "Epoch 22/84\n",
            "19/18 [==============================] - 1s 59ms/step - loss: 1.3730 - acc: 0.4594 - val_loss: 1.2074 - val_acc: 0.6019\n",
            "Epoch 23/84\n",
            "19/18 [==============================] - 1s 59ms/step - loss: 1.3158 - acc: 0.5098 - val_loss: 1.1819 - val_acc: 0.6019\n",
            "Epoch 24/84\n",
            "19/18 [==============================] - 1s 59ms/step - loss: 1.3259 - acc: 0.5086 - val_loss: 1.1742 - val_acc: 0.6204\n",
            "Epoch 25/84\n",
            "19/18 [==============================] - 1s 59ms/step - loss: 1.3653 - acc: 0.4864 - val_loss: 1.2764 - val_acc: 0.5648\n",
            "Epoch 26/84\n",
            "19/18 [==============================] - 1s 53ms/step - loss: 1.2619 - acc: 0.5308 - val_loss: 1.1090 - val_acc: 0.5648\n",
            "Epoch 27/84\n",
            "19/18 [==============================] - 1s 52ms/step - loss: 1.2650 - acc: 0.5195 - val_loss: 1.0639 - val_acc: 0.6667\n",
            "Epoch 28/84\n",
            "19/18 [==============================] - 1s 52ms/step - loss: 1.3057 - acc: 0.5258 - val_loss: 1.1785 - val_acc: 0.6574\n",
            "Epoch 29/84\n",
            "19/18 [==============================] - 1s 53ms/step - loss: 1.2649 - acc: 0.5136 - val_loss: 1.1320 - val_acc: 0.6111\n",
            "Epoch 30/84\n",
            "19/18 [==============================] - 1s 53ms/step - loss: 1.2333 - acc: 0.5081 - val_loss: 1.0335 - val_acc: 0.6667\n",
            "Epoch 31/84\n",
            "19/18 [==============================] - 1s 53ms/step - loss: 1.1760 - acc: 0.5052 - val_loss: 1.0281 - val_acc: 0.6389\n",
            "Epoch 32/84\n",
            "19/18 [==============================] - 1s 52ms/step - loss: 1.2198 - acc: 0.5246 - val_loss: 1.0492 - val_acc: 0.6852\n",
            "Epoch 33/84\n",
            "19/18 [==============================] - 1s 51ms/step - loss: 1.1972 - acc: 0.5636 - val_loss: 1.3077 - val_acc: 0.5093\n",
            "Epoch 34/84\n",
            "19/18 [==============================] - 1s 51ms/step - loss: 1.2120 - acc: 0.5481 - val_loss: 0.9508 - val_acc: 0.6667\n",
            "Epoch 35/84\n",
            "19/18 [==============================] - 1s 51ms/step - loss: 1.1842 - acc: 0.5623 - val_loss: 1.0976 - val_acc: 0.6019\n",
            "Epoch 36/84\n",
            "19/18 [==============================] - 1s 51ms/step - loss: 1.1142 - acc: 0.5853 - val_loss: 0.9121 - val_acc: 0.6759\n",
            "Epoch 37/84\n",
            "19/18 [==============================] - 1s 53ms/step - loss: 1.0841 - acc: 0.5939 - val_loss: 1.0192 - val_acc: 0.6944\n",
            "Epoch 38/84\n",
            "19/18 [==============================] - 1s 52ms/step - loss: 1.1221 - acc: 0.5774 - val_loss: 0.9925 - val_acc: 0.6574\n",
            "Epoch 39/84\n",
            "19/18 [==============================] - 1s 51ms/step - loss: 1.0805 - acc: 0.6054 - val_loss: 0.9811 - val_acc: 0.6759\n",
            "Epoch 40/84\n",
            "19/18 [==============================] - 1s 50ms/step - loss: 1.0481 - acc: 0.5945 - val_loss: 1.0042 - val_acc: 0.6296\n",
            "Epoch 41/84\n",
            "19/18 [==============================] - 1s 51ms/step - loss: 1.0208 - acc: 0.6047 - val_loss: 0.9605 - val_acc: 0.6574\n",
            "Epoch 42/84\n",
            "19/18 [==============================] - 1s 51ms/step - loss: 1.0161 - acc: 0.6369 - val_loss: 0.8555 - val_acc: 0.7037\n",
            "Epoch 43/84\n",
            "19/18 [==============================] - 1s 52ms/step - loss: 0.9925 - acc: 0.6404 - val_loss: 0.8614 - val_acc: 0.6944\n",
            "Epoch 44/84\n",
            "19/18 [==============================] - 1s 52ms/step - loss: 1.0492 - acc: 0.6111 - val_loss: 1.0170 - val_acc: 0.6574\n",
            "Epoch 45/84\n",
            "19/18 [==============================] - 1s 51ms/step - loss: 1.0264 - acc: 0.6174 - val_loss: 0.8672 - val_acc: 0.6574\n",
            "Epoch 46/84\n",
            "19/18 [==============================] - 1s 51ms/step - loss: 0.9862 - acc: 0.6397 - val_loss: 1.0826 - val_acc: 0.5926\n",
            "Epoch 47/84\n",
            "19/18 [==============================] - 1s 52ms/step - loss: 0.9030 - acc: 0.6793 - val_loss: 0.8324 - val_acc: 0.6852\n",
            "Epoch 48/84\n",
            "19/18 [==============================] - 1s 51ms/step - loss: 0.8966 - acc: 0.6456 - val_loss: 0.8758 - val_acc: 0.6852\n",
            "Epoch 49/84\n",
            "19/18 [==============================] - 1s 51ms/step - loss: 0.9783 - acc: 0.6169 - val_loss: 0.9150 - val_acc: 0.6667\n",
            "Epoch 50/84\n",
            "19/18 [==============================] - 1s 53ms/step - loss: 0.9121 - acc: 0.6731 - val_loss: 1.0127 - val_acc: 0.6481\n",
            "Epoch 51/84\n",
            "19/18 [==============================] - 1s 54ms/step - loss: 0.9985 - acc: 0.6238 - val_loss: 0.8278 - val_acc: 0.7037\n",
            "Epoch 52/84\n",
            "19/18 [==============================] - 1s 52ms/step - loss: 0.9885 - acc: 0.6511 - val_loss: 0.8301 - val_acc: 0.7037\n",
            "Epoch 53/84\n",
            "19/18 [==============================] - 1s 51ms/step - loss: 0.9405 - acc: 0.6415 - val_loss: 0.8182 - val_acc: 0.7500\n",
            "Epoch 54/84\n",
            "19/18 [==============================] - 1s 52ms/step - loss: 0.8776 - acc: 0.6828 - val_loss: 0.7970 - val_acc: 0.7315\n",
            "Epoch 55/84\n",
            "19/18 [==============================] - 1s 52ms/step - loss: 0.9026 - acc: 0.6770 - val_loss: 0.7568 - val_acc: 0.7407\n",
            "Epoch 56/84\n",
            "19/18 [==============================] - 1s 53ms/step - loss: 0.8341 - acc: 0.7147 - val_loss: 0.6892 - val_acc: 0.7778\n",
            "Epoch 57/84\n",
            "19/18 [==============================] - 1s 52ms/step - loss: 0.8309 - acc: 0.6856 - val_loss: 0.8069 - val_acc: 0.7685\n",
            "Epoch 58/84\n",
            "19/18 [==============================] - 1s 52ms/step - loss: 0.8258 - acc: 0.6999 - val_loss: 0.7674 - val_acc: 0.7407\n",
            "Epoch 59/84\n",
            "19/18 [==============================] - 1s 52ms/step - loss: 0.8753 - acc: 0.6787 - val_loss: 0.7755 - val_acc: 0.7222\n",
            "Epoch 60/84\n",
            "19/18 [==============================] - 1s 52ms/step - loss: 0.7391 - acc: 0.7485 - val_loss: 0.6941 - val_acc: 0.7500\n",
            "Epoch 61/84\n",
            "19/18 [==============================] - 1s 52ms/step - loss: 0.7390 - acc: 0.7114 - val_loss: 0.6770 - val_acc: 0.7778\n",
            "Epoch 62/84\n",
            "19/18 [==============================] - 1s 52ms/step - loss: 0.7448 - acc: 0.7228 - val_loss: 0.6977 - val_acc: 0.7593\n",
            "Epoch 63/84\n",
            "19/18 [==============================] - 1s 52ms/step - loss: 0.7436 - acc: 0.7280 - val_loss: 0.6311 - val_acc: 0.7593\n",
            "Epoch 64/84\n",
            "19/18 [==============================] - 1s 53ms/step - loss: 0.7183 - acc: 0.7360 - val_loss: 0.6854 - val_acc: 0.7500\n",
            "Epoch 65/84\n",
            "19/18 [==============================] - 1s 52ms/step - loss: 0.7622 - acc: 0.7303 - val_loss: 0.6357 - val_acc: 0.7778\n",
            "Epoch 66/84\n",
            "19/18 [==============================] - 1s 52ms/step - loss: 0.7228 - acc: 0.7399 - val_loss: 0.6890 - val_acc: 0.7222\n",
            "Epoch 67/84\n",
            "19/18 [==============================] - 1s 51ms/step - loss: 0.7681 - acc: 0.6896 - val_loss: 0.6783 - val_acc: 0.7500\n",
            "Epoch 68/84\n",
            "19/18 [==============================] - 1s 53ms/step - loss: 0.7821 - acc: 0.7154 - val_loss: 0.6735 - val_acc: 0.7500\n",
            "Epoch 69/84\n",
            "19/18 [==============================] - 1s 51ms/step - loss: 0.6456 - acc: 0.7611 - val_loss: 0.6395 - val_acc: 0.7500\n",
            "Epoch 70/84\n",
            "19/18 [==============================] - 1s 60ms/step - loss: 0.7927 - acc: 0.7170 - val_loss: 0.8562 - val_acc: 0.7407\n",
            "Epoch 71/84\n",
            "19/18 [==============================] - 1s 59ms/step - loss: 0.7131 - acc: 0.7525 - val_loss: 0.5818 - val_acc: 0.7963\n",
            "Epoch 72/84\n",
            "19/18 [==============================] - 1s 59ms/step - loss: 0.6827 - acc: 0.7744 - val_loss: 0.6283 - val_acc: 0.7778\n",
            "Epoch 73/84\n",
            "19/18 [==============================] - 1s 59ms/step - loss: 0.5852 - acc: 0.7881 - val_loss: 0.7281 - val_acc: 0.7685\n",
            "Epoch 74/84\n",
            "19/18 [==============================] - 1s 56ms/step - loss: 0.6646 - acc: 0.7613 - val_loss: 0.7008 - val_acc: 0.7870\n",
            "Epoch 75/84\n",
            "19/18 [==============================] - 1s 51ms/step - loss: 0.6211 - acc: 0.7698 - val_loss: 0.6255 - val_acc: 0.8056\n",
            "Epoch 76/84\n",
            "19/18 [==============================] - 1s 52ms/step - loss: 0.5926 - acc: 0.7813 - val_loss: 0.6294 - val_acc: 0.7870\n",
            "Epoch 77/84\n",
            "19/18 [==============================] - 1s 52ms/step - loss: 0.6819 - acc: 0.7491 - val_loss: 0.6579 - val_acc: 0.7963\n",
            "Epoch 78/84\n",
            "19/18 [==============================] - 1s 55ms/step - loss: 0.6284 - acc: 0.7726 - val_loss: 0.5512 - val_acc: 0.8333\n",
            "Epoch 79/84\n",
            "19/18 [==============================] - 1s 51ms/step - loss: 0.5924 - acc: 0.7737 - val_loss: 0.5991 - val_acc: 0.8056\n",
            "Epoch 80/84\n",
            "19/18 [==============================] - 1s 54ms/step - loss: 0.5863 - acc: 0.7853 - val_loss: 0.6673 - val_acc: 0.7315\n",
            "Epoch 81/84\n",
            "19/18 [==============================] - 1s 52ms/step - loss: 0.6419 - acc: 0.7738 - val_loss: 0.6150 - val_acc: 0.7963\n",
            "Epoch 82/84\n",
            "19/18 [==============================] - 1s 51ms/step - loss: 0.5621 - acc: 0.7961 - val_loss: 0.5350 - val_acc: 0.8148\n",
            "Epoch 83/84\n",
            "19/18 [==============================] - 1s 52ms/step - loss: 0.5432 - acc: 0.8196 - val_loss: 0.5024 - val_acc: 0.8241\n",
            "Epoch 84/84\n",
            "19/18 [==============================] - 1s 51ms/step - loss: 0.6128 - acc: 0.7909 - val_loss: 0.5031 - val_acc: 0.8426\n"
          ],
          "name": "stdout"
        }
      ]
    },
    {
      "cell_type": "markdown",
      "metadata": {
        "id": "VAVIXTsa1ks0",
        "colab_type": "text"
      },
      "source": [
        "# 9.驗證模型"
      ]
    },
    {
      "cell_type": "code",
      "metadata": {
        "id": "s6HpsBQg1jAC",
        "colab_type": "code",
        "outputId": "f9c0fc94-6118-48d7-fed9-e673e62d509f",
        "colab": {
          "base_uri": "https://localhost:8080/",
          "height": 89
        }
      },
      "source": [
        "#print(history.history)\n",
        "\n",
        "# evaluate model\n",
        "score = net_model.evaluate(test_images,test_labels, verbose=1)\n",
        "print(\">>>>>>>>>>>>>>>>>>>>>>>>>>>>>>>>\")\n",
        "print(\"Keras CNN - accuracy: {:.2f}\".format(score[1]))\n",
        "print(\">>>>>>>>>>>>>>>>>>>>>>>>>>>>>>>>\")"
      ],
      "execution_count": 34,
      "outputs": [
        {
          "output_type": "stream",
          "text": [
            "162/162 [==============================] - 0s 1ms/step\n",
            ">>>>>>>>>>>>>>>>>>>>>>>>>>>>>>>>\n",
            "Keras CNN - accuracy: 0.88\n",
            ">>>>>>>>>>>>>>>>>>>>>>>>>>>>>>>>\n"
          ],
          "name": "stdout"
        }
      ]
    },
    {
      "cell_type": "markdown",
      "metadata": {
        "id": "jQB7bz0D5fvO",
        "colab_type": "text"
      },
      "source": [
        "**9.1產生分析圖**"
      ]
    },
    {
      "cell_type": "code",
      "metadata": {
        "id": "ICj_I2S85f6D",
        "colab_type": "code",
        "outputId": "1cf3abcf-d900-42d9-c868-7814d36ff741",
        "colab": {
          "base_uri": "https://localhost:8080/",
          "height": 1153
        }
      },
      "source": [
        "# create figure\n",
        "plot_figure(history,figure_dir,figure_classname)"
      ],
      "execution_count": 35,
      "outputs": [
        {
          "output_type": "display_data",
          "data": {
            "image/png": "[encoded data removed]",
            "text/plain": [
              "<Figure size 576x576 with 1 Axes>"
            ]
          },
          "metadata": {
            "tags": []
          }
        },
        {
          "output_type": "display_data",
          "data": {
            "image/png": "[encoded data removed]",
            "text/plain": [
              "<Figure size 576x576 with 1 Axes>"
            ]
          },
          "metadata": {
            "tags": []
          }
        }
      ]
    },
    {
      "cell_type": "markdown",
      "metadata": {
        "id": "lcHliHQv9a90",
        "colab_type": "text"
      },
      "source": [
        "**9.2儲存神經網路模型**"
      ]
    },
    {
      "cell_type": "code",
      "metadata": {
        "id": "oxX7sA9m9F_x",
        "colab_type": "code",
        "outputId": "2ce3863f-a57d-41ea-9c75-f74e0fe15246",
        "colab": {
          "base_uri": "https://localhost:8080/",
          "height": 142
        }
      },
      "source": [
        "print(\">>>>>>>>>>>>>>>>>>>>>>>>>>>>>>>>\")\n",
        "print(\"h5_Model_Weigth Save Path: {}\".format(h5_model_weight_name))\n",
        "print(\"h5_Model Save Path: {}\".format(h5_model_name))\n",
        "print(\">>>>>>>>>>>>>>>>>>>>>>>>>>>>>>>>\")\n",
        "\n",
        "# save model and weight\n",
        "net_model.save_weights(h5_model_weight_name)\n",
        "net_model.save(h5_model_name)\n",
        "\n",
        "print(\"\\n顯示/content/Model底下檔案清單:\")\n",
        "\n",
        "#顯示/content/Model底下檔案清單\n",
        "!ls '/content/Model'"
      ],
      "execution_count": 36,
      "outputs": [
        {
          "output_type": "stream",
          "text": [
            ">>>>>>>>>>>>>>>>>>>>>>>>>>>>>>>>\n",
            "h5_Model_Weigth Save Path: /content/Model/FaceID_C6_weight.h5\n",
            "h5_Model Save Path: /content/Model/FaceID_C6_model.h5\n",
            ">>>>>>>>>>>>>>>>>>>>>>>>>>>>>>>>\n",
            "\n",
            "顯示/content/Model底下檔案清單:\n",
            "FaceID_C6_model.h5  FaceID_C6_weight.h5\n"
          ],
          "name": "stdout"
        }
      ]
    },
    {
      "cell_type": "code",
      "metadata": {
        "id": "jgUgLNAl9KyQ",
        "colab_type": "code",
        "outputId": "5069f6d1-1102-4e24-b68f-834fc255e961",
        "colab": {
          "base_uri": "https://localhost:8080/",
          "height": 71
        }
      },
      "source": [
        "end_time = '{:.2f}'.format((time.time() - start_time))\n",
        "print(\">>>>>>>>>>>>>>>>>>>>>>>>>>>>>>>>\")\n",
        "print(\"Speed Time: {}s\".format(end_time))\n",
        "print(\">>>>>>>>>>>>>>>>>>>>>>>>>>>>>>>>\")"
      ],
      "execution_count": 37,
      "outputs": [
        {
          "output_type": "stream",
          "text": [
            ">>>>>>>>>>>>>>>>>>>>>>>>>>>>>>>>\n",
            "Speed Time: 102.37s\n",
            ">>>>>>>>>>>>>>>>>>>>>>>>>>>>>>>>\n"
          ],
          "name": "stdout"
        }
      ]
    },
    {
      "cell_type": "markdown",
      "metadata": {
        "id": "qG2Vy6EJF3_H",
        "colab_type": "text"
      },
      "source": [
        "# 10.預測圖片"
      ]
    },
    {
      "cell_type": "markdown",
      "metadata": {
        "id": "xi0SOP9aAtBO",
        "colab_type": "text"
      },
      "source": [
        "**10.1載入模型**"
      ]
    },
    {
      "cell_type": "code",
      "metadata": {
        "id": "R7fPHTXpF4j1",
        "colab_type": "code",
        "colab": {}
      },
      "source": [
        "get_model = Model()\n",
        "\n",
        "# log output file\n",
        "outputfile_path = currentPath + '/log'\n",
        "write_fileName = str(face_class)+\"_prediction_output.txt\"\n",
        "full_outputfile_path = os.path.abspath(os.path.join(outputfile_path + write_fileName))\n",
        "\n",
        "correct_count = 0\n",
        "err_count = 0\n",
        "detail_log = \"\""
      ],
      "execution_count": 0,
      "outputs": []
    },
    {
      "cell_type": "code",
      "metadata": {
        "id": "4-pZP5ImHPxf",
        "colab_type": "code",
        "outputId": "06010109-b202-4121-e1fe-21afcd0e78f3",
        "colab": {
          "base_uri": "https://localhost:8080/",
          "height": 1182
        }
      },
      "source": [
        "start_time = time.time()\n",
        "\n",
        "print(\"Wait for configure operation sources...... \\n\")\n",
        "\n",
        "#--------------------------- load model ---------------------------\n",
        "\n",
        "get_model = load_model(h5_model_name)\n",
        "\n",
        "print('Start Load Model......')\n",
        "      \n",
        "print(\"Model Name: {}\\nPath: {}\".format(\"FaceID_C\" + str(face_class) + \"_model.h5\",h5_model_name))\n",
        "\n",
        "print(\"\\n>>>>>>>>>>>>>>>>>>>>>>>>>>>>>>>>>>>>\")\n",
        "# check model construction\n",
        "print(\"Model layer length: {}\".format(len(get_model.layers)))\n",
        "print(\">>>>>>>>>>>>>>>>>>>>>>>>>>>>>>>>>>>>\\n\")\n",
        "\n",
        "get_model.summary()\n",
        "\n",
        "#-------------------------------------------------------------------"
      ],
      "execution_count": 39,
      "outputs": [
        {
          "output_type": "stream",
          "text": [
            "Wait for configure operation sources...... \n",
            "\n",
            "Start Load Model......\n",
            "Model Name: FaceID_C6_model.h5\n",
            "Path: /content/Model/FaceID_C6_model.h5\n",
            "\n",
            ">>>>>>>>>>>>>>>>>>>>>>>>>>>>>>>>>>>>\n",
            "Model layer length: 24\n",
            ">>>>>>>>>>>>>>>>>>>>>>>>>>>>>>>>>>>>\n",
            "\n",
            "_________________________________________________________________\n",
            "Layer (type)                 Output Shape              Param #   \n",
            "=================================================================\n",
            "conv2d_1 (Conv2D)            (None, 96, 96, 32)        896       \n",
            "_________________________________________________________________\n",
            "activation_1 (Activation)    (None, 96, 96, 32)        0         \n",
            "_________________________________________________________________\n",
            "conv2d_2 (Conv2D)            (None, 96, 96, 32)        9248      \n",
            "_________________________________________________________________\n",
            "activation_2 (Activation)    (None, 96, 96, 32)        0         \n",
            "_________________________________________________________________\n",
            "max_pooling2d_1 (MaxPooling2 (None, 48, 48, 32)        0         \n",
            "_________________________________________________________________\n",
            "dropout_1 (Dropout)          (None, 48, 48, 32)        0         \n",
            "_________________________________________________________________\n",
            "conv2d_3 (Conv2D)            (None, 48, 48, 64)        18496     \n",
            "_________________________________________________________________\n",
            "activation_3 (Activation)    (None, 48, 48, 64)        0         \n",
            "_________________________________________________________________\n",
            "max_pooling2d_2 (MaxPooling2 (None, 24, 24, 64)        0         \n",
            "_________________________________________________________________\n",
            "dropout_2 (Dropout)          (None, 24, 24, 64)        0         \n",
            "_________________________________________________________________\n",
            "conv2d_4 (Conv2D)            (None, 24, 24, 128)       73856     \n",
            "_________________________________________________________________\n",
            "activation_4 (Activation)    (None, 24, 24, 128)       0         \n",
            "_________________________________________________________________\n",
            "max_pooling2d_3 (MaxPooling2 (None, 12, 12, 128)       0         \n",
            "_________________________________________________________________\n",
            "dropout_3 (Dropout)          (None, 12, 12, 128)       0         \n",
            "_________________________________________________________________\n",
            "conv2d_5 (Conv2D)            (None, 12, 12, 256)       295168    \n",
            "_________________________________________________________________\n",
            "activation_5 (Activation)    (None, 12, 12, 256)       0         \n",
            "_________________________________________________________________\n",
            "max_pooling2d_4 (MaxPooling2 (None, 6, 6, 256)         0         \n",
            "_________________________________________________________________\n",
            "dropout_4 (Dropout)          (None, 6, 6, 256)         0         \n",
            "_________________________________________________________________\n",
            "flatten_1 (Flatten)          (None, 9216)              0         \n",
            "_________________________________________________________________\n",
            "dense_1 (Dense)              (None, 1024)              9438208   \n",
            "_________________________________________________________________\n",
            "activation_6 (Activation)    (None, 1024)              0         \n",
            "_________________________________________________________________\n",
            "dropout_5 (Dropout)          (None, 1024)              0         \n",
            "_________________________________________________________________\n",
            "dense_2 (Dense)              (None, 6)                 6150      \n",
            "_________________________________________________________________\n",
            "activation_7 (Activation)    (None, 6)                 0         \n",
            "=================================================================\n",
            "Total params: 9,842,022\n",
            "Trainable params: 9,842,022\n",
            "Non-trainable params: 0\n",
            "_________________________________________________________________\n"
          ],
          "name": "stdout"
        }
      ]
    },
    {
      "cell_type": "markdown",
      "metadata": {
        "colab_type": "text",
        "id": "9cfqV-DAL_UY"
      },
      "source": [
        "**10.2載入預測圖片與進行預測**"
      ]
    },
    {
      "cell_type": "code",
      "metadata": {
        "id": "8bzmvHxzH1ZS",
        "colab_type": "code",
        "outputId": "11344564-2ba7-4095-925e-cb571ad7b8bd",
        "colab": {
          "base_uri": "https://localhost:8080/",
          "height": 2006
        }
      },
      "source": [
        "#--------------------------- load face image -----------------------\n",
        "correct_count = 0\n",
        "err_count = 0\n",
        "detail_log = \"\"\n",
        "temp_log = \"\"\n",
        "\n",
        "with tf.device(n_GPU):\n",
        "\n",
        "    print('Start Load Face Image.\\n')\n",
        "\n",
        "    temp_log='''\n",
        "     --------------------------------------------------------------------------\n",
        "\n",
        "     This is run keras model predict result log.\n",
        "     The face class : [ {} ] and model use [ {} ].     \n",
        "\n",
        "     --------------------------------------------------------------------------\n",
        "     \\n\\n '''.format(face_class , h5_model_name)\n",
        "      \n",
        "    \n",
        "    # 讀取指定的位置下目錄\n",
        "    for dir_list in os.listdir(predict_faceimg_path):\n",
        "\n",
        "        load_start_time = time.time()\n",
        "        \n",
        "        # 產生絕對路徑，將當前指定位置與該位置下的目錄名稱串接一起\n",
        "        full_path = os.path.abspath(os.path.join(predict_faceimg_path+dir_list))\n",
        "        \n",
        "        \n",
        "        #判斷絕對路徑是否為一個目錄資料夾\n",
        "        if os.path.isdir(full_path):\n",
        "            \n",
        "            # 讀取目錄資料夾內檔案\n",
        "            for dir_item in os.listdir(full_path):\n",
        "                   \n",
        "                print('Load Face Image:  {} '.format(dir_item))\n",
        "                \n",
        "                # 產生絕對路徑 ，將目錄資料名稱與目錄資料夾內檔案串接一起\n",
        "                item_path = os.path.abspath(os.path.join(full_path+'/'+dir_item))\n",
        "\n",
        "                #img = image.load_img(full_path)\n",
        "                img = cv2.imread(item_path) # 讀取圖片，使用OpenCV\n",
        "                img = cv2.resize(img,(img_resize,img_resize)) # 重新設置圖片大小\n",
        "                #print('Image size: {}'.format(img.size))\n",
        "\n",
        "                # Image convert to array\n",
        "                img_array = image.img_to_array(img)\n",
        "                #print('Image shape: {}'.format(img_array.shape))\n",
        "\n",
        "                # Image shape change dimensions ex: (640,480,3) --> (None,640,480,3)\n",
        "                img_array = np.expand_dims(img_array, axis=0)\n",
        "                #print('Image change dims shape: {}\\n'.format(img_array.shape))\n",
        "\n",
        "                img_array = img_array.astype('float32')\n",
        "                img_array /= 255\n",
        "\n",
        "                #print(\">>>>>>>>>>>>>>>>>>>>>>>>>>>>>>>>>>>>>>>>>>>>>>>>>>>>>>>>>>>>>>>>>>>>>>>>>>\")\n",
        "                \n",
        "                # 執行模型預測\n",
        "                predict_result = get_model.predict(img_array,batch_size=batch_size,verbose=verbose)\n",
        "                \n",
        "                # 取得該圖片所屬的分類索引\n",
        "                faceindex = np.argmax(predict_result[0])\n",
        "                \n",
        "                # SQL 語法\n",
        "                SQL_select_syntax = '''\n",
        "                SELECT {} FROM {} WHERE {} = '{}'\n",
        "                '''.format(column_facename,db_TableName, column_faceindex, faceindex)\n",
        "                \n",
        "                # 查詢SQLite內的分類索引\n",
        "                SQL_run = curs.execute(SQL_select_syntax)\n",
        "                 \n",
        "                # 取得SQL查詢結果\n",
        "                SQL_result = curs.fetchall()\n",
        "                \n",
        "                #判斷是否有查詢結果\n",
        "                if len(SQL_result) > 0:\n",
        "                    \n",
        "                    #開檔\n",
        "                    filewrite = open(full_outputfile_path, 'w')                \n",
        "\n",
        "                    #print('Face Image Predict result of : {}'.format(SQL_result))\n",
        "\n",
        "                    load_end_time = '{:.2f}'.format((time.time() - load_start_time))\n",
        "                    #print(\"Speed Time: {}s\".format(load_end_time))\n",
        "                    \n",
        "                    # 產生Log訊息\n",
        "                    temp_log += \"\\n\"\n",
        "                    temp_log += \" >>>>>>>>>>>>>>>>>>>>>>>>>>>>>>>>>>>>>>>>>>>>>>>>>>>>>>>>>>>>>>>>>>>>>>>>>>\\n\"\n",
        "                    temp_log += \" Load Face Image:  {}\\n\".format(dir_item)\n",
        "                    temp_log += \" Face Image Predict result of : {} ,[{}]\\n\".format(SQL_result[0][0],faceindex)\n",
        "                    temp_log += \" Speed Time: {}s\\n\".format(load_end_time)\n",
        "                    temp_log += \" >>>>>>>>>>>>>>>>>>>>>>>>>>>>>>>>>>>>>>>>>>>>>>>>>>>>>>>>>>>>>>>>>>>>>>>>>>\\n\"\n",
        "\n",
        "\n",
        "                     #temp_log = temp_log + '''\\n\n",
        "                     #>>>>>>>>>>>>>>>>>>>>>>>>>>>>>>>>>>>>>>>>>>>>>>>>>>>>>>>>>>>>>>>>>>>>>>>>>>\\n\n",
        "                     #\\n\n",
        "                     #Load Face Image:  {}\\n\n",
        "                     #Face Image Predict result of : {} ,[{}]\\n\n",
        "                     #Speed Time: {}s\\n\n",
        "                     #\\n\n",
        "                     #>>>>>>>>>>>>>>>>>>>>>>>>>>>>>>>>>>>>>>>>>>>>>>>>>>>>>>>>>>>>>>>>>>>>>>>>>>\n",
        "                     #\\n\\n\\n\n",
        "                     #'''.format(dir_item,SQL_result,faceindex,load_end_time)\n",
        "\n",
        "                     #print(type(SQL_result))\n",
        "                     #print(SQL_result[0][0])\n",
        "                     #print(dir_list)\n",
        "                    \n",
        "                    # 比對模型預測的結果是否正確\n",
        "                    if dir_list != SQL_result[0][0]:\n",
        "                      \n",
        "                        err_count +=1 # 累加錯誤預測次數\n",
        "                        \n",
        "                        # 產生Log訊息\n",
        "                        detail_log += \"\\t\\t>>>>>>>>>>>>>>>>>>>>>>>>>>>>>>>>>>>>>>>>>>>>>>>>>>>>>>>>>>>>>>\\n\"\n",
        "                        detail_log += ''' \\t\\t\"{}\" Predict ----> {} (X)\\n'''.format(dir_item,SQL_result[0][0])\n",
        "                        detail_log += \"\\t\\t>>>>>>>>>>>>>>>>>>>>>>>>>>>>>>>>>>>>>>>>>>>>>>>>>>>>>>>>>>>>>>\\n\\n\"     \n",
        "                        \n",
        "                    else:\n",
        "                      \n",
        "                        correct_count +=1 # 累加正確預測次數\n",
        "                        \n",
        "                        # 產生Log訊息\n",
        "                        detail_log += ''' \\t\\t\"{}\"  Predict ----> {} (O)\\n\\n'''.format(dir_item,SQL_result[0][0])\n",
        "\n",
        "                    #filewrite.write('''\n",
        "                    #   >>>>>>>>>>>>>>>>>>>>>>>>>>>>>>>>>>>>>>>>>>>>>>>>>>>>>>>>>>>>>>>>>>>>>>>>>>\n",
        "                    #   Load Face Image:  {} \\n\n",
        "                    #   Face Image Predict result of : {} ,[{}]\\n\n",
        "                    #   Speed Time: {}s\\n\n",
        "                    #   >>>>>>>>>>>>>>>>>>>>>>>>>>>>>>>>>>>>>>>>>>>>>>>>>>>>>>>>>>>>>>>>>>>>>>>>>>\n",
        "                    #   \\n\\n\\n\n",
        "                    #'''.format(dir_item,SQL_result,faceindex,load_end_time))\n",
        "                    #filewrite.close()\n",
        "\n",
        "                else:\n",
        "\n",
        "                    print ('Run SQL Error')\n",
        "\n",
        "                    #print(\">>>>>>>>>>>>>>>>>>>>>>>>>>>>>>>>>>>>>>>>>>>>>>>>>>>>>>>>>>>>>>>>>>>>>>>>>>\\n\")\n",
        "\n",
        "\n",
        "    end_time = '{:.2f}'.format((time.time() - start_time))\n",
        "        \n",
        "    # 產生Log訊息\n",
        "    temp_log = temp_log +'''\\n\\nFull Speed Time: {}s\\n\\n'''.format(end_time)\n",
        "    \n",
        "    # 產生Log訊息\n",
        "    detail_log +='''\n",
        "    \\t\\t\\t-------------------------------\n",
        "    \\t\\t\\tPredict Correct count:  {}\n",
        "    \\t\\t\\tPredict Error   count:  {} \n",
        "    \\t\\t\\t-------------------------------\n",
        "    '''.format(correct_count,err_count)\n",
        "    \n",
        "    print(\"\\n <<------------------------------------ 預測結果 ------------------------------------>>\\n{}\".format(detail_log))\n",
        "   # print(detail_log)\n",
        "    \n",
        "    # 寫檔\n",
        "    filewrite.write(temp_log + detail_log)\n",
        "    # 關檔\n",
        "    filewrite.close()\n",
        "\n",
        "    print(\"\\t\\t\\tFull Speed Time: {}s\".format(end_time))\n",
        "\n",
        "    #-------------------------------------------------------------------"
      ],
      "execution_count": 40,
      "outputs": [
        {
          "output_type": "stream",
          "text": [
            "Start Load Face Image.\n",
            "\n",
            "Load Face Image:  Adam Sandler_02.jpg \n",
            "1/1 [==============================] - 0s 222ms/step\n",
            "Load Face Image:  Adam Sandler_04.jpg \n",
            "1/1 [==============================] - 0s 2ms/step\n",
            "Load Face Image:  Adam Sandler_01.jpg \n",
            "1/1 [==============================] - 0s 2ms/step\n",
            "Load Face Image:  Adam Sandler_03.jpg \n",
            "1/1 [==============================] - 0s 2ms/step\n",
            "Load Face Image:  Aaron Judge_04.jpg \n",
            "1/1 [==============================] - 0s 2ms/step\n",
            "Load Face Image:  Aaron Judge_03.jpg \n",
            "1/1 [==============================] - 0s 2ms/step\n",
            "Load Face Image:  Aaron Judge_02.jpg \n",
            "1/1 [==============================] - 0s 2ms/step\n",
            "Load Face Image:  Aaron Judge_01.jpg \n",
            "1/1 [==============================] - 0s 2ms/step\n",
            "Load Face Image:  Jean Reno_02.jpg \n",
            "1/1 [==============================] - 0s 2ms/step\n",
            "Load Face Image:  Jean Reno_01.jpg \n",
            "1/1 [==============================] - 0s 2ms/step\n",
            "Load Face Image:  Jean Reno_03.jpg \n",
            "1/1 [==============================] - 0s 2ms/step\n",
            "Load Face Image:  Jean Reno_04.jpg \n",
            "1/1 [==============================] - 0s 2ms/step\n",
            "Load Face Image:  Emily Watson_04.jpg \n",
            "1/1 [==============================] - 0s 2ms/step\n",
            "Load Face Image:  Emily Watson_01.jpg \n",
            "1/1 [==============================] - 0s 2ms/step\n",
            "Load Face Image:  Emily Watson_02.jpg \n",
            "1/1 [==============================] - 0s 2ms/step\n",
            "Load Face Image:  Emily Watson_03.jpg \n",
            "1/1 [==============================] - 0s 2ms/step\n",
            "Load Face Image:  Ben Stiller_01.jpg \n",
            "1/1 [==============================] - 0s 2ms/step\n",
            "Load Face Image:  Ben Stiller_04.jpg \n",
            "1/1 [==============================] - 0s 3ms/step\n",
            "Load Face Image:  Ben Stiller_02.jpg \n",
            "1/1 [==============================] - 0s 2ms/step\n",
            "Load Face Image:  Ben Stiller_03.jpg \n",
            "1/1 [==============================] - 0s 2ms/step\n",
            "Load Face Image:  Ice Cube_01.jpg \n",
            "1/1 [==============================] - 0s 3ms/step\n",
            "Load Face Image:  Ice Cube_04.jpg \n",
            "1/1 [==============================] - 0s 2ms/step\n",
            "Load Face Image:  Ice Cube_03.jpg \n",
            "1/1 [==============================] - 0s 2ms/step\n",
            "Load Face Image:  Ice Cube_02.jpg \n",
            "1/1 [==============================] - 0s 2ms/step\n",
            "\n",
            " <<------------------------------------ 預測結果 ------------------------------------>>\n",
            " \t\t\"Adam Sandler_02.jpg\"  Predict ----> Adam Sandler (O)\n",
            "\n",
            " \t\t\"Adam Sandler_04.jpg\"  Predict ----> Adam Sandler (O)\n",
            "\n",
            " \t\t\"Adam Sandler_01.jpg\"  Predict ----> Adam Sandler (O)\n",
            "\n",
            " \t\t\"Adam Sandler_03.jpg\"  Predict ----> Adam Sandler (O)\n",
            "\n",
            "\t\t>>>>>>>>>>>>>>>>>>>>>>>>>>>>>>>>>>>>>>>>>>>>>>>>>>>>>>>>>>>>>>\n",
            " \t\t\"Aaron Judge_04.jpg\" Predict ----> Jean Reno (X)\n",
            "\t\t>>>>>>>>>>>>>>>>>>>>>>>>>>>>>>>>>>>>>>>>>>>>>>>>>>>>>>>>>>>>>>\n",
            "\n",
            " \t\t\"Aaron Judge_03.jpg\"  Predict ----> Aaron Judge (O)\n",
            "\n",
            " \t\t\"Aaron Judge_02.jpg\"  Predict ----> Aaron Judge (O)\n",
            "\n",
            " \t\t\"Aaron Judge_01.jpg\"  Predict ----> Aaron Judge (O)\n",
            "\n",
            " \t\t\"Jean Reno_02.jpg\"  Predict ----> Jean Reno (O)\n",
            "\n",
            " \t\t\"Jean Reno_01.jpg\"  Predict ----> Jean Reno (O)\n",
            "\n",
            " \t\t\"Jean Reno_03.jpg\"  Predict ----> Jean Reno (O)\n",
            "\n",
            " \t\t\"Jean Reno_04.jpg\"  Predict ----> Jean Reno (O)\n",
            "\n",
            " \t\t\"Emily Watson_04.jpg\"  Predict ----> Emily Watson (O)\n",
            "\n",
            " \t\t\"Emily Watson_01.jpg\"  Predict ----> Emily Watson (O)\n",
            "\n",
            " \t\t\"Emily Watson_02.jpg\"  Predict ----> Emily Watson (O)\n",
            "\n",
            " \t\t\"Emily Watson_03.jpg\"  Predict ----> Emily Watson (O)\n",
            "\n",
            " \t\t\"Ben Stiller_01.jpg\"  Predict ----> Ben Stiller (O)\n",
            "\n",
            " \t\t\"Ben Stiller_04.jpg\"  Predict ----> Ben Stiller (O)\n",
            "\n",
            " \t\t\"Ben Stiller_02.jpg\"  Predict ----> Ben Stiller (O)\n",
            "\n",
            " \t\t\"Ben Stiller_03.jpg\"  Predict ----> Ben Stiller (O)\n",
            "\n",
            " \t\t\"Ice Cube_01.jpg\"  Predict ----> Ice Cube (O)\n",
            "\n",
            " \t\t\"Ice Cube_04.jpg\"  Predict ----> Ice Cube (O)\n",
            "\n",
            " \t\t\"Ice Cube_03.jpg\"  Predict ----> Ice Cube (O)\n",
            "\n",
            "\t\t>>>>>>>>>>>>>>>>>>>>>>>>>>>>>>>>>>>>>>>>>>>>>>>>>>>>>>>>>>>>>>\n",
            " \t\t\"Ice Cube_02.jpg\" Predict ----> Jean Reno (X)\n",
            "\t\t>>>>>>>>>>>>>>>>>>>>>>>>>>>>>>>>>>>>>>>>>>>>>>>>>>>>>>>>>>>>>>\n",
            "\n",
            "\n",
            "    \t\t\t-------------------------------\n",
            "    \t\t\tPredict Correct count:  22\n",
            "    \t\t\tPredict Error   count:  2 \n",
            "    \t\t\t-------------------------------\n",
            "    \n",
            "\t\t\tFull Speed Time: 2.65s\n"
          ],
          "name": "stdout"
        }
      ]
    }
  ]
}